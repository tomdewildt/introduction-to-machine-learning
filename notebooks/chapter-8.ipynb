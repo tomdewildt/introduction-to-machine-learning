{
 "cells": [
  {
   "cell_type": "markdown",
   "id": "occupied-moore",
   "metadata": {},
   "source": [
    "# Chapter 8: Generated, MNIST & Swiss Roll\n",
    "\n",
    "This notebook contains the code for chapter 8 of the Hands-on Machine Learning with Scikit-Learn, Keras & Tensorflow book."
   ]
  },
  {
   "cell_type": "code",
   "execution_count": 1,
   "id": "lucky-command",
   "metadata": {},
   "outputs": [],
   "source": [
    "from sklearn.decomposition import IncrementalPCA, KernelPCA, PCA\n",
    "from sklearn.metrics import accuracy_score, mean_squared_error\n",
    "from sklearn.datasets import fetch_openml, make_swiss_roll\n",
    "from sklearn.model_selection import train_test_split\n",
    "from sklearn.linear_model import LogisticRegression\n",
    "from sklearn.manifold import LocallyLinearEmbedding\n",
    "from sklearn.ensemble import RandomForestClassifier\n",
    "from sklearn.model_selection import GridSearchCV\n",
    "from sklearn.pipeline import Pipeline\n",
    "\n",
    "import numpy as np"
   ]
  },
  {
   "cell_type": "markdown",
   "id": "express-dancing",
   "metadata": {},
   "source": [
    "## Global configuration"
   ]
  },
  {
   "cell_type": "code",
   "execution_count": 2,
   "id": "ethical-clark",
   "metadata": {},
   "outputs": [],
   "source": [
    "MNIST_DATA_NAME = \"mnist_784\"\n",
    "MNIST_DATA_VERSION = 1\n",
    "\n",
    "RANDOM_SEED = 42\n",
    "\n",
    "JOB_COUNT = 3"
   ]
  },
  {
   "cell_type": "code",
   "execution_count": 3,
   "id": "lesser-current",
   "metadata": {},
   "outputs": [],
   "source": [
    "np.random.seed(RANDOM_SEED)"
   ]
  },
  {
   "cell_type": "markdown",
   "id": "c535ff44",
   "metadata": {},
   "source": [
    "## Generate <ins>3d</ins> data"
   ]
  },
  {
   "cell_type": "code",
   "execution_count": 4,
   "id": "86db1b46",
   "metadata": {},
   "outputs": [],
   "source": [
    "m = 60\n",
    "w1 = 0.1\n",
    "w2 = 0.3\n",
    "noise = 0.1\n",
    "\n",
    "angles = np.random.rand(m) * 3 * np.pi / 2 - 0.5\n",
    "\n",
    "X = np.empty((m, 3))\n",
    "X[:, 0] = np.cos(angles) + np.sin(angles)/2 + noise * np.random.randn(m) / 2\n",
    "X[:, 1] = np.sin(angles) * 0.7 + noise * np.random.randn(m) / 2\n",
    "X[:, 2] = X[:, 0] * w1 + X[:, 1] * w2 + noise * np.random.randn(m)"
   ]
  },
  {
   "cell_type": "markdown",
   "id": "24818bdb",
   "metadata": {},
   "source": [
    "## Reduce dimensionality <ins>pca</ins> (numpy)"
   ]
  },
  {
   "cell_type": "code",
   "execution_count": 5,
   "id": "83877e83",
   "metadata": {},
   "outputs": [],
   "source": [
    "X_centered = X - X.mean(axis=0)\n",
    "U, s, Vt = np.linalg.svd(X_centered)\n",
    "\n",
    "c1 = Vt.T[:, 0]\n",
    "c2 = Vt.T[:, 1]"
   ]
  },
  {
   "cell_type": "code",
   "execution_count": 6,
   "id": "0f2676ef",
   "metadata": {},
   "outputs": [
    {
     "name": "stdout",
     "output_type": "stream",
     "text": [
      "CPU times: user 17 µs, sys: 40 µs, total: 57 µs\n",
      "Wall time: 59.6 µs\n"
     ]
    }
   ],
   "source": [
    "%%time\n",
    "X_reduced = X_centered.dot(Vt.T[:, :2])"
   ]
  },
  {
   "cell_type": "markdown",
   "id": "910c8b9f",
   "metadata": {},
   "source": [
    "## Reduce dimensionality <ins>pca</ins> (scikit-learn)"
   ]
  },
  {
   "cell_type": "code",
   "execution_count": 7,
   "id": "7a846c1e",
   "metadata": {},
   "outputs": [],
   "source": [
    "pca = PCA(n_components = 2)"
   ]
  },
  {
   "cell_type": "code",
   "execution_count": 8,
   "id": "4c34f86f",
   "metadata": {},
   "outputs": [
    {
     "name": "stdout",
     "output_type": "stream",
     "text": [
      "CPU times: user 229 µs, sys: 532 µs, total: 761 µs\n",
      "Wall time: 584 µs\n"
     ]
    }
   ],
   "source": [
    "%%time\n",
    "X_reduced = pca.fit_transform(X)"
   ]
  },
  {
   "cell_type": "code",
   "execution_count": 9,
   "id": "cbfc4a0d",
   "metadata": {},
   "outputs": [
    {
     "data": {
      "text/plain": [
       "array([0.85406025, 0.13622918])"
      ]
     },
     "execution_count": 9,
     "metadata": {},
     "output_type": "execute_result"
    }
   ],
   "source": [
    "pca.explained_variance_ratio_"
   ]
  },
  {
   "cell_type": "markdown",
   "id": "c099979f",
   "metadata": {},
   "source": [
    "## Load <ins>MNIST</ins> data"
   ]
  },
  {
   "cell_type": "code",
   "execution_count": 10,
   "id": "53a16f64",
   "metadata": {},
   "outputs": [],
   "source": [
    "mnist = fetch_openml(MNIST_DATA_NAME, version=MNIST_DATA_VERSION, as_frame=False)"
   ]
  },
  {
   "cell_type": "code",
   "execution_count": 11,
   "id": "305e319d",
   "metadata": {},
   "outputs": [],
   "source": [
    "X, y = mnist[\"data\"], mnist[\"target\"]"
   ]
  },
  {
   "cell_type": "markdown",
   "id": "e215a130",
   "metadata": {},
   "source": [
    "## Split <ins>MNIST</ins> data"
   ]
  },
  {
   "cell_type": "code",
   "execution_count": 12,
   "id": "b8540d30",
   "metadata": {},
   "outputs": [],
   "source": [
    "X_train, X_test, y_train, y_test = train_test_split(X, y)"
   ]
  },
  {
   "cell_type": "markdown",
   "id": "03f16fc8",
   "metadata": {},
   "source": [
    "## Reduce dimensionality <ins>pca</ins>"
   ]
  },
  {
   "cell_type": "code",
   "execution_count": 13,
   "id": "6d657d80",
   "metadata": {},
   "outputs": [],
   "source": [
    "pca = PCA(n_components=0.95)"
   ]
  },
  {
   "cell_type": "code",
   "execution_count": 14,
   "id": "be131929",
   "metadata": {},
   "outputs": [
    {
     "name": "stdout",
     "output_type": "stream",
     "text": [
      "CPU times: user 35.9 s, sys: 9.82 s, total: 45.8 s\n",
      "Wall time: 3.35 s\n"
     ]
    }
   ],
   "source": [
    "%%time\n",
    "X_train_reduced = pca.fit_transform(X_train)"
   ]
  },
  {
   "cell_type": "markdown",
   "id": "f56bc82f",
   "metadata": {},
   "source": [
    "## Increase dimensionality <ins>pca</ins>"
   ]
  },
  {
   "cell_type": "code",
   "execution_count": 15,
   "id": "436ae6f7",
   "metadata": {},
   "outputs": [],
   "source": [
    "X_train_recovered = pca.inverse_transform(X_train_reduced)"
   ]
  },
  {
   "cell_type": "markdown",
   "id": "658d7337",
   "metadata": {},
   "source": [
    "## Reduce dimensionality <ins>randomized pca</ins>"
   ]
  },
  {
   "cell_type": "code",
   "execution_count": 16,
   "id": "8199b45c",
   "metadata": {},
   "outputs": [],
   "source": [
    "rnd_pca = PCA(n_components=154, svd_solver=\"randomized\")"
   ]
  },
  {
   "cell_type": "code",
   "execution_count": 17,
   "id": "1246ac62",
   "metadata": {},
   "outputs": [
    {
     "name": "stdout",
     "output_type": "stream",
     "text": [
      "CPU times: user 31.5 s, sys: 28.3 s, total: 59.8 s\n",
      "Wall time: 4.05 s\n"
     ]
    }
   ],
   "source": [
    "%%time\n",
    "X_train_reduced = rnd_pca.fit_transform(X_train)"
   ]
  },
  {
   "cell_type": "markdown",
   "id": "fd4cc6de",
   "metadata": {},
   "source": [
    "## Reduce dimensionality <ins>incremental pca</ins>"
   ]
  },
  {
   "cell_type": "code",
   "execution_count": 18,
   "id": "73d0efe2",
   "metadata": {},
   "outputs": [],
   "source": [
    "inc_pca = IncrementalPCA(n_components=154)"
   ]
  },
  {
   "cell_type": "code",
   "execution_count": 19,
   "id": "3ec798c2",
   "metadata": {},
   "outputs": [
    {
     "name": "stdout",
     "output_type": "stream",
     "text": [
      "CPU times: user 2min 2s, sys: 2min 43s, total: 4min 46s\n",
      "Wall time: 18.6 s\n"
     ]
    }
   ],
   "source": [
    "%%time\n",
    "n_batches = 100\n",
    "\n",
    "for X_train_batch in np.array_split(X_train, n_batches):\n",
    "    inc_pca.partial_fit(X_train_batch)"
   ]
  },
  {
   "cell_type": "code",
   "execution_count": 20,
   "id": "ee900da3",
   "metadata": {},
   "outputs": [],
   "source": [
    "X_train_reduced = inc_pca.transform(X_train)"
   ]
  },
  {
   "cell_type": "markdown",
   "id": "c3fd6a77",
   "metadata": {},
   "source": [
    "## Load <ins>swiss roll</ins> data"
   ]
  },
  {
   "cell_type": "code",
   "execution_count": 21,
   "id": "91b06160",
   "metadata": {},
   "outputs": [],
   "source": [
    "X, t = make_swiss_roll(n_samples=1000, noise=0.2, random_state=RANDOM_SEED)"
   ]
  },
  {
   "cell_type": "code",
   "execution_count": 22,
   "id": "9f9db660",
   "metadata": {},
   "outputs": [],
   "source": [
    "X, y = X, t > 6.9"
   ]
  },
  {
   "cell_type": "markdown",
   "id": "d25fffc5",
   "metadata": {},
   "source": [
    "## Reduce dimensionality <ins>kernel pca</ins>"
   ]
  },
  {
   "cell_type": "code",
   "execution_count": 23,
   "id": "663c528a",
   "metadata": {},
   "outputs": [],
   "source": [
    "rbf_pca = KernelPCA(n_components = 2, kernel=\"rbf\", gamma=0.04)"
   ]
  },
  {
   "cell_type": "code",
   "execution_count": 24,
   "id": "22110c27",
   "metadata": {},
   "outputs": [
    {
     "name": "stdout",
     "output_type": "stream",
     "text": [
      "CPU times: user 295 ms, sys: 1.04 s, total: 1.34 s\n",
      "Wall time: 87.4 ms\n"
     ]
    }
   ],
   "source": [
    "%%time\n",
    "X_reduced = rbf_pca.fit_transform(X)"
   ]
  },
  {
   "cell_type": "markdown",
   "id": "07ba04a0",
   "metadata": {},
   "source": [
    "## Train <ins>logistic regression</ins> model"
   ]
  },
  {
   "cell_type": "code",
   "execution_count": 25,
   "id": "71a2cc09",
   "metadata": {},
   "outputs": [],
   "source": [
    "lr_model = Pipeline([\n",
    "    (\"kernel_pca\", KernelPCA(n_components=2)),\n",
    "    (\"logistic_regression\", LogisticRegression())\n",
    "])"
   ]
  },
  {
   "cell_type": "code",
   "execution_count": 26,
   "id": "50ad8988",
   "metadata": {},
   "outputs": [],
   "source": [
    "parameters = [{\n",
    "    \"kernel_pca__gamma\": np.linspace(0.03, 0.05, 10),\n",
    "    \"kernel_pca__kernel\": [\"rbf\", \"sigmoid\"],\n",
    "}]"
   ]
  },
  {
   "cell_type": "code",
   "execution_count": 27,
   "id": "731ccf23",
   "metadata": {},
   "outputs": [],
   "source": [
    "grid_search = GridSearchCV(lr_model, parameters, cv=3, n_jobs=JOB_COUNT)"
   ]
  },
  {
   "cell_type": "code",
   "execution_count": 28,
   "id": "65676f72",
   "metadata": {},
   "outputs": [
    {
     "name": "stdout",
     "output_type": "stream",
     "text": [
      "CPU times: user 324 ms, sys: 624 ms, total: 947 ms\n",
      "Wall time: 1.97 s\n"
     ]
    },
    {
     "data": {
      "text/plain": [
       "GridSearchCV(cv=3,\n",
       "             estimator=Pipeline(steps=[('kernel_pca',\n",
       "                                        KernelPCA(n_components=2)),\n",
       "                                       ('logistic_regression',\n",
       "                                        LogisticRegression())]),\n",
       "             n_jobs=3,\n",
       "             param_grid=[{'kernel_pca__gamma': array([0.03      , 0.03222222, 0.03444444, 0.03666667, 0.03888889,\n",
       "       0.04111111, 0.04333333, 0.04555556, 0.04777778, 0.05      ]),\n",
       "                          'kernel_pca__kernel': ['rbf', 'sigmoid']}])"
      ]
     },
     "execution_count": 28,
     "metadata": {},
     "output_type": "execute_result"
    }
   ],
   "source": [
    "%%time\n",
    "grid_search.fit(X, y)"
   ]
  },
  {
   "cell_type": "code",
   "execution_count": 29,
   "id": "69d8f404",
   "metadata": {},
   "outputs": [
    {
     "data": {
      "text/plain": [
       "{'kernel_pca__gamma': 0.043333333333333335, 'kernel_pca__kernel': 'rbf'}"
      ]
     },
     "execution_count": 29,
     "metadata": {},
     "output_type": "execute_result"
    }
   ],
   "source": [
    "grid_search.best_params_"
   ]
  },
  {
   "cell_type": "markdown",
   "id": "89cb73ca",
   "metadata": {},
   "source": [
    "## Reduce dimensionality <ins>kernel pca</ins>"
   ]
  },
  {
   "cell_type": "code",
   "execution_count": 30,
   "id": "3303b516",
   "metadata": {},
   "outputs": [],
   "source": [
    "rbf_pca = KernelPCA(n_components = 2, kernel=\"rbf\", gamma=0.0433, fit_inverse_transform=True)"
   ]
  },
  {
   "cell_type": "code",
   "execution_count": 31,
   "id": "6023aeaf",
   "metadata": {},
   "outputs": [
    {
     "name": "stdout",
     "output_type": "stream",
     "text": [
      "CPU times: user 625 ms, sys: 1.65 s, total: 2.28 s\n",
      "Wall time: 147 ms\n"
     ]
    }
   ],
   "source": [
    "%%time\n",
    "X_reduced = rbf_pca.fit_transform(X)"
   ]
  },
  {
   "cell_type": "code",
   "execution_count": 32,
   "id": "24858fb2",
   "metadata": {},
   "outputs": [],
   "source": [
    "X_recovered = rbf_pca.inverse_transform(X_reduced)"
   ]
  },
  {
   "cell_type": "markdown",
   "id": "1a1d27ca",
   "metadata": {},
   "source": [
    "## Evaluate dimensionality reduction <ins>kernel pca</ins> (reconstruction error)"
   ]
  },
  {
   "cell_type": "code",
   "execution_count": 33,
   "id": "e31ccee8",
   "metadata": {
    "scrolled": true
   },
   "outputs": [
    {
     "data": {
      "text/plain": [
       "1.4105508609793482e-26"
      ]
     },
     "execution_count": 33,
     "metadata": {},
     "output_type": "execute_result"
    }
   ],
   "source": [
    "mean_squared_error(X, X_recovered)"
   ]
  },
  {
   "cell_type": "markdown",
   "id": "00ea5d17",
   "metadata": {},
   "source": [
    "## Reduce dimensionality <ins>lle</ins>"
   ]
  },
  {
   "cell_type": "code",
   "execution_count": 34,
   "id": "20030116",
   "metadata": {},
   "outputs": [],
   "source": [
    "lle = LocallyLinearEmbedding(n_components=2, n_neighbors=10)"
   ]
  },
  {
   "cell_type": "code",
   "execution_count": 35,
   "id": "e7bb1c1e",
   "metadata": {},
   "outputs": [
    {
     "name": "stdout",
     "output_type": "stream",
     "text": [
      "CPU times: user 464 ms, sys: 1.15 s, total: 1.61 s\n",
      "Wall time: 132 ms\n"
     ]
    }
   ],
   "source": [
    "%%time\n",
    "X_reduced = lle.fit_transform(X)"
   ]
  },
  {
   "cell_type": "markdown",
   "id": "c431802d",
   "metadata": {},
   "source": [
    "# Exercises"
   ]
  },
  {
   "cell_type": "markdown",
   "id": "2b532f64",
   "metadata": {},
   "source": [
    "1. What are the main motivations for reducing a dataset’s dimensionality? What are the main drawbacks?"
   ]
  },
  {
   "cell_type": "markdown",
   "id": "bcb489c1",
   "metadata": {},
   "source": [
    "**Solution**\n",
    "\n",
    "Pros:\n",
    " * Speed up training (and remove noise and redundant features in some cases)\n",
    " * Easier for visualizing data\n",
    " * Saves space (and memory)\n",
    "\n",
    "Cons:\n",
    " * Some information is lost\n",
    " * Can be computationally intensive\n",
    " * Adds complexity to pipeline\n",
    " * Transformed features are hard to interpret"
   ]
  },
  {
   "cell_type": "markdown",
   "id": "de223eda",
   "metadata": {},
   "source": [
    "2. What is the curse of dimensionality?"
   ]
  },
  {
   "cell_type": "markdown",
   "id": "f9377ab2",
   "metadata": {},
   "source": [
    "**Solution**\n",
    "\n",
    "The curse of dimensionality is the fact many problems do not exist in lowdimensional space but in highdimensional space."
   ]
  },
  {
   "cell_type": "markdown",
   "id": "670c2972",
   "metadata": {},
   "source": [
    "3. Once a dataset’s dimensionality has been reduced, is it possible to reverse the operation? If so, how? If not, why?"
   ]
  },
  {
   "cell_type": "markdown",
   "id": "479646eb",
   "metadata": {},
   "source": [
    "**Solution**\n",
    "\n",
    "It is not possible to exactly reverse the operation because some information gets lost during the dimensionality reduction."
   ]
  },
  {
   "cell_type": "markdown",
   "id": "85150ecf",
   "metadata": {},
   "source": [
    "4. Can PCA be used to reduce the dimensionality of a highly nonlinear dataset?"
   ]
  },
  {
   "cell_type": "markdown",
   "id": "3b3b006f",
   "metadata": {},
   "source": [
    "**Solution**\n",
    "\n",
    "Yes, PCA can be used to reduce the dimensionality nonlinear datasets."
   ]
  },
  {
   "cell_type": "markdown",
   "id": "31c382df",
   "metadata": {},
   "source": [
    "5. Suppose you perform PCA on a 1,000-dimensional dataset, setting the explained variance ratio to 95%. How many dimensions will the resulting dataset have?"
   ]
  },
  {
   "cell_type": "markdown",
   "id": "10bfacea",
   "metadata": {},
   "source": [
    "**Solution**\n",
    "\n",
    "That depends on the dataset. If all the points are perfectly aligned PCA can reduce the dataset down to one dimension. If all the points are perfeclty random than PCA would roughly need 950 dimensions."
   ]
  },
  {
   "cell_type": "markdown",
   "id": "814e4961",
   "metadata": {},
   "source": [
    "6. In what cases would you use vanilla PCA, Incremental PCA, Randomized PCA, or Kernel PCA?"
   ]
  },
  {
   "cell_type": "markdown",
   "id": "c327e40f",
   "metadata": {},
   "source": [
    "**Solution**\n",
    "\n",
    "Vanilla PCA: if the dataset fits in memory.\n",
    "\n",
    "Incremental PCA: if the dataset doesn't fit in memory.\n",
    "\n",
    "Randomized PCA: if the dataset fits in memory and the dimensions need to be considerably reduced.\n",
    "\n",
    "Kernel PCA: if the dataset is nonlinear."
   ]
  },
  {
   "cell_type": "markdown",
   "id": "aa5696f8",
   "metadata": {},
   "source": [
    "7. How can you evaluate the performance of a dimensionality reduction algorithm on your dataset?"
   ]
  },
  {
   "cell_type": "markdown",
   "id": "001e91a9",
   "metadata": {},
   "source": [
    "**Solution**\n",
    "\n",
    "By using the reconstruction error or if the dimensionality reduction algorithm is used as a preprocessing step then the performance of the second algorithm can be used."
   ]
  },
  {
   "cell_type": "markdown",
   "id": "4f2eb02e",
   "metadata": {},
   "source": [
    "8. Does it make any sense to chain two different dimensionality reduction algorithms?"
   ]
  },
  {
   "cell_type": "markdown",
   "id": "13a054d3",
   "metadata": {},
   "source": [
    "**Solution**\n",
    "\n",
    "Yes, there are various types of dimensionality reduction algorithms so it could be handy to apply a rough algorithm first and then a more fine algorithm after the rough algorithm."
   ]
  },
  {
   "cell_type": "markdown",
   "id": "003b7f91",
   "metadata": {},
   "source": [
    "9. Load the MNIST dataset (introduced in Chapter 3) and split it into a training set and a test set (take the first 60,000 instances for training, and the remaining 10,000 for testing). Train a Random Forest classifier on the dataset and time how long it takes, then evaluate the resulting model on the test set. Next, use PCA to reduce the dataset’s dimensionality, with an explained variance ratio of 95%. Train a new Random Forest classifier on the reduced dataset and see how long it takes. Was training much faster? Next evaluate the classifier on the test set: how does it compare to the previous classifier?"
   ]
  },
  {
   "cell_type": "markdown",
   "id": "63688610",
   "metadata": {},
   "source": [
    "**Solution**"
   ]
  },
  {
   "cell_type": "markdown",
   "id": "dec9dd7a",
   "metadata": {},
   "source": [
    "### Load"
   ]
  },
  {
   "cell_type": "code",
   "execution_count": 36,
   "id": "a402b2e2",
   "metadata": {},
   "outputs": [],
   "source": [
    "X_train = mnist['data'][:60000]\n",
    "y_train = mnist['target'][:60000]\n",
    "\n",
    "X_test = mnist['data'][60000:]\n",
    "y_test = mnist['target'][60000:]"
   ]
  },
  {
   "cell_type": "markdown",
   "id": "fa1351d1",
   "metadata": {},
   "source": [
    "### Train"
   ]
  },
  {
   "cell_type": "code",
   "execution_count": 37,
   "id": "f713111c",
   "metadata": {},
   "outputs": [],
   "source": [
    "rf_model = RandomForestClassifier(n_estimators=100, random_state=RANDOM_SEED)"
   ]
  },
  {
   "cell_type": "code",
   "execution_count": 38,
   "id": "0f88c97a",
   "metadata": {},
   "outputs": [
    {
     "name": "stdout",
     "output_type": "stream",
     "text": [
      "CPU times: user 29.2 s, sys: 1.08 s, total: 30.3 s\n",
      "Wall time: 28.9 s\n"
     ]
    },
    {
     "data": {
      "text/plain": [
       "RandomForestClassifier(random_state=42)"
      ]
     },
     "execution_count": 38,
     "metadata": {},
     "output_type": "execute_result"
    }
   ],
   "source": [
    "%%time\n",
    "rf_model.fit(X_train, y_train)"
   ]
  },
  {
   "cell_type": "markdown",
   "id": "34fdde14",
   "metadata": {},
   "source": [
    "### Evaluate"
   ]
  },
  {
   "cell_type": "code",
   "execution_count": 39,
   "id": "7f39070f",
   "metadata": {},
   "outputs": [
    {
     "name": "stdout",
     "output_type": "stream",
     "text": [
      "CPU times: user 225 ms, sys: 4.79 ms, total: 230 ms\n",
      "Wall time: 229 ms\n"
     ]
    }
   ],
   "source": [
    "%%time\n",
    "y_test_predictions = rf_model.predict(X_test)"
   ]
  },
  {
   "cell_type": "code",
   "execution_count": 40,
   "id": "e268b920",
   "metadata": {},
   "outputs": [
    {
     "data": {
      "text/plain": [
       "0.9705"
      ]
     },
     "execution_count": 40,
     "metadata": {},
     "output_type": "execute_result"
    }
   ],
   "source": [
    "accuracy_score(y_test, y_test_predictions)"
   ]
  },
  {
   "cell_type": "markdown",
   "id": "de489398",
   "metadata": {},
   "source": [
    "### Dimensionality"
   ]
  },
  {
   "cell_type": "code",
   "execution_count": 41,
   "id": "911aeafe",
   "metadata": {},
   "outputs": [],
   "source": [
    "pca = PCA(n_components=0.95)"
   ]
  },
  {
   "cell_type": "code",
   "execution_count": 42,
   "id": "195a3610",
   "metadata": {},
   "outputs": [
    {
     "name": "stdout",
     "output_type": "stream",
     "text": [
      "CPU times: user 43.9 s, sys: 13.3 s, total: 57.2 s\n",
      "Wall time: 4.08 s\n"
     ]
    },
    {
     "data": {
      "text/plain": [
       "PCA(n_components=0.95)"
      ]
     },
     "execution_count": 42,
     "metadata": {},
     "output_type": "execute_result"
    }
   ],
   "source": [
    "%%time\n",
    "pca.fit(X_train)"
   ]
  },
  {
   "cell_type": "code",
   "execution_count": 43,
   "id": "39e33494",
   "metadata": {},
   "outputs": [],
   "source": [
    "X_train_reduced = pca.transform(X_train)"
   ]
  },
  {
   "cell_type": "code",
   "execution_count": 44,
   "id": "c41c0e01",
   "metadata": {},
   "outputs": [],
   "source": [
    "X_test_reduced = pca.transform(X_test)"
   ]
  },
  {
   "cell_type": "markdown",
   "id": "f2889cfa",
   "metadata": {},
   "source": [
    "### Train"
   ]
  },
  {
   "cell_type": "code",
   "execution_count": 45,
   "id": "a5028dfc",
   "metadata": {},
   "outputs": [],
   "source": [
    "rf_model = RandomForestClassifier(n_estimators=100, random_state=RANDOM_SEED)"
   ]
  },
  {
   "cell_type": "code",
   "execution_count": 46,
   "id": "4f6b8358",
   "metadata": {},
   "outputs": [
    {
     "name": "stdout",
     "output_type": "stream",
     "text": [
      "CPU times: user 1min 12s, sys: 1.23 s, total: 1min 13s\n",
      "Wall time: 1min 12s\n"
     ]
    },
    {
     "data": {
      "text/plain": [
       "RandomForestClassifier(random_state=42)"
      ]
     },
     "execution_count": 46,
     "metadata": {},
     "output_type": "execute_result"
    }
   ],
   "source": [
    "%%time\n",
    "rf_model.fit(X_train_reduced, y_train)"
   ]
  },
  {
   "cell_type": "markdown",
   "id": "fd383c5b",
   "metadata": {},
   "source": [
    "### Evaluate"
   ]
  },
  {
   "cell_type": "code",
   "execution_count": 47,
   "id": "5fb66179",
   "metadata": {},
   "outputs": [
    {
     "name": "stdout",
     "output_type": "stream",
     "text": [
      "CPU times: user 200 ms, sys: 0 ns, total: 200 ms\n",
      "Wall time: 198 ms\n"
     ]
    }
   ],
   "source": [
    "%%time\n",
    "y_test_predictions = rf_model.predict(X_test_reduced)"
   ]
  },
  {
   "cell_type": "code",
   "execution_count": 48,
   "id": "71edeb65",
   "metadata": {},
   "outputs": [
    {
     "data": {
      "text/plain": [
       "0.9481"
      ]
     },
     "execution_count": 48,
     "metadata": {},
     "output_type": "execute_result"
    }
   ],
   "source": [
    "accuracy_score(y_test, y_test_predictions)"
   ]
  }
 ],
 "metadata": {
  "kernelspec": {
   "display_name": "Python 3",
   "language": "python",
   "name": "python3"
  },
  "language_info": {
   "codemirror_mode": {
    "name": "ipython",
    "version": 3
   },
   "file_extension": ".py",
   "mimetype": "text/x-python",
   "name": "python",
   "nbconvert_exporter": "python",
   "pygments_lexer": "ipython3",
   "version": "3.8.5"
  }
 },
 "nbformat": 4,
 "nbformat_minor": 5
}
