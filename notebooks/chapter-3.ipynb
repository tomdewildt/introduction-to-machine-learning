{
 "cells": [
  {
   "cell_type": "markdown",
   "id": "amber-sender",
   "metadata": {},
   "source": [
    "# Chapter 3: MNIST & Titanic\n",
    "\n",
    "This notebook contains the code for chapter 3 of the Hands-on Machine Learning with Scikit-Learn, Keras & Tensorflow book."
   ]
  },
  {
   "cell_type": "code",
   "execution_count": 1,
   "id": "demonstrated-curtis",
   "metadata": {},
   "outputs": [],
   "source": [
    "from sklearn.model_selection import GridSearchCV, StratifiedKFold, cross_val_predict, cross_val_score\n",
    "from sklearn.preprocessing import OneHotEncoder, StandardScaler\n",
    "from sklearn.base import BaseEstimator, TransformerMixin\n",
    "from sklearn.pipeline import FeatureUnion, Pipeline\n",
    "from sklearn.ensemble import RandomForestClassifier\n",
    "from sklearn.neighbors import KNeighborsClassifier\n",
    "from sklearn.multiclass import OneVsOneClassifier\n",
    "from sklearn.linear_model import SGDClassifier\n",
    "from sklearn.base import BaseEstimator, clone\n",
    "from sklearn.datasets import fetch_openml\n",
    "from sklearn.impute import SimpleImputer\n",
    "from sklearn.svm import SVC\n",
    "from sklearn.metrics import (\n",
    "    accuracy_score,\n",
    "    confusion_matrix,\n",
    "    f1_score,\n",
    "    precision_recall_curve,\n",
    "    precision_score,\n",
    "    recall_score,\n",
    "    roc_auc_score,\n",
    "    roc_curve,\n",
    ")\n",
    "\n",
    "from scipy.ndimage.interpolation import shift\n",
    "import matplotlib.pyplot as plt\n",
    "import matplotlib as mpl\n",
    "import pandas as pd\n",
    "import numpy as np"
   ]
  },
  {
   "cell_type": "markdown",
   "id": "virtual-tractor",
   "metadata": {},
   "source": [
    "## Global configuration"
   ]
  },
  {
   "cell_type": "code",
   "execution_count": 2,
   "id": "palestinian-recycling",
   "metadata": {},
   "outputs": [],
   "source": [
    "MNIST_DATA_NAME = \"mnist_784\"\n",
    "MNIST_DATA_VERSION = 1\n",
    "\n",
    "BASE_PATH = \"../data/\"\n",
    "TITANIC_TRAIN_DATA_FILE = BASE_PATH + \"titanic_train.csv\"\n",
    "TITANIC_TEST_DATA_FILE = BASE_PATH + \"titanic_test.csv\"\n",
    "\n",
    "RANDOM_SEED = 42\n",
    "\n",
    "JOB_COUNT = 3"
   ]
  },
  {
   "cell_type": "code",
   "execution_count": 3,
   "id": "recent-swedish",
   "metadata": {},
   "outputs": [],
   "source": [
    "np.random.seed(RANDOM_SEED)"
   ]
  },
  {
   "cell_type": "markdown",
   "id": "central-humor",
   "metadata": {},
   "source": [
    "## Load data"
   ]
  },
  {
   "cell_type": "code",
   "execution_count": 4,
   "id": "awful-salmon",
   "metadata": {},
   "outputs": [],
   "source": [
    "mnist = fetch_openml(MNIST_DATA_NAME, version=MNIST_DATA_VERSION, as_frame=False)"
   ]
  },
  {
   "cell_type": "markdown",
   "id": "consecutive-sense",
   "metadata": {},
   "source": [
    "## Split data"
   ]
  },
  {
   "cell_type": "code",
   "execution_count": 5,
   "id": "typical-confirmation",
   "metadata": {},
   "outputs": [],
   "source": [
    "X, y = mnist[\"data\"], mnist[\"target\"]"
   ]
  },
  {
   "cell_type": "code",
   "execution_count": 6,
   "id": "charitable-borough",
   "metadata": {},
   "outputs": [
    {
     "data": {
      "text/plain": [
       "((70000, 784), (70000,))"
      ]
     },
     "execution_count": 6,
     "metadata": {},
     "output_type": "execute_result"
    }
   ],
   "source": [
    "X.shape, y.shape"
   ]
  },
  {
   "cell_type": "markdown",
   "id": "outer-probe",
   "metadata": {},
   "source": [
    "## Clean data"
   ]
  },
  {
   "cell_type": "code",
   "execution_count": 7,
   "id": "afraid-history",
   "metadata": {},
   "outputs": [],
   "source": [
    "y = y.astype(np.uint8)"
   ]
  },
  {
   "cell_type": "markdown",
   "id": "greater-plane",
   "metadata": {},
   "source": [
    "## Examine data"
   ]
  },
  {
   "cell_type": "code",
   "execution_count": 8,
   "id": "literary-paint",
   "metadata": {},
   "outputs": [
    {
     "data": {
      "text/plain": [
       "(-0.5, 27.5, 27.5, -0.5)"
      ]
     },
     "execution_count": 8,
     "metadata": {},
     "output_type": "execute_result"
    },
    {
     "data": {
      "image/png": "[encoded data removed]",
      "text/plain": [
       "<Figure size 432x288 with 1 Axes>"
      ]
     },
     "metadata": {
      "needs_background": "light"
     },
     "output_type": "display_data"
    }
   ],
   "source": [
    "image = X[0].reshape(28, 28)\n",
    "\n",
    "plt.imshow(image, cmap = mpl.cm.binary, interpolation=\"nearest\")\n",
    "plt.axis(\"off\")"
   ]
  },
  {
   "cell_type": "code",
   "execution_count": 9,
   "id": "clear-henry",
   "metadata": {},
   "outputs": [
    {
     "data": {
      "text/plain": [
       "5"
      ]
     },
     "execution_count": 9,
     "metadata": {},
     "output_type": "execute_result"
    }
   ],
   "source": [
    "y[0]"
   ]
  },
  {
   "cell_type": "markdown",
   "id": "tired-member",
   "metadata": {},
   "source": [
    "## Create train/test split"
   ]
  },
  {
   "cell_type": "code",
   "execution_count": 10,
   "id": "conditional-welsh",
   "metadata": {},
   "outputs": [],
   "source": [
    "X_train, X_test, y_train, y_test = X[:60000], X[60000:], y[:60000], y[60000:]"
   ]
  },
  {
   "cell_type": "markdown",
   "id": "through-review",
   "metadata": {},
   "source": [
    "## Train <ins>neverfive</ins> model (binary)"
   ]
  },
  {
   "cell_type": "code",
   "execution_count": 11,
   "id": "geological-magazine",
   "metadata": {},
   "outputs": [],
   "source": [
    "y_train_custom = (y_train == 5)\n",
    "y_test_custom = (y_test == 5)"
   ]
  },
  {
   "cell_type": "code",
   "execution_count": 12,
   "id": "greatest-encounter",
   "metadata": {},
   "outputs": [],
   "source": [
    "class NeverFiveClassifier(BaseEstimator):\n",
    "    def fit(self, X, y=None):\n",
    "        pass\n",
    "    \n",
    "    def predict(self, X):\n",
    "        return np.zeros((len(X), 1), dtype=bool)"
   ]
  },
  {
   "cell_type": "code",
   "execution_count": 13,
   "id": "boolean-surgeon",
   "metadata": {},
   "outputs": [],
   "source": [
    "never_five_model = NeverFiveClassifier()"
   ]
  },
  {
   "cell_type": "code",
   "execution_count": 14,
   "id": "careful-gallery",
   "metadata": {},
   "outputs": [
    {
     "name": "stdout",
     "output_type": "stream",
     "text": [
      "CPU times: user 5 µs, sys: 0 ns, total: 5 µs\n",
      "Wall time: 8.82 µs\n"
     ]
    }
   ],
   "source": [
    "%%time\n",
    "never_five_model.fit(X_train, y_train_custom)"
   ]
  },
  {
   "cell_type": "markdown",
   "id": "reported-membership",
   "metadata": {},
   "source": [
    "## Evaluate <ins>neverfive</ins> model (cross-validation)"
   ]
  },
  {
   "cell_type": "code",
   "execution_count": 15,
   "id": "christian-morning",
   "metadata": {},
   "outputs": [
    {
     "name": "stdout",
     "output_type": "stream",
     "text": [
      "CPU times: user 236 ms, sys: 204 ms, total: 440 ms\n",
      "Wall time: 1.19 s\n"
     ]
    },
    {
     "data": {
      "text/plain": [
       "array([0.91125, 0.90855, 0.90915])"
      ]
     },
     "execution_count": 15,
     "metadata": {},
     "output_type": "execute_result"
    }
   ],
   "source": [
    "%%time\n",
    "cross_val_score(never_five_model, X_train, y_train_custom, cv=3, n_jobs=JOB_COUNT, scoring=\"accuracy\")"
   ]
  },
  {
   "cell_type": "markdown",
   "id": "expired-rendering",
   "metadata": {},
   "source": [
    "## Train <ins>SGD</ins> model (binary)"
   ]
  },
  {
   "cell_type": "code",
   "execution_count": 16,
   "id": "imposed-demographic",
   "metadata": {},
   "outputs": [],
   "source": [
    "sgd_model = SGDClassifier(random_state=RANDOM_SEED)"
   ]
  },
  {
   "cell_type": "code",
   "execution_count": 17,
   "id": "devoted-faculty",
   "metadata": {},
   "outputs": [
    {
     "name": "stdout",
     "output_type": "stream",
     "text": [
      "CPU times: user 19.7 s, sys: 56.4 ms, total: 19.8 s\n",
      "Wall time: 19.8 s\n"
     ]
    },
    {
     "data": {
      "text/plain": [
       "SGDClassifier(random_state=42)"
      ]
     },
     "execution_count": 17,
     "metadata": {},
     "output_type": "execute_result"
    }
   ],
   "source": [
    "%%time\n",
    "sgd_model.fit(X_train, y_train_custom)"
   ]
  },
  {
   "cell_type": "markdown",
   "id": "allied-performer",
   "metadata": {},
   "source": [
    "## Test <ins>SGD</ins> model (binary)"
   ]
  },
  {
   "cell_type": "code",
   "execution_count": 18,
   "id": "figured-keeping",
   "metadata": {},
   "outputs": [
    {
     "data": {
      "text/plain": [
       "array([ True])"
      ]
     },
     "execution_count": 18,
     "metadata": {},
     "output_type": "execute_result"
    }
   ],
   "source": [
    "sgd_model.predict([X_train[0]]) == y_train_custom[0]"
   ]
  },
  {
   "cell_type": "markdown",
   "id": "neural-hammer",
   "metadata": {},
   "source": [
    "## Evaluate <ins>SGD</ins> model (cross-validation)"
   ]
  },
  {
   "cell_type": "code",
   "execution_count": 19,
   "id": "vulnerable-brazil",
   "metadata": {},
   "outputs": [
    {
     "name": "stdout",
     "output_type": "stream",
     "text": [
      "0.95035\n",
      "0.96035\n",
      "0.9604\n"
     ]
    }
   ],
   "source": [
    "folds = StratifiedKFold(n_splits=3)\n",
    "\n",
    "for train_index, test_index in folds.split(X_train, y_train_custom):\n",
    "    clone_model = clone(sgd_model)\n",
    "    \n",
    "    X_train_folds = X_train[train_index]\n",
    "    y_train_folds = y_train_custom[train_index]\n",
    "    \n",
    "    X_test_fold = X_train[test_index]\n",
    "    y_test_fold = y_train_custom[test_index]\n",
    "    \n",
    "    clone_model.fit(X_train_folds, y_train_folds)\n",
    "    \n",
    "    y_test_predictions = clone_model.predict(X_test_fold)\n",
    "    correct = sum(y_test_predictions == y_test_fold)\n",
    "    \n",
    "    print(correct / len(y_test_predictions))"
   ]
  },
  {
   "cell_type": "code",
   "execution_count": 20,
   "id": "black-finding",
   "metadata": {},
   "outputs": [
    {
     "name": "stdout",
     "output_type": "stream",
     "text": [
      "CPU times: user 270 ms, sys: 208 ms, total: 478 ms\n",
      "Wall time: 18.8 s\n"
     ]
    },
    {
     "data": {
      "text/plain": [
       "array([0.95035, 0.96035, 0.9604 ])"
      ]
     },
     "execution_count": 20,
     "metadata": {},
     "output_type": "execute_result"
    }
   ],
   "source": [
    "%%time\n",
    "cross_val_score(sgd_model, X_train, y_train_custom, cv=3, n_jobs=JOB_COUNT, scoring=\"accuracy\")"
   ]
  },
  {
   "cell_type": "markdown",
   "id": "coastal-living",
   "metadata": {},
   "source": [
    "## Evaluate <ins>SGD</ins> model (confusion-matrix)"
   ]
  },
  {
   "cell_type": "code",
   "execution_count": 21,
   "id": "least-guitar",
   "metadata": {},
   "outputs": [
    {
     "name": "stdout",
     "output_type": "stream",
     "text": [
      "CPU times: user 252 ms, sys: 220 ms, total: 473 ms\n",
      "Wall time: 18.6 s\n"
     ]
    }
   ],
   "source": [
    "%%time\n",
    "y_train_custom_predictions = cross_val_predict(sgd_model, X_train, y_train_custom, cv=3, n_jobs=JOB_COUNT)"
   ]
  },
  {
   "cell_type": "code",
   "execution_count": 22,
   "id": "careful-label",
   "metadata": {},
   "outputs": [
    {
     "data": {
      "text/plain": [
       "array([[53892,   687],\n",
       "       [ 1891,  3530]])"
      ]
     },
     "execution_count": 22,
     "metadata": {},
     "output_type": "execute_result"
    }
   ],
   "source": [
    "confusion_matrix(y_train_custom, y_train_custom_predictions)"
   ]
  },
  {
   "cell_type": "code",
   "execution_count": 23,
   "id": "beautiful-malta",
   "metadata": {},
   "outputs": [
    {
     "data": {
      "text/plain": [
       "array([[54579,     0],\n",
       "       [    0,  5421]])"
      ]
     },
     "execution_count": 23,
     "metadata": {},
     "output_type": "execute_result"
    }
   ],
   "source": [
    "confusion_matrix(y_train_custom, y_train_custom)"
   ]
  },
  {
   "cell_type": "markdown",
   "id": "baking-duration",
   "metadata": {},
   "source": [
    "## Evaluate <ins>SGD</ins> model (precision & recall)"
   ]
  },
  {
   "cell_type": "code",
   "execution_count": 24,
   "id": "entire-nurse",
   "metadata": {},
   "outputs": [
    {
     "data": {
      "text/plain": [
       "0.8370879772350012"
      ]
     },
     "execution_count": 24,
     "metadata": {},
     "output_type": "execute_result"
    }
   ],
   "source": [
    "precision_score(y_train_custom, y_train_custom_predictions)"
   ]
  },
  {
   "cell_type": "code",
   "execution_count": 25,
   "id": "becoming-alpha",
   "metadata": {},
   "outputs": [
    {
     "data": {
      "text/plain": [
       "0.6511713705958311"
      ]
     },
     "execution_count": 25,
     "metadata": {},
     "output_type": "execute_result"
    }
   ],
   "source": [
    "recall_score(y_train_custom, y_train_custom_predictions)"
   ]
  },
  {
   "cell_type": "markdown",
   "id": "electoral-purchase",
   "metadata": {},
   "source": [
    "## Evaluate <ins>SGD</ins> model (f1)"
   ]
  },
  {
   "cell_type": "code",
   "execution_count": 26,
   "id": "charged-bunny",
   "metadata": {},
   "outputs": [
    {
     "data": {
      "text/plain": [
       "0.7325171197343846"
      ]
     },
     "execution_count": 26,
     "metadata": {},
     "output_type": "execute_result"
    }
   ],
   "source": [
    "f1_score(y_train_custom, y_train_custom_predictions)"
   ]
  },
  {
   "cell_type": "markdown",
   "id": "automotive-omega",
   "metadata": {},
   "source": [
    "## Evaluate <ins>SGD</ins> model (score 1)"
   ]
  },
  {
   "cell_type": "code",
   "execution_count": 27,
   "id": "commercial-gazette",
   "metadata": {},
   "outputs": [],
   "source": [
    "threshold = 0"
   ]
  },
  {
   "cell_type": "code",
   "execution_count": 28,
   "id": "critical-dragon",
   "metadata": {},
   "outputs": [
    {
     "data": {
      "text/plain": [
       "array([-8542.1753957])"
      ]
     },
     "execution_count": 28,
     "metadata": {},
     "output_type": "execute_result"
    }
   ],
   "source": [
    "y_score = sgd_model.decision_function([X_test[0]])\n",
    "y_score"
   ]
  },
  {
   "cell_type": "code",
   "execution_count": 29,
   "id": "graphic-wound",
   "metadata": {},
   "outputs": [
    {
     "data": {
      "text/plain": [
       "array([False])"
      ]
     },
     "execution_count": 29,
     "metadata": {},
     "output_type": "execute_result"
    }
   ],
   "source": [
    "y_prediction = (y_score > threshold)\n",
    "y_prediction"
   ]
  },
  {
   "cell_type": "code",
   "execution_count": 30,
   "id": "alien-recovery",
   "metadata": {},
   "outputs": [],
   "source": [
    "threshold = 8000"
   ]
  },
  {
   "cell_type": "code",
   "execution_count": 31,
   "id": "frank-technical",
   "metadata": {},
   "outputs": [
    {
     "data": {
      "text/plain": [
       "array([False])"
      ]
     },
     "execution_count": 31,
     "metadata": {},
     "output_type": "execute_result"
    }
   ],
   "source": [
    "y_prediction = (y_score > threshold)\n",
    "y_prediction"
   ]
  },
  {
   "cell_type": "markdown",
   "id": "frank-fourth",
   "metadata": {},
   "source": [
    "## Evaluate <ins>SGD</ins> model (score 2)"
   ]
  },
  {
   "cell_type": "code",
   "execution_count": 32,
   "id": "controlling-leather",
   "metadata": {},
   "outputs": [
    {
     "name": "stdout",
     "output_type": "stream",
     "text": [
      "CPU times: user 256 ms, sys: 196 ms, total: 453 ms\n",
      "Wall time: 19.5 s\n"
     ]
    }
   ],
   "source": [
    "%%time\n",
    "y_train_custom_scores = cross_val_predict(\n",
    "    sgd_model,\n",
    "    X_train,\n",
    "    y_train_custom,\n",
    "    cv=3,\n",
    "    n_jobs=JOB_COUNT,\n",
    "    method=\"decision_function\",\n",
    ")"
   ]
  },
  {
   "cell_type": "code",
   "execution_count": 33,
   "id": "respiratory-screw",
   "metadata": {},
   "outputs": [],
   "source": [
    "precisions, recalls, thresholds = precision_recall_curve(y_train_custom, y_train_custom_scores)"
   ]
  },
  {
   "cell_type": "code",
   "execution_count": 34,
   "id": "fifth-sunday",
   "metadata": {},
   "outputs": [
    {
     "data": {
      "text/plain": [
       "(-50000.0, 50000.0, 0.0, 1.0)"
      ]
     },
     "execution_count": 34,
     "metadata": {},
     "output_type": "execute_result"
    },
    {
     "data": {
      "image/png": "[encoded data removed]",
      "text/plain": [
       "<Figure size 432x288 with 1 Axes>"
      ]
     },
     "metadata": {
      "needs_background": "light"
     },
     "output_type": "display_data"
    }
   ],
   "source": [
    "plt.plot(thresholds, precisions[:-1], \"b--\", label=\"Precision\", linewidth=2)\n",
    "plt.plot(thresholds, recalls[:-1], \"g-\", label=\"Recall\", linewidth=2)\n",
    "plt.legend(loc=\"center right\", fontsize=16)\n",
    "plt.xlabel(\"Threshold\", fontsize=16)\n",
    "plt.grid(True)\n",
    "plt.axis([-50000, 50000, 0, 1])"
   ]
  },
  {
   "cell_type": "code",
   "execution_count": 35,
   "id": "after-modification",
   "metadata": {},
   "outputs": [
    {
     "data": {
      "text/plain": [
       "(0.0, 1.0, 0.0, 1.0)"
      ]
     },
     "execution_count": 35,
     "metadata": {},
     "output_type": "execute_result"
    },
    {
     "data": {
      "image/png": "[encoded data removed]",
      "text/plain": [
       "<Figure size 432x288 with 1 Axes>"
      ]
     },
     "metadata": {
      "needs_background": "light"
     },
     "output_type": "display_data"
    }
   ],
   "source": [
    "plt.plot(recalls, precisions, \"b-\", linewidth=2)\n",
    "plt.xlabel(\"Recall\", fontsize=16)\n",
    "plt.ylabel(\"Precision\", fontsize=16)\n",
    "plt.grid(True)\n",
    "plt.axis([0, 1, 0, 1])"
   ]
  },
  {
   "cell_type": "code",
   "execution_count": 36,
   "id": "infrared-deposit",
   "metadata": {},
   "outputs": [
    {
     "data": {
      "text/plain": [
       "3370.0194991439557"
      ]
     },
     "execution_count": 36,
     "metadata": {},
     "output_type": "execute_result"
    }
   ],
   "source": [
    "threshold_90_precision = thresholds[np.argmax(precisions >= 0.90)]\n",
    "threshold_90_precision"
   ]
  },
  {
   "cell_type": "code",
   "execution_count": 37,
   "id": "joined-direction",
   "metadata": {},
   "outputs": [],
   "source": [
    "y_train_custom_predictions_90_precision = (y_train_custom_scores >= threshold_90_precision)"
   ]
  },
  {
   "cell_type": "code",
   "execution_count": 38,
   "id": "interpreted-demonstration",
   "metadata": {},
   "outputs": [
    {
     "data": {
      "text/plain": [
       "0.9000345901072293"
      ]
     },
     "execution_count": 38,
     "metadata": {},
     "output_type": "execute_result"
    }
   ],
   "source": [
    "precision_score(y_train_custom, y_train_custom_predictions_90_precision)"
   ]
  },
  {
   "cell_type": "code",
   "execution_count": 39,
   "id": "bridal-history",
   "metadata": {
    "scrolled": true
   },
   "outputs": [
    {
     "data": {
      "text/plain": [
       "0.4799852425751706"
      ]
     },
     "execution_count": 39,
     "metadata": {},
     "output_type": "execute_result"
    }
   ],
   "source": [
    "recall_score(y_train_custom, y_train_custom_predictions_90_precision)"
   ]
  },
  {
   "cell_type": "markdown",
   "id": "sweet-ability",
   "metadata": {},
   "source": [
    "## Evaluate <ins>SGD</ins> model (roc)"
   ]
  },
  {
   "cell_type": "code",
   "execution_count": 40,
   "id": "immune-pressing",
   "metadata": {},
   "outputs": [],
   "source": [
    "sgd_fpr, sgd_tpr, sgd_thresholds = roc_curve(y_train_custom, y_train_custom_scores)"
   ]
  },
  {
   "cell_type": "code",
   "execution_count": 41,
   "id": "tracked-eugene",
   "metadata": {},
   "outputs": [
    {
     "data": {
      "text/plain": [
       "(0.0, 1.0, 0.0, 1.0)"
      ]
     },
     "execution_count": 41,
     "metadata": {},
     "output_type": "execute_result"
    },
    {
     "data": {
      "image/png": "[encoded data removed]",
      "text/plain": [
       "<Figure size 432x288 with 1 Axes>"
      ]
     },
     "metadata": {
      "needs_background": "light"
     },
     "output_type": "display_data"
    }
   ],
   "source": [
    "plt.plot(sgd_fpr, sgd_tpr, linewidth=2, label=None)\n",
    "plt.plot([0, 1], [0, 1], 'k--')\n",
    "plt.xlabel('False Positive Rate (Fall-Out)', fontsize=16)\n",
    "plt.ylabel('True Positive Rate (Recall)', fontsize=16)\n",
    "plt.grid(True)\n",
    "plt.axis([0, 1, 0, 1])"
   ]
  },
  {
   "cell_type": "markdown",
   "id": "trying-system",
   "metadata": {},
   "source": [
    "## Evaluate <ins>SGD</ins> model (auc)"
   ]
  },
  {
   "cell_type": "code",
   "execution_count": 42,
   "id": "governing-jurisdiction",
   "metadata": {},
   "outputs": [
    {
     "data": {
      "text/plain": [
       "0.9604938554008616"
      ]
     },
     "execution_count": 42,
     "metadata": {},
     "output_type": "execute_result"
    }
   ],
   "source": [
    "roc_auc_score(y_train_custom, y_train_custom_scores)"
   ]
  },
  {
   "cell_type": "markdown",
   "id": "retained-affiliation",
   "metadata": {},
   "source": [
    "## Train <ins>random forest</ins> model (binary)"
   ]
  },
  {
   "cell_type": "code",
   "execution_count": 43,
   "id": "handy-grenada",
   "metadata": {},
   "outputs": [],
   "source": [
    "rf_model = RandomForestClassifier(random_state=RANDOM_SEED)"
   ]
  },
  {
   "cell_type": "markdown",
   "id": "dental-flesh",
   "metadata": {},
   "source": [
    "## Evaluate <ins>random forest</ins> model (score)"
   ]
  },
  {
   "cell_type": "code",
   "execution_count": 44,
   "id": "caring-purse",
   "metadata": {},
   "outputs": [
    {
     "name": "stdout",
     "output_type": "stream",
     "text": [
      "CPU times: user 237 ms, sys: 198 ms, total: 435 ms\n",
      "Wall time: 31.4 s\n"
     ]
    }
   ],
   "source": [
    "%%time\n",
    "y_train_custom_scores = cross_val_predict(\n",
    "    rf_model,\n",
    "    X_train,\n",
    "    y_train_custom,\n",
    "    cv=3,\n",
    "    n_jobs=JOB_COUNT,\n",
    "    method=\"predict_proba\",\n",
    ")[:, 1]"
   ]
  },
  {
   "cell_type": "markdown",
   "id": "amazing-april",
   "metadata": {},
   "source": [
    "## Evaluate <ins>random forest</ins> model (roc)"
   ]
  },
  {
   "cell_type": "code",
   "execution_count": 45,
   "id": "complete-whole",
   "metadata": {},
   "outputs": [],
   "source": [
    "rf_fpr, rf_tpr, rf_thresholds = roc_curve(y_train_custom, y_train_custom_scores)"
   ]
  },
  {
   "cell_type": "markdown",
   "id": "outstanding-macro",
   "metadata": {},
   "source": [
    "## Compare <ins>SGD</ins> & <ins>random forest</ins> model (roc)"
   ]
  },
  {
   "cell_type": "code",
   "execution_count": 46,
   "id": "social-killing",
   "metadata": {},
   "outputs": [
    {
     "data": {
      "text/plain": [
       "(0.0, 1.0, 0.0, 1.0)"
      ]
     },
     "execution_count": 46,
     "metadata": {},
     "output_type": "execute_result"
    },
    {
     "data": {
      "image/png": "[encoded data removed]",
      "text/plain": [
       "<Figure size 432x288 with 1 Axes>"
      ]
     },
     "metadata": {
      "needs_background": "light"
     },
     "output_type": "display_data"
    }
   ],
   "source": [
    "plt.plot(sgd_fpr, sgd_tpr, linewidth=2, label=\"SGD\")\n",
    "plt.plot(rf_fpr, rf_tpr, linewidth=2, label=\"Random Forest\")\n",
    "plt.plot([0, 1], [0, 1], 'k--')\n",
    "plt.legend(loc=\"lower right\")\n",
    "plt.xlabel('False Positive Rate (Fall-Out)', fontsize=16)\n",
    "plt.ylabel('True Positive Rate (Recall)', fontsize=16)\n",
    "plt.grid(True)\n",
    "plt.axis([0, 1, 0, 1])"
   ]
  },
  {
   "cell_type": "markdown",
   "id": "passing-ladder",
   "metadata": {},
   "source": [
    "## Evaluate <ins>random forest</ins> model (auc)"
   ]
  },
  {
   "cell_type": "code",
   "execution_count": 47,
   "id": "limiting-therapist",
   "metadata": {},
   "outputs": [
    {
     "data": {
      "text/plain": [
       "0.9983436731328145"
      ]
     },
     "execution_count": 47,
     "metadata": {},
     "output_type": "execute_result"
    }
   ],
   "source": [
    "roc_auc_score(y_train_custom, y_train_custom_scores)"
   ]
  },
  {
   "cell_type": "markdown",
   "id": "nuclear-browser",
   "metadata": {},
   "source": [
    "## Evaluate <ins>random forest</ins> model (precision & recall)"
   ]
  },
  {
   "cell_type": "code",
   "execution_count": 48,
   "id": "consecutive-desire",
   "metadata": {},
   "outputs": [
    {
     "name": "stdout",
     "output_type": "stream",
     "text": [
      "CPU times: user 252 ms, sys: 228 ms, total: 480 ms\n",
      "Wall time: 30.6 s\n"
     ]
    }
   ],
   "source": [
    "%%time\n",
    "y_train_custom_predictions = cross_val_predict(rf_model, X_train, y_train_custom, cv=3, n_jobs=JOB_COUNT)"
   ]
  },
  {
   "cell_type": "code",
   "execution_count": 49,
   "id": "indie-porcelain",
   "metadata": {},
   "outputs": [
    {
     "data": {
      "text/plain": [
       "0.9905083315756169"
      ]
     },
     "execution_count": 49,
     "metadata": {},
     "output_type": "execute_result"
    }
   ],
   "source": [
    "precision_score(y_train_custom, y_train_custom_predictions)"
   ]
  },
  {
   "cell_type": "code",
   "execution_count": 50,
   "id": "functional-helen",
   "metadata": {},
   "outputs": [
    {
     "data": {
      "text/plain": [
       "0.8662608374838591"
      ]
     },
     "execution_count": 50,
     "metadata": {},
     "output_type": "execute_result"
    }
   ],
   "source": [
    "recall_score(y_train_custom, y_train_custom_predictions)"
   ]
  },
  {
   "cell_type": "markdown",
   "id": "cultural-object",
   "metadata": {},
   "source": [
    "## Transform Data"
   ]
  },
  {
   "cell_type": "code",
   "execution_count": 51,
   "id": "political-demographic",
   "metadata": {},
   "outputs": [],
   "source": [
    "standard_scaler = StandardScaler()"
   ]
  },
  {
   "cell_type": "code",
   "execution_count": 52,
   "id": "spread-egyptian",
   "metadata": {},
   "outputs": [],
   "source": [
    "X_train_scaled = standard_scaler.fit_transform(X_train.astype(np.float64))"
   ]
  },
  {
   "cell_type": "markdown",
   "id": "present-administration",
   "metadata": {},
   "source": [
    "## Train <ins>random forest</ins> model (multiclass)"
   ]
  },
  {
   "cell_type": "code",
   "execution_count": 53,
   "id": "ready-resort",
   "metadata": {},
   "outputs": [],
   "source": [
    "rf_mc_model = RandomForestClassifier(random_state=RANDOM_SEED)"
   ]
  },
  {
   "cell_type": "code",
   "execution_count": 54,
   "id": "binary-investor",
   "metadata": {},
   "outputs": [
    {
     "name": "stdout",
     "output_type": "stream",
     "text": [
      "CPU times: user 39.8 s, sys: 84.3 ms, total: 39.8 s\n",
      "Wall time: 39.8 s\n"
     ]
    },
    {
     "data": {
      "text/plain": [
       "RandomForestClassifier(random_state=42)"
      ]
     },
     "execution_count": 54,
     "metadata": {},
     "output_type": "execute_result"
    }
   ],
   "source": [
    "%%time\n",
    "rf_mc_model.fit(X_train_scaled, y_train)"
   ]
  },
  {
   "cell_type": "markdown",
   "id": "outdoor-april",
   "metadata": {},
   "source": [
    "## Test <ins>random forest</ins> model (multiclass)"
   ]
  },
  {
   "cell_type": "code",
   "execution_count": 55,
   "id": "conditional-injury",
   "metadata": {},
   "outputs": [
    {
     "data": {
      "text/plain": [
       "array([ True])"
      ]
     },
     "execution_count": 55,
     "metadata": {},
     "output_type": "execute_result"
    }
   ],
   "source": [
    "rf_mc_model.predict([X_train_scaled[0]]) == y_train[0]"
   ]
  },
  {
   "cell_type": "markdown",
   "id": "subjective-usage",
   "metadata": {},
   "source": [
    "## Train <ins>SGD</ins> model (ova-multiclass)"
   ]
  },
  {
   "cell_type": "code",
   "execution_count": 56,
   "id": "handy-tamil",
   "metadata": {},
   "outputs": [],
   "source": [
    "sgd_ova_model = SGDClassifier(random_state=RANDOM_SEED)"
   ]
  },
  {
   "cell_type": "code",
   "execution_count": 57,
   "id": "august-plastic",
   "metadata": {},
   "outputs": [
    {
     "name": "stdout",
     "output_type": "stream",
     "text": [
      "CPU times: user 6min 34s, sys: 114 ms, total: 6min 34s\n",
      "Wall time: 6min 34s\n"
     ]
    },
    {
     "data": {
      "text/plain": [
       "SGDClassifier(random_state=42)"
      ]
     },
     "execution_count": 57,
     "metadata": {},
     "output_type": "execute_result"
    }
   ],
   "source": [
    "%%time\n",
    "sgd_ova_model.fit(X_train_scaled, y_train)"
   ]
  },
  {
   "cell_type": "markdown",
   "id": "acute-validation",
   "metadata": {},
   "source": [
    "## Test <ins>SGD</ins> model (ova-multiclass)"
   ]
  },
  {
   "cell_type": "code",
   "execution_count": 58,
   "id": "known-hudson",
   "metadata": {},
   "outputs": [
    {
     "data": {
      "text/plain": [
       "array([ True])"
      ]
     },
     "execution_count": 58,
     "metadata": {},
     "output_type": "execute_result"
    }
   ],
   "source": [
    "sgd_ova_model.predict([X_train_scaled[0]]) == y_train[0]"
   ]
  },
  {
   "cell_type": "code",
   "execution_count": 59,
   "id": "hungarian-north",
   "metadata": {},
   "outputs": [
    {
     "data": {
      "text/plain": [
       "5"
      ]
     },
     "execution_count": 59,
     "metadata": {},
     "output_type": "execute_result"
    }
   ],
   "source": [
    "sgd_ova_model.classes_[np.argmax(sgd_ova_model.decision_function([X_train_scaled[0]]))]"
   ]
  },
  {
   "cell_type": "markdown",
   "id": "indoor-investigator",
   "metadata": {},
   "source": [
    "## Train <ins>SGD</ins> model (ovo-multiclass)"
   ]
  },
  {
   "cell_type": "code",
   "execution_count": 60,
   "id": "reduced-adoption",
   "metadata": {},
   "outputs": [],
   "source": [
    "sgd_ovo_model = OneVsOneClassifier(SGDClassifier(random_state=RANDOM_SEED))"
   ]
  },
  {
   "cell_type": "code",
   "execution_count": 61,
   "id": "female-uniform",
   "metadata": {},
   "outputs": [
    {
     "name": "stdout",
     "output_type": "stream",
     "text": [
      "CPU times: user 38.1 s, sys: 444 ms, total: 38.5 s\n",
      "Wall time: 38.5 s\n"
     ]
    },
    {
     "data": {
      "text/plain": [
       "OneVsOneClassifier(estimator=SGDClassifier(random_state=42))"
      ]
     },
     "execution_count": 61,
     "metadata": {},
     "output_type": "execute_result"
    }
   ],
   "source": [
    "%%time\n",
    "sgd_ovo_model.fit(X_train_scaled, y_train)"
   ]
  },
  {
   "cell_type": "markdown",
   "id": "expressed-puppy",
   "metadata": {},
   "source": [
    "## Test <ins>SGD</ins> model (ovo-multiclass)"
   ]
  },
  {
   "cell_type": "code",
   "execution_count": 62,
   "id": "measured-format",
   "metadata": {},
   "outputs": [
    {
     "data": {
      "text/plain": [
       "array([ True])"
      ]
     },
     "execution_count": 62,
     "metadata": {},
     "output_type": "execute_result"
    }
   ],
   "source": [
    "sgd_ovo_model.predict([X_train_scaled[0]]) == y_train[0]"
   ]
  },
  {
   "cell_type": "markdown",
   "id": "waiting-perception",
   "metadata": {},
   "source": [
    "## Evaluate <ins>SGD</ins> model (ovo-multiclass)"
   ]
  },
  {
   "cell_type": "code",
   "execution_count": 63,
   "id": "sophisticated-smart",
   "metadata": {
    "scrolled": true
   },
   "outputs": [
    {
     "name": "stdout",
     "output_type": "stream",
     "text": [
      "CPU times: user 91.5 ms, sys: 244 ms, total: 336 ms\n",
      "Wall time: 30.4 s\n"
     ]
    },
    {
     "data": {
      "text/plain": [
       "array([0.91595, 0.9149 , 0.91845])"
      ]
     },
     "execution_count": 63,
     "metadata": {},
     "output_type": "execute_result"
    }
   ],
   "source": [
    "%%time\n",
    "cross_val_score(sgd_ovo_model, X_train_scaled, y_train, cv=3, n_jobs=JOB_COUNT, scoring=\"accuracy\")"
   ]
  },
  {
   "cell_type": "markdown",
   "id": "wireless-vaccine",
   "metadata": {},
   "source": [
    "## Analyse <ins>SGD</ins> errors (ovo-multiclass)"
   ]
  },
  {
   "cell_type": "code",
   "execution_count": 64,
   "id": "southern-arrangement",
   "metadata": {},
   "outputs": [
    {
     "name": "stdout",
     "output_type": "stream",
     "text": [
      "CPU times: user 50.5 ms, sys: 148 ms, total: 199 ms\n",
      "Wall time: 21.6 s\n"
     ]
    }
   ],
   "source": [
    "%%time\n",
    "y_train_predictions = cross_val_predict(sgd_ovo_model, X_train_scaled, y_train, cv=3, n_jobs=JOB_COUNT)"
   ]
  },
  {
   "cell_type": "code",
   "execution_count": 65,
   "id": "dental-essay",
   "metadata": {},
   "outputs": [],
   "source": [
    "y_train_matrix = confusion_matrix(y_train, y_train_predictions)"
   ]
  },
  {
   "cell_type": "code",
   "execution_count": 66,
   "id": "objective-minority",
   "metadata": {},
   "outputs": [
    {
     "data": {
      "text/plain": [
       "<matplotlib.image.AxesImage at 0x7fd04f9546a0>"
      ]
     },
     "execution_count": 66,
     "metadata": {},
     "output_type": "execute_result"
    },
    {
     "data": {
      "image/png": "[encoded data removed]",
      "text/plain": [
       "<Figure size 288x288 with 1 Axes>"
      ]
     },
     "metadata": {
      "needs_background": "light"
     },
     "output_type": "display_data"
    }
   ],
   "source": [
    "plt.matshow(y_train_matrix, cmap=plt.cm.gray)"
   ]
  },
  {
   "cell_type": "code",
   "execution_count": 67,
   "id": "elder-radiation",
   "metadata": {},
   "outputs": [],
   "source": [
    "y_train_matrix = y_train_matrix / y_train_matrix.sum(axis=1, keepdims=True)"
   ]
  },
  {
   "cell_type": "code",
   "execution_count": 68,
   "id": "casual-vacuum",
   "metadata": {},
   "outputs": [],
   "source": [
    "np.fill_diagonal(y_train_matrix, 0)"
   ]
  },
  {
   "cell_type": "code",
   "execution_count": 69,
   "id": "micro-hours",
   "metadata": {},
   "outputs": [
    {
     "data": {
      "text/plain": [
       "<matplotlib.image.AxesImage at 0x7fd04f97bf40>"
      ]
     },
     "execution_count": 69,
     "metadata": {},
     "output_type": "execute_result"
    },
    {
     "data": {
      "image/png": "[encoded data removed]",
      "text/plain": [
       "<Figure size 288x288 with 1 Axes>"
      ]
     },
     "metadata": {
      "needs_background": "light"
     },
     "output_type": "display_data"
    }
   ],
   "source": [
    "plt.matshow(y_train_matrix, cmap=plt.cm.gray)"
   ]
  },
  {
   "cell_type": "markdown",
   "id": "bacterial-guyana",
   "metadata": {},
   "source": [
    "## Create multilabel data"
   ]
  },
  {
   "cell_type": "code",
   "execution_count": 70,
   "id": "historical-cyprus",
   "metadata": {},
   "outputs": [],
   "source": [
    "y_train_large = (y_train >= 7)\n",
    "y_train_odd = (y_train % 2 == 1)\n",
    "\n",
    "y_train_multilabel = np.c_[y_train_large, y_train_odd]"
   ]
  },
  {
   "cell_type": "markdown",
   "id": "elementary-buying",
   "metadata": {},
   "source": [
    "## Train <ins>k nearest neighbours</ins> model (multilabel)"
   ]
  },
  {
   "cell_type": "code",
   "execution_count": 71,
   "id": "focal-institution",
   "metadata": {},
   "outputs": [],
   "source": [
    "knn_ml_model = KNeighborsClassifier()"
   ]
  },
  {
   "cell_type": "code",
   "execution_count": 72,
   "id": "usual-picnic",
   "metadata": {},
   "outputs": [
    {
     "name": "stdout",
     "output_type": "stream",
     "text": [
      "CPU times: user 36.3 ms, sys: 56 ms, total: 92.3 ms\n",
      "Wall time: 30.5 ms\n"
     ]
    },
    {
     "data": {
      "text/plain": [
       "KNeighborsClassifier()"
      ]
     },
     "execution_count": 72,
     "metadata": {},
     "output_type": "execute_result"
    }
   ],
   "source": [
    "%%time\n",
    "knn_ml_model.fit(X_train, y_train_multilabel)"
   ]
  },
  {
   "cell_type": "markdown",
   "id": "generous-globe",
   "metadata": {},
   "source": [
    "## Test <ins>k nearest neighbours</ins> model (multilabel)"
   ]
  },
  {
   "cell_type": "code",
   "execution_count": 73,
   "id": "fresh-criminal",
   "metadata": {},
   "outputs": [
    {
     "data": {
      "text/plain": [
       "array([[ True,  True]])"
      ]
     },
     "execution_count": 73,
     "metadata": {},
     "output_type": "execute_result"
    }
   ],
   "source": [
    "knn_ml_model.predict([X_train[0]]) == y_train_multilabel[0]"
   ]
  },
  {
   "cell_type": "markdown",
   "id": "economic-cookie",
   "metadata": {},
   "source": [
    "## Evaluate <ins>k nearest neighbours</ins> model (f1)"
   ]
  },
  {
   "cell_type": "code",
   "execution_count": 74,
   "id": "broad-footwear",
   "metadata": {},
   "outputs": [
    {
     "name": "stdout",
     "output_type": "stream",
     "text": [
      "CPU times: user 450 ms, sys: 1.26 s, total: 1.71 s\n",
      "Wall time: 46.7 s\n"
     ]
    }
   ],
   "source": [
    "%%time\n",
    "y_train_multilabel_predictions = cross_val_predict(\n",
    "    knn_ml_model,\n",
    "    X_train,\n",
    "    y_train_multilabel,\n",
    "    cv=3,\n",
    "    n_jobs=JOB_COUNT,\n",
    ")"
   ]
  },
  {
   "cell_type": "code",
   "execution_count": 75,
   "id": "comfortable-tourism",
   "metadata": {},
   "outputs": [
    {
     "data": {
      "text/plain": [
       "0.976410265560605"
      ]
     },
     "execution_count": 75,
     "metadata": {},
     "output_type": "execute_result"
    }
   ],
   "source": [
    "f1_score(y_train_multilabel, y_train_multilabel_predictions, average=\"macro\")"
   ]
  },
  {
   "cell_type": "markdown",
   "id": "opponent-domain",
   "metadata": {},
   "source": [
    "## Create multioutput data"
   ]
  },
  {
   "cell_type": "code",
   "execution_count": 76,
   "id": "peaceful-installation",
   "metadata": {},
   "outputs": [],
   "source": [
    "noise = np.random.randint(0, 100, (len(X_train), 784))\n",
    "\n",
    "X_train_noise = X_train + noise\n",
    "y_train_noise = X_train\n",
    "\n",
    "noise = np.random.randint(0, 100, (len(X_test), 784))\n",
    "\n",
    "X_test_noise = X_test + noise\n",
    "y_test_noise = X_test"
   ]
  },
  {
   "cell_type": "markdown",
   "id": "nuclear-issue",
   "metadata": {},
   "source": [
    "## Train <ins>k nearest neighbours</ins> model (multioutput)"
   ]
  },
  {
   "cell_type": "code",
   "execution_count": 77,
   "id": "criminal-opportunity",
   "metadata": {},
   "outputs": [],
   "source": [
    "knn_mo_model = KNeighborsClassifier()"
   ]
  },
  {
   "cell_type": "code",
   "execution_count": 78,
   "id": "italian-sweden",
   "metadata": {},
   "outputs": [
    {
     "name": "stdout",
     "output_type": "stream",
     "text": [
      "CPU times: user 4.79 s, sys: 164 ms, total: 4.95 s\n",
      "Wall time: 4.95 s\n"
     ]
    },
    {
     "data": {
      "text/plain": [
       "KNeighborsClassifier()"
      ]
     },
     "execution_count": 78,
     "metadata": {},
     "output_type": "execute_result"
    }
   ],
   "source": [
    "%%time\n",
    "knn_mo_model.fit(X_train_noise, y_train_noise)"
   ]
  },
  {
   "cell_type": "markdown",
   "id": "underlying-ratio",
   "metadata": {},
   "source": [
    "## Test <ins>k nearest neighbours</ins> model (multioutput)"
   ]
  },
  {
   "cell_type": "code",
   "execution_count": 79,
   "id": "attached-submission",
   "metadata": {},
   "outputs": [],
   "source": [
    "prediction = knn_mo_model.predict([X_test_noise[0]])\n",
    "actual = y_test_noise[0]"
   ]
  },
  {
   "cell_type": "code",
   "execution_count": 80,
   "id": "dynamic-recipient",
   "metadata": {},
   "outputs": [
    {
     "data": {
      "text/plain": [
       "(-0.5, 27.5, 27.5, -0.5)"
      ]
     },
     "execution_count": 80,
     "metadata": {},
     "output_type": "execute_result"
    },
    {
     "data": {
      "image/png": "[encoded data removed]",
      "text/plain": [
       "<Figure size 432x288 with 1 Axes>"
      ]
     },
     "metadata": {
      "needs_background": "light"
     },
     "output_type": "display_data"
    }
   ],
   "source": [
    "image = prediction.reshape(28, 28)\n",
    "plt.imshow(image, cmap = mpl.cm.binary, interpolation=\"nearest\")\n",
    "plt.axis(\"off\")"
   ]
  },
  {
   "cell_type": "code",
   "execution_count": 81,
   "id": "rough-conclusion",
   "metadata": {
    "scrolled": true
   },
   "outputs": [
    {
     "data": {
      "text/plain": [
       "(-0.5, 27.5, 27.5, -0.5)"
      ]
     },
     "execution_count": 81,
     "metadata": {},
     "output_type": "execute_result"
    },
    {
     "data": {
      "image/png": "[encoded data removed]",
      "text/plain": [
       "<Figure size 432x288 with 1 Axes>"
      ]
     },
     "metadata": {
      "needs_background": "light"
     },
     "output_type": "display_data"
    }
   ],
   "source": [
    "image = actual.reshape(28, 28)\n",
    "plt.imshow(image, cmap = mpl.cm.binary, interpolation=\"nearest\")\n",
    "plt.axis(\"off\")"
   ]
  },
  {
   "cell_type": "markdown",
   "id": "daily-eagle",
   "metadata": {},
   "source": [
    "# Exercises"
   ]
  },
  {
   "cell_type": "markdown",
   "id": "controlled-pound",
   "metadata": {},
   "source": [
    "1. Try to build a classifier for the MNIST dataset that achieves over 97% accuracy on the test set. Hint: the KNeighborsClassifier works quite well for this task; you just need to find good hyperparameter values (try a grid search on the weights and n_neighbors hyperparameters)."
   ]
  },
  {
   "cell_type": "markdown",
   "id": "whole-climate",
   "metadata": {},
   "source": [
    "**Solution**"
   ]
  },
  {
   "cell_type": "markdown",
   "id": "unauthorized-malawi",
   "metadata": {},
   "source": [
    "### Train"
   ]
  },
  {
   "cell_type": "code",
   "execution_count": 82,
   "id": "effective-double",
   "metadata": {},
   "outputs": [],
   "source": [
    "parameters = [\n",
    "    {\"weights\": [\"uniform\", \"distance\"], \"n_neighbors\": [3, 4, 5]},\n",
    "]"
   ]
  },
  {
   "cell_type": "code",
   "execution_count": 83,
   "id": "rapid-morgan",
   "metadata": {},
   "outputs": [],
   "source": [
    "knn_model = KNeighborsClassifier()"
   ]
  },
  {
   "cell_type": "code",
   "execution_count": 84,
   "id": "treated-legislature",
   "metadata": {},
   "outputs": [],
   "source": [
    "grid_search = GridSearchCV(knn_model, parameters, cv=5, n_jobs=JOB_COUNT)"
   ]
  },
  {
   "cell_type": "code",
   "execution_count": 85,
   "id": "unable-caution",
   "metadata": {},
   "outputs": [
    {
     "name": "stdout",
     "output_type": "stream",
     "text": [
      "CPU times: user 284 ms, sys: 173 ms, total: 457 ms\n",
      "Wall time: 4min 11s\n"
     ]
    },
    {
     "data": {
      "text/plain": [
       "GridSearchCV(cv=5, estimator=KNeighborsClassifier(), n_jobs=3,\n",
       "             param_grid=[{'n_neighbors': [3, 4, 5],\n",
       "                          'weights': ['uniform', 'distance']}])"
      ]
     },
     "execution_count": 85,
     "metadata": {},
     "output_type": "execute_result"
    }
   ],
   "source": [
    "%%time\n",
    "grid_search.fit(X_train, y_train)"
   ]
  },
  {
   "cell_type": "code",
   "execution_count": 86,
   "id": "beginning-orange",
   "metadata": {},
   "outputs": [
    {
     "data": {
      "text/plain": [
       "{'n_neighbors': 4, 'weights': 'distance'}"
      ]
     },
     "execution_count": 86,
     "metadata": {},
     "output_type": "execute_result"
    }
   ],
   "source": [
    "grid_search.best_params_"
   ]
  },
  {
   "cell_type": "code",
   "execution_count": 87,
   "id": "behind-positive",
   "metadata": {},
   "outputs": [
    {
     "data": {
      "text/plain": [
       "KNeighborsClassifier(n_neighbors=4, weights='distance')"
      ]
     },
     "execution_count": 87,
     "metadata": {},
     "output_type": "execute_result"
    }
   ],
   "source": [
    "grid_search.best_estimator_"
   ]
  },
  {
   "cell_type": "markdown",
   "id": "under-violence",
   "metadata": {},
   "source": [
    "### Performance"
   ]
  },
  {
   "cell_type": "code",
   "execution_count": 88,
   "id": "prospective-surname",
   "metadata": {},
   "outputs": [
    {
     "name": "stdout",
     "output_type": "stream",
     "text": [
      "CPU times: user 1min 32s, sys: 1min 29s, total: 3min 1s\n",
      "Wall time: 20.1 s\n"
     ]
    }
   ],
   "source": [
    "%%time\n",
    "y_test_predictions = grid_search.predict(X_test)"
   ]
  },
  {
   "cell_type": "code",
   "execution_count": 89,
   "id": "romantic-massage",
   "metadata": {},
   "outputs": [
    {
     "data": {
      "text/plain": [
       "0.9714"
      ]
     },
     "execution_count": 89,
     "metadata": {},
     "output_type": "execute_result"
    }
   ],
   "source": [
    "accuracy_score(y_test, y_test_predictions)"
   ]
  },
  {
   "cell_type": "markdown",
   "id": "assumed-winner",
   "metadata": {},
   "source": [
    "2. Write a function that can shift an MNIST image in any direction (left, right, up, or down) by one pixel.5 Then, for each image in the training set, create four shifted copies (one per direction) and add them to the training set. Finally, train your best model on this expanded training set and measure its accuracy on the test set. You should observe that your model performs even better now! This technique of artificially growing the training set is called data augmentation or training set expansion."
   ]
  },
  {
   "cell_type": "markdown",
   "id": "patent-movement",
   "metadata": {},
   "source": [
    "**Solution**"
   ]
  },
  {
   "cell_type": "markdown",
   "id": "mighty-provision",
   "metadata": {},
   "source": [
    "### Prepare"
   ]
  },
  {
   "cell_type": "code",
   "execution_count": 90,
   "id": "twelve-mother",
   "metadata": {},
   "outputs": [],
   "source": [
    "def shift_image(image, dx, dy):\n",
    "    original_image = image.reshape((28, 28))\n",
    "    shifted_image = shift(original_image, [dy, dx], cval=0, mode=\"constant\")\n",
    "    \n",
    "    return shifted_image.reshape([-1])"
   ]
  },
  {
   "cell_type": "code",
   "execution_count": 91,
   "id": "searching-stupid",
   "metadata": {},
   "outputs": [],
   "source": [
    "X_train_augmented = [image for image in X_train]\n",
    "y_train_augmented = [label for label in y_train]\n",
    "\n",
    "for dx, dy in ((1, 0), (-1, 0), (0, 1), (0, -1)):\n",
    "    for image, label in zip(X_train, y_train):\n",
    "        X_train_augmented.append(shift_image(image, dx, dy))\n",
    "        y_train_augmented.append(label)\n",
    "\n",
    "X_train_augmented = np.array(X_train_augmented)\n",
    "y_train_augmented = np.array(y_train_augmented)"
   ]
  },
  {
   "cell_type": "code",
   "execution_count": 92,
   "id": "international-funeral",
   "metadata": {},
   "outputs": [],
   "source": [
    "shuffled = np.random.permutation(len(X_train_augmented))\n",
    "\n",
    "X_train_augmented = X_train_augmented[shuffled]\n",
    "y_train_augmented = y_train_augmented[shuffled]"
   ]
  },
  {
   "cell_type": "markdown",
   "id": "cosmetic-orleans",
   "metadata": {},
   "source": [
    "### Train"
   ]
  },
  {
   "cell_type": "code",
   "execution_count": 93,
   "id": "dietary-appreciation",
   "metadata": {},
   "outputs": [],
   "source": [
    "knn_model = KNeighborsClassifier(**grid_search.best_params_)"
   ]
  },
  {
   "cell_type": "code",
   "execution_count": 94,
   "id": "danish-nation",
   "metadata": {},
   "outputs": [
    {
     "name": "stdout",
     "output_type": "stream",
     "text": [
      "CPU times: user 128 ms, sys: 71 µs, total: 128 ms\n",
      "Wall time: 128 ms\n"
     ]
    },
    {
     "data": {
      "text/plain": [
       "KNeighborsClassifier(n_neighbors=4, weights='distance')"
      ]
     },
     "execution_count": 94,
     "metadata": {},
     "output_type": "execute_result"
    }
   ],
   "source": [
    "%%time\n",
    "knn_model.fit(X_train_augmented, y_train_augmented)"
   ]
  },
  {
   "cell_type": "markdown",
   "id": "objective-tulsa",
   "metadata": {},
   "source": [
    "### Performance"
   ]
  },
  {
   "cell_type": "code",
   "execution_count": 95,
   "id": "convenient-silver",
   "metadata": {},
   "outputs": [
    {
     "name": "stdout",
     "output_type": "stream",
     "text": [
      "CPU times: user 10min 22s, sys: 6min 31s, total: 16min 54s\n",
      "Wall time: 1min 55s\n"
     ]
    }
   ],
   "source": [
    "%%time\n",
    "y_test_predictions = knn_model.predict(X_test)"
   ]
  },
  {
   "cell_type": "code",
   "execution_count": 96,
   "id": "decent-cricket",
   "metadata": {},
   "outputs": [
    {
     "data": {
      "text/plain": [
       "0.9763"
      ]
     },
     "execution_count": 96,
     "metadata": {},
     "output_type": "execute_result"
    }
   ],
   "source": [
    "accuracy_score(y_test, y_test_predictions)"
   ]
  },
  {
   "cell_type": "markdown",
   "id": "latest-blank",
   "metadata": {},
   "source": [
    "3. Tackle the Titanic dataset. A great place to start is on Kaggle."
   ]
  },
  {
   "cell_type": "markdown",
   "id": "unknown-event",
   "metadata": {},
   "source": [
    "**Solution**"
   ]
  },
  {
   "cell_type": "markdown",
   "id": "reflected-start",
   "metadata": {},
   "source": [
    "### Load"
   ]
  },
  {
   "cell_type": "code",
   "execution_count": 97,
   "id": "elder-airplane",
   "metadata": {},
   "outputs": [],
   "source": [
    "def load_titanic_data():\n",
    "    train_set = pd.read_csv(TITANIC_TRAIN_DATA_FILE)\n",
    "    test_set = pd.read_csv(TITANIC_TEST_DATA_FILE)\n",
    "    \n",
    "    return train_set, test_set"
   ]
  },
  {
   "cell_type": "code",
   "execution_count": 98,
   "id": "necessary-issue",
   "metadata": {},
   "outputs": [],
   "source": [
    "train_set, test_set = load_titanic_data()"
   ]
  },
  {
   "cell_type": "markdown",
   "id": "roman-pledge",
   "metadata": {},
   "source": [
    "### Inspect"
   ]
  },
  {
   "cell_type": "code",
   "execution_count": 99,
   "id": "disabled-accent",
   "metadata": {},
   "outputs": [
    {
     "name": "stdout",
     "output_type": "stream",
     "text": [
      "<class 'pandas.core.frame.DataFrame'>\n",
      "RangeIndex: 891 entries, 0 to 890\n",
      "Data columns (total 12 columns):\n",
      " #   Column       Non-Null Count  Dtype  \n",
      "---  ------       --------------  -----  \n",
      " 0   PassengerId  891 non-null    int64  \n",
      " 1   Survived     891 non-null    int64  \n",
      " 2   Pclass       891 non-null    int64  \n",
      " 3   Name         891 non-null    object \n",
      " 4   Sex          891 non-null    object \n",
      " 5   Age          714 non-null    float64\n",
      " 6   SibSp        891 non-null    int64  \n",
      " 7   Parch        891 non-null    int64  \n",
      " 8   Ticket       891 non-null    object \n",
      " 9   Fare         891 non-null    float64\n",
      " 10  Cabin        204 non-null    object \n",
      " 11  Embarked     889 non-null    object \n",
      "dtypes: float64(2), int64(5), object(5)\n",
      "memory usage: 83.7+ KB\n"
     ]
    }
   ],
   "source": [
    "train_set.info()"
   ]
  },
  {
   "cell_type": "code",
   "execution_count": 100,
   "id": "unusual-concentration",
   "metadata": {},
   "outputs": [
    {
     "data": {
      "text/html": [
       "<div>\n",
       "<style scoped>\n",
       "    .dataframe tbody tr th:only-of-type {\n",
       "        vertical-align: middle;\n",
       "    }\n",
       "\n",
       "    .dataframe tbody tr th {\n",
       "        vertical-align: top;\n",
       "    }\n",
       "\n",
       "    .dataframe thead th {\n",
       "        text-align: right;\n",
       "    }\n",
       "</style>\n",
       "<table border=\"1\" class=\"dataframe\">\n",
       "  <thead>\n",
       "    <tr style=\"text-align: right;\">\n",
       "      <th></th>\n",
       "      <th>PassengerId</th>\n",
       "      <th>Survived</th>\n",
       "      <th>Pclass</th>\n",
       "      <th>Age</th>\n",
       "      <th>SibSp</th>\n",
       "      <th>Parch</th>\n",
       "      <th>Fare</th>\n",
       "    </tr>\n",
       "  </thead>\n",
       "  <tbody>\n",
       "    <tr>\n",
       "      <th>count</th>\n",
       "      <td>891.000000</td>\n",
       "      <td>891.000000</td>\n",
       "      <td>891.000000</td>\n",
       "      <td>714.000000</td>\n",
       "      <td>891.000000</td>\n",
       "      <td>891.000000</td>\n",
       "      <td>891.000000</td>\n",
       "    </tr>\n",
       "    <tr>\n",
       "      <th>mean</th>\n",
       "      <td>446.000000</td>\n",
       "      <td>0.383838</td>\n",
       "      <td>2.308642</td>\n",
       "      <td>29.699118</td>\n",
       "      <td>0.523008</td>\n",
       "      <td>0.381594</td>\n",
       "      <td>32.204208</td>\n",
       "    </tr>\n",
       "    <tr>\n",
       "      <th>std</th>\n",
       "      <td>257.353842</td>\n",
       "      <td>0.486592</td>\n",
       "      <td>0.836071</td>\n",
       "      <td>14.526497</td>\n",
       "      <td>1.102743</td>\n",
       "      <td>0.806057</td>\n",
       "      <td>49.693429</td>\n",
       "    </tr>\n",
       "    <tr>\n",
       "      <th>min</th>\n",
       "      <td>1.000000</td>\n",
       "      <td>0.000000</td>\n",
       "      <td>1.000000</td>\n",
       "      <td>0.420000</td>\n",
       "      <td>0.000000</td>\n",
       "      <td>0.000000</td>\n",
       "      <td>0.000000</td>\n",
       "    </tr>\n",
       "    <tr>\n",
       "      <th>25%</th>\n",
       "      <td>223.500000</td>\n",
       "      <td>0.000000</td>\n",
       "      <td>2.000000</td>\n",
       "      <td>20.125000</td>\n",
       "      <td>0.000000</td>\n",
       "      <td>0.000000</td>\n",
       "      <td>7.910400</td>\n",
       "    </tr>\n",
       "    <tr>\n",
       "      <th>50%</th>\n",
       "      <td>446.000000</td>\n",
       "      <td>0.000000</td>\n",
       "      <td>3.000000</td>\n",
       "      <td>28.000000</td>\n",
       "      <td>0.000000</td>\n",
       "      <td>0.000000</td>\n",
       "      <td>14.454200</td>\n",
       "    </tr>\n",
       "    <tr>\n",
       "      <th>75%</th>\n",
       "      <td>668.500000</td>\n",
       "      <td>1.000000</td>\n",
       "      <td>3.000000</td>\n",
       "      <td>38.000000</td>\n",
       "      <td>1.000000</td>\n",
       "      <td>0.000000</td>\n",
       "      <td>31.000000</td>\n",
       "    </tr>\n",
       "    <tr>\n",
       "      <th>max</th>\n",
       "      <td>891.000000</td>\n",
       "      <td>1.000000</td>\n",
       "      <td>3.000000</td>\n",
       "      <td>80.000000</td>\n",
       "      <td>8.000000</td>\n",
       "      <td>6.000000</td>\n",
       "      <td>512.329200</td>\n",
       "    </tr>\n",
       "  </tbody>\n",
       "</table>\n",
       "</div>"
      ],
      "text/plain": [
       "       PassengerId    Survived      Pclass         Age       SibSp  \\\n",
       "count   891.000000  891.000000  891.000000  714.000000  891.000000   \n",
       "mean    446.000000    0.383838    2.308642   29.699118    0.523008   \n",
       "std     257.353842    0.486592    0.836071   14.526497    1.102743   \n",
       "min       1.000000    0.000000    1.000000    0.420000    0.000000   \n",
       "25%     223.500000    0.000000    2.000000   20.125000    0.000000   \n",
       "50%     446.000000    0.000000    3.000000   28.000000    0.000000   \n",
       "75%     668.500000    1.000000    3.000000   38.000000    1.000000   \n",
       "max     891.000000    1.000000    3.000000   80.000000    8.000000   \n",
       "\n",
       "            Parch        Fare  \n",
       "count  891.000000  891.000000  \n",
       "mean     0.381594   32.204208  \n",
       "std      0.806057   49.693429  \n",
       "min      0.000000    0.000000  \n",
       "25%      0.000000    7.910400  \n",
       "50%      0.000000   14.454200  \n",
       "75%      0.000000   31.000000  \n",
       "max      6.000000  512.329200  "
      ]
     },
     "execution_count": 100,
     "metadata": {},
     "output_type": "execute_result"
    }
   ],
   "source": [
    "train_set.describe()"
   ]
  },
  {
   "cell_type": "code",
   "execution_count": 101,
   "id": "portuguese-incidence",
   "metadata": {},
   "outputs": [
    {
     "data": {
      "text/html": [
       "<div>\n",
       "<style scoped>\n",
       "    .dataframe tbody tr th:only-of-type {\n",
       "        vertical-align: middle;\n",
       "    }\n",
       "\n",
       "    .dataframe tbody tr th {\n",
       "        vertical-align: top;\n",
       "    }\n",
       "\n",
       "    .dataframe thead th {\n",
       "        text-align: right;\n",
       "    }\n",
       "</style>\n",
       "<table border=\"1\" class=\"dataframe\">\n",
       "  <thead>\n",
       "    <tr style=\"text-align: right;\">\n",
       "      <th></th>\n",
       "      <th>PassengerId</th>\n",
       "      <th>Survived</th>\n",
       "      <th>Pclass</th>\n",
       "      <th>Name</th>\n",
       "      <th>Sex</th>\n",
       "      <th>Age</th>\n",
       "      <th>SibSp</th>\n",
       "      <th>Parch</th>\n",
       "      <th>Ticket</th>\n",
       "      <th>Fare</th>\n",
       "      <th>Cabin</th>\n",
       "      <th>Embarked</th>\n",
       "    </tr>\n",
       "  </thead>\n",
       "  <tbody>\n",
       "    <tr>\n",
       "      <th>0</th>\n",
       "      <td>1</td>\n",
       "      <td>0</td>\n",
       "      <td>3</td>\n",
       "      <td>Braund, Mr. Owen Harris</td>\n",
       "      <td>male</td>\n",
       "      <td>22.0</td>\n",
       "      <td>1</td>\n",
       "      <td>0</td>\n",
       "      <td>A/5 21171</td>\n",
       "      <td>7.2500</td>\n",
       "      <td>NaN</td>\n",
       "      <td>S</td>\n",
       "    </tr>\n",
       "    <tr>\n",
       "      <th>1</th>\n",
       "      <td>2</td>\n",
       "      <td>1</td>\n",
       "      <td>1</td>\n",
       "      <td>Cumings, Mrs. John Bradley (Florence Briggs Th...</td>\n",
       "      <td>female</td>\n",
       "      <td>38.0</td>\n",
       "      <td>1</td>\n",
       "      <td>0</td>\n",
       "      <td>PC 17599</td>\n",
       "      <td>71.2833</td>\n",
       "      <td>C85</td>\n",
       "      <td>C</td>\n",
       "    </tr>\n",
       "    <tr>\n",
       "      <th>2</th>\n",
       "      <td>3</td>\n",
       "      <td>1</td>\n",
       "      <td>3</td>\n",
       "      <td>Heikkinen, Miss. Laina</td>\n",
       "      <td>female</td>\n",
       "      <td>26.0</td>\n",
       "      <td>0</td>\n",
       "      <td>0</td>\n",
       "      <td>STON/O2. 3101282</td>\n",
       "      <td>7.9250</td>\n",
       "      <td>NaN</td>\n",
       "      <td>S</td>\n",
       "    </tr>\n",
       "    <tr>\n",
       "      <th>3</th>\n",
       "      <td>4</td>\n",
       "      <td>1</td>\n",
       "      <td>1</td>\n",
       "      <td>Futrelle, Mrs. Jacques Heath (Lily May Peel)</td>\n",
       "      <td>female</td>\n",
       "      <td>35.0</td>\n",
       "      <td>1</td>\n",
       "      <td>0</td>\n",
       "      <td>113803</td>\n",
       "      <td>53.1000</td>\n",
       "      <td>C123</td>\n",
       "      <td>S</td>\n",
       "    </tr>\n",
       "    <tr>\n",
       "      <th>4</th>\n",
       "      <td>5</td>\n",
       "      <td>0</td>\n",
       "      <td>3</td>\n",
       "      <td>Allen, Mr. William Henry</td>\n",
       "      <td>male</td>\n",
       "      <td>35.0</td>\n",
       "      <td>0</td>\n",
       "      <td>0</td>\n",
       "      <td>373450</td>\n",
       "      <td>8.0500</td>\n",
       "      <td>NaN</td>\n",
       "      <td>S</td>\n",
       "    </tr>\n",
       "  </tbody>\n",
       "</table>\n",
       "</div>"
      ],
      "text/plain": [
       "   PassengerId  Survived  Pclass  \\\n",
       "0            1         0       3   \n",
       "1            2         1       1   \n",
       "2            3         1       3   \n",
       "3            4         1       1   \n",
       "4            5         0       3   \n",
       "\n",
       "                                                Name     Sex   Age  SibSp  \\\n",
       "0                            Braund, Mr. Owen Harris    male  22.0      1   \n",
       "1  Cumings, Mrs. John Bradley (Florence Briggs Th...  female  38.0      1   \n",
       "2                             Heikkinen, Miss. Laina  female  26.0      0   \n",
       "3       Futrelle, Mrs. Jacques Heath (Lily May Peel)  female  35.0      1   \n",
       "4                           Allen, Mr. William Henry    male  35.0      0   \n",
       "\n",
       "   Parch            Ticket     Fare Cabin Embarked  \n",
       "0      0         A/5 21171   7.2500   NaN        S  \n",
       "1      0          PC 17599  71.2833   C85        C  \n",
       "2      0  STON/O2. 3101282   7.9250   NaN        S  \n",
       "3      0            113803  53.1000  C123        S  \n",
       "4      0            373450   8.0500   NaN        S  "
      ]
     },
     "execution_count": 101,
     "metadata": {},
     "output_type": "execute_result"
    }
   ],
   "source": [
    "train_set.head()"
   ]
  },
  {
   "cell_type": "markdown",
   "id": "corrected-market",
   "metadata": {},
   "source": [
    "### Prepare (numerical)"
   ]
  },
  {
   "cell_type": "code",
   "execution_count": 102,
   "id": "polar-public",
   "metadata": {},
   "outputs": [],
   "source": [
    "class DataFrameSelector(BaseEstimator, TransformerMixin):\n",
    "    def __init__(self, attribute_names):\n",
    "        self.attribute_names = attribute_names\n",
    "    \n",
    "    def fit(self, X, y=None):\n",
    "        return self\n",
    "    \n",
    "    def transform(self, X):\n",
    "        return X[self.attribute_names]"
   ]
  },
  {
   "cell_type": "code",
   "execution_count": 103,
   "id": "explicit-pepper",
   "metadata": {},
   "outputs": [],
   "source": [
    "numerical_pipeline = Pipeline([\n",
    "    (\"dataframe_selector\", DataFrameSelector([\"Age\", \"SibSp\", \"Parch\", \"Fare\"])),\n",
    "    (\"simple_imputer\", SimpleImputer(strategy=\"median\")),\n",
    "])"
   ]
  },
  {
   "cell_type": "code",
   "execution_count": 104,
   "id": "soviet-helmet",
   "metadata": {},
   "outputs": [
    {
     "data": {
      "text/plain": [
       "array([[22.    ,  1.    ,  0.    ,  7.25  ],\n",
       "       [38.    ,  1.    ,  0.    , 71.2833],\n",
       "       [26.    ,  0.    ,  0.    ,  7.925 ],\n",
       "       ...,\n",
       "       [28.    ,  1.    ,  2.    , 23.45  ],\n",
       "       [26.    ,  0.    ,  0.    , 30.    ],\n",
       "       [32.    ,  0.    ,  0.    ,  7.75  ]])"
      ]
     },
     "execution_count": 104,
     "metadata": {},
     "output_type": "execute_result"
    }
   ],
   "source": [
    "numerical_pipeline.fit_transform(train_set)"
   ]
  },
  {
   "cell_type": "markdown",
   "id": "straight-juvenile",
   "metadata": {},
   "source": [
    "### Prepare (categorical)"
   ]
  },
  {
   "cell_type": "code",
   "execution_count": 105,
   "id": "static-flavor",
   "metadata": {},
   "outputs": [],
   "source": [
    "class MostFrequentImputer(BaseEstimator, TransformerMixin):\n",
    "    def fit(self, X, y=None):\n",
    "        self.most_frequent_ = pd.Series([X[c].value_counts().index[0] for c in X], index=X.columns)\n",
    "        return self\n",
    "    \n",
    "    def transform(self, X, y=None):\n",
    "        return X.fillna(self.most_frequent_)"
   ]
  },
  {
   "cell_type": "code",
   "execution_count": 106,
   "id": "prostate-republican",
   "metadata": {},
   "outputs": [],
   "source": [
    "categorical_pipeline = Pipeline([\n",
    "    (\"dataframe_selector\", DataFrameSelector([\"Pclass\", \"Sex\", \"Embarked\"])),\n",
    "    (\"most_frequent_imputer\", MostFrequentImputer()),\n",
    "    (\"one_hot_encoder\", OneHotEncoder(sparse=False)),\n",
    "])"
   ]
  },
  {
   "cell_type": "code",
   "execution_count": 107,
   "id": "rising-theta",
   "metadata": {},
   "outputs": [
    {
     "data": {
      "text/plain": [
       "array([[0., 0., 1., ..., 0., 0., 1.],\n",
       "       [1., 0., 0., ..., 1., 0., 0.],\n",
       "       [0., 0., 1., ..., 0., 0., 1.],\n",
       "       ...,\n",
       "       [0., 0., 1., ..., 0., 0., 1.],\n",
       "       [1., 0., 0., ..., 1., 0., 0.],\n",
       "       [0., 0., 1., ..., 0., 1., 0.]])"
      ]
     },
     "execution_count": 107,
     "metadata": {},
     "output_type": "execute_result"
    }
   ],
   "source": [
    "categorical_pipeline.fit_transform(train_set)"
   ]
  },
  {
   "cell_type": "markdown",
   "id": "spare-ocean",
   "metadata": {},
   "source": [
    "### Prepare (all)"
   ]
  },
  {
   "cell_type": "code",
   "execution_count": 108,
   "id": "caring-spending",
   "metadata": {},
   "outputs": [],
   "source": [
    "preprocess_pipeline = FeatureUnion(transformer_list=[\n",
    "    (\"numerical_pipeline\", numerical_pipeline),\n",
    "    (\"categorical_pipeline\", categorical_pipeline),\n",
    "])"
   ]
  },
  {
   "cell_type": "code",
   "execution_count": 109,
   "id": "legislative-differential",
   "metadata": {},
   "outputs": [
    {
     "data": {
      "text/plain": [
       "array([[22.,  1.,  0., ...,  0.,  0.,  1.],\n",
       "       [38.,  1.,  0., ...,  1.,  0.,  0.],\n",
       "       [26.,  0.,  0., ...,  0.,  0.,  1.],\n",
       "       ...,\n",
       "       [28.,  1.,  2., ...,  0.,  0.,  1.],\n",
       "       [26.,  0.,  0., ...,  1.,  0.,  0.],\n",
       "       [32.,  0.,  0., ...,  0.,  1.,  0.]])"
      ]
     },
     "execution_count": 109,
     "metadata": {},
     "output_type": "execute_result"
    }
   ],
   "source": [
    "X_train = preprocess_pipeline.fit_transform(train_set)\n",
    "X_train"
   ]
  },
  {
   "cell_type": "code",
   "execution_count": 110,
   "id": "ranking-handy",
   "metadata": {},
   "outputs": [],
   "source": [
    "y_train = train_set[\"Survived\"]"
   ]
  },
  {
   "cell_type": "markdown",
   "id": "dangerous-fitting",
   "metadata": {},
   "source": [
    "### Train (SVC)"
   ]
  },
  {
   "cell_type": "code",
   "execution_count": 111,
   "id": "infrared-affect",
   "metadata": {},
   "outputs": [],
   "source": [
    "svc_model = SVC(gamma=\"auto\")"
   ]
  },
  {
   "cell_type": "code",
   "execution_count": 112,
   "id": "documentary-plumbing",
   "metadata": {},
   "outputs": [
    {
     "name": "stdout",
     "output_type": "stream",
     "text": [
      "CPU times: user 32 ms, sys: 100 µs, total: 32.1 ms\n",
      "Wall time: 34.8 ms\n"
     ]
    },
    {
     "data": {
      "text/plain": [
       "SVC(gamma='auto')"
      ]
     },
     "execution_count": 112,
     "metadata": {},
     "output_type": "execute_result"
    }
   ],
   "source": [
    "%%time\n",
    "svc_model.fit(X_train, y_train)"
   ]
  },
  {
   "cell_type": "markdown",
   "id": "functioning-trade",
   "metadata": {},
   "source": [
    "### Performance (SVC)"
   ]
  },
  {
   "cell_type": "code",
   "execution_count": 113,
   "id": "incident-appointment",
   "metadata": {},
   "outputs": [
    {
     "name": "stdout",
     "output_type": "stream",
     "text": [
      "CPU times: user 12.3 ms, sys: 3.96 ms, total: 16.3 ms\n",
      "Wall time: 670 ms\n"
     ]
    }
   ],
   "source": [
    "%%time\n",
    "scores = cross_val_score(svc_model, X_train, y_train, cv=10, n_jobs=JOB_COUNT)"
   ]
  },
  {
   "cell_type": "code",
   "execution_count": 114,
   "id": "unauthorized-timer",
   "metadata": {},
   "outputs": [
    {
     "data": {
      "text/plain": [
       "0.7329588014981274"
      ]
     },
     "execution_count": 114,
     "metadata": {},
     "output_type": "execute_result"
    }
   ],
   "source": [
    "scores.mean()"
   ]
  },
  {
   "cell_type": "markdown",
   "id": "desirable-accreditation",
   "metadata": {},
   "source": [
    "### Train (random forest)"
   ]
  },
  {
   "cell_type": "code",
   "execution_count": 115,
   "id": "featured-robinson",
   "metadata": {},
   "outputs": [],
   "source": [
    "rf_model = RandomForestClassifier(n_estimators=100, random_state=RANDOM_SEED)"
   ]
  },
  {
   "cell_type": "code",
   "execution_count": 116,
   "id": "sufficient-copyright",
   "metadata": {},
   "outputs": [
    {
     "name": "stdout",
     "output_type": "stream",
     "text": [
      "CPU times: user 120 ms, sys: 552 µs, total: 121 ms\n",
      "Wall time: 122 ms\n"
     ]
    },
    {
     "data": {
      "text/plain": [
       "RandomForestClassifier(random_state=42)"
      ]
     },
     "execution_count": 116,
     "metadata": {},
     "output_type": "execute_result"
    }
   ],
   "source": [
    "%%time\n",
    "rf_model.fit(X_train, y_train)"
   ]
  },
  {
   "cell_type": "markdown",
   "id": "minute-victorian",
   "metadata": {},
   "source": [
    "### Performance (random forest)"
   ]
  },
  {
   "cell_type": "code",
   "execution_count": 117,
   "id": "mexican-guinea",
   "metadata": {},
   "outputs": [
    {
     "name": "stdout",
     "output_type": "stream",
     "text": [
      "CPU times: user 13.6 ms, sys: 0 ns, total: 13.6 ms\n",
      "Wall time: 572 ms\n"
     ]
    }
   ],
   "source": [
    "%%time\n",
    "scores = cross_val_score(rf_model, X_train, y_train, cv=10, n_jobs=JOB_COUNT)"
   ]
  },
  {
   "cell_type": "code",
   "execution_count": 118,
   "id": "several-supplement",
   "metadata": {},
   "outputs": [
    {
     "data": {
      "text/plain": [
       "0.8126466916354558"
      ]
     },
     "execution_count": 118,
     "metadata": {},
     "output_type": "execute_result"
    }
   ],
   "source": [
    "scores.mean()"
   ]
  }
 ],
 "metadata": {
  "kernelspec": {
   "display_name": "Python 3",
   "language": "python",
   "name": "python3"
  },
  "language_info": {
   "codemirror_mode": {
    "name": "ipython",
    "version": 3
   },
   "file_extension": ".py",
   "mimetype": "text/x-python",
   "name": "python",
   "nbconvert_exporter": "python",
   "pygments_lexer": "ipython3",
   "version": "3.8.5"
  }
 },
 "nbformat": 4,
 "nbformat_minor": 5
}
