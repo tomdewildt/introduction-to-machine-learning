{
 "cells": [
  {
   "cell_type": "markdown",
   "id": "occupied-moore",
   "metadata": {},
   "source": [
    "# Chapter 9: Blobs, Image, Digits, Moons & Generated\n",
    "\n",
    "This notebook contains the code for chapter 9 of the Hands-on Machine Learning with Scikit-Learn, Keras & Tensorflow book."
   ]
  },
  {
   "cell_type": "code",
   "execution_count": 1,
   "id": "lucky-command",
   "metadata": {},
   "outputs": [],
   "source": [
    "from sklearn.mixture import BayesianGaussianMixture, GaussianMixture\n",
    "from sklearn.datasets import load_digits, make_blobs, make_moons\n",
    "from sklearn.cluster import DBSCAN, KMeans, MiniBatchKMeans\n",
    "from sklearn.model_selection import train_test_split\n",
    "from sklearn.linear_model import LogisticRegression\n",
    "from sklearn.neighbors import KNeighborsClassifier\n",
    "from sklearn.model_selection import GridSearchCV\n",
    "from sklearn.pipeline import Pipeline\n",
    "\n",
    "from matplotlib.image import imread\n",
    "import numpy as np"
   ]
  },
  {
   "cell_type": "markdown",
   "id": "express-dancing",
   "metadata": {},
   "source": [
    "## Global configuration"
   ]
  },
  {
   "cell_type": "code",
   "execution_count": 2,
   "id": "ethical-clark",
   "metadata": {},
   "outputs": [],
   "source": [
    "ASSETS_PATH = \"./assets/\"\n",
    "\n",
    "RANDOM_SEED = 42\n",
    "\n",
    "JOB_COUNT = 3"
   ]
  },
  {
   "cell_type": "code",
   "execution_count": 3,
   "id": "lesser-current",
   "metadata": {},
   "outputs": [],
   "source": [
    "np.random.seed(RANDOM_SEED)"
   ]
  },
  {
   "cell_type": "markdown",
   "id": "5fc4414a",
   "metadata": {},
   "source": [
    "## Load <ins>blobs</ins> data "
   ]
  },
  {
   "cell_type": "code",
   "execution_count": 4,
   "id": "c6eda4ca",
   "metadata": {},
   "outputs": [],
   "source": [
    "centers = np.array([[ 0.2,  2.3],[-1.5 ,  2.3],[-2.8,  1.8],[-2.8,  2.8],[-2.8,  1.3]])\n",
    "stdevs = np.array([0.4, 0.3, 0.1, 0.1, 0.1])"
   ]
  },
  {
   "cell_type": "code",
   "execution_count": 5,
   "id": "bc76e995",
   "metadata": {},
   "outputs": [],
   "source": [
    "X, y = make_blobs(n_samples=2000, centers=centers, cluster_std=stdevs, random_state=RANDOM_SEED)"
   ]
  },
  {
   "cell_type": "markdown",
   "id": "1ef64bf8",
   "metadata": {},
   "source": [
    "## Train <ins>k-means</ins> model"
   ]
  },
  {
   "cell_type": "code",
   "execution_count": 6,
   "id": "f2a28268",
   "metadata": {},
   "outputs": [],
   "source": [
    "km_model = KMeans(n_clusters=5)"
   ]
  },
  {
   "cell_type": "code",
   "execution_count": 7,
   "id": "198adfd8",
   "metadata": {},
   "outputs": [
    {
     "name": "stdout",
     "output_type": "stream",
     "text": [
      "CPU times: user 212 ms, sys: 41.4 ms, total: 254 ms\n",
      "Wall time: 35.9 ms\n"
     ]
    },
    {
     "data": {
      "text/plain": [
       "array([3, 0, 2, ..., 0, 3, 1], dtype=int32)"
      ]
     },
     "execution_count": 7,
     "metadata": {},
     "output_type": "execute_result"
    }
   ],
   "source": [
    "%%time\n",
    "y_predictions = km_model.fit_predict(X)\n",
    "y_predictions"
   ]
  },
  {
   "cell_type": "code",
   "execution_count": 8,
   "id": "447db247",
   "metadata": {},
   "outputs": [
    {
     "data": {
      "text/plain": [
       "array([[ 0.20925539,  2.30351618],\n",
       "       [-2.80372723,  1.80873739],\n",
       "       [-1.4453407 ,  2.32051326],\n",
       "       [-2.79846237,  2.80004584],\n",
       "       [-2.79244799,  1.2973862 ]])"
      ]
     },
     "execution_count": 8,
     "metadata": {},
     "output_type": "execute_result"
    }
   ],
   "source": [
    "km_model.cluster_centers_"
   ]
  },
  {
   "cell_type": "markdown",
   "id": "fbf1a175",
   "metadata": {},
   "source": [
    "## Evaluate <ins>k-means</ins> model"
   ]
  },
  {
   "cell_type": "code",
   "execution_count": 9,
   "id": "17aaa8d9",
   "metadata": {},
   "outputs": [],
   "source": [
    "X_new = np.array([[0, 2], [3, 2], [-3, 3], [-3, 2.5]])"
   ]
  },
  {
   "cell_type": "code",
   "execution_count": 10,
   "id": "0881894c",
   "metadata": {},
   "outputs": [
    {
     "data": {
      "text/plain": [
       "array([0, 0, 3, 3], dtype=int32)"
      ]
     },
     "execution_count": 10,
     "metadata": {},
     "output_type": "execute_result"
    }
   ],
   "source": [
    "km_model.predict(X_new)"
   ]
  },
  {
   "cell_type": "code",
   "execution_count": 11,
   "id": "ecc51c2b",
   "metadata": {},
   "outputs": [
    {
     "data": {
      "text/plain": [
       "array([[0.36865958, 2.81024337, 1.48045212, 2.91057812, 2.87948466],\n",
       "       [2.80720102, 5.80687792, 4.45688037, 5.85339553, 5.8349053 ],\n",
       "       [3.28396253, 1.20732332, 1.69666372, 0.28389977, 1.71521765],\n",
       "       [3.21526454, 0.7185868 , 1.56498595, 0.36144837, 1.22039247]])"
      ]
     },
     "execution_count": 11,
     "metadata": {},
     "output_type": "execute_result"
    }
   ],
   "source": [
    "km_model.transform(X_new)"
   ]
  },
  {
   "cell_type": "markdown",
   "id": "8bd8b58e",
   "metadata": {},
   "source": [
    "## Train <ins>k-means</ins> model (manual init)"
   ]
  },
  {
   "cell_type": "code",
   "execution_count": 12,
   "id": "d58df8ae",
   "metadata": {},
   "outputs": [],
   "source": [
    "centers = np.array([[-3, 3], [-3, 2], [-3, 1], [-1, 2], [0, 2]])"
   ]
  },
  {
   "cell_type": "code",
   "execution_count": 13,
   "id": "059f96b9",
   "metadata": {},
   "outputs": [],
   "source": [
    "km_model = KMeans(n_clusters=5, init=centers, n_init=1)"
   ]
  },
  {
   "cell_type": "code",
   "execution_count": 14,
   "id": "950e3411",
   "metadata": {},
   "outputs": [
    {
     "name": "stdout",
     "output_type": "stream",
     "text": [
      "CPU times: user 6.82 ms, sys: 4.62 ms, total: 11.4 ms\n",
      "Wall time: 2.69 ms\n"
     ]
    },
    {
     "data": {
      "text/plain": [
       "KMeans(init=array([[-3,  3],\n",
       "       [-3,  2],\n",
       "       [-3,  1],\n",
       "       [-1,  2],\n",
       "       [ 0,  2]]),\n",
       "       n_clusters=5, n_init=1)"
      ]
     },
     "execution_count": 14,
     "metadata": {},
     "output_type": "execute_result"
    }
   ],
   "source": [
    "%%time\n",
    "km_model.fit(X)"
   ]
  },
  {
   "cell_type": "code",
   "execution_count": 15,
   "id": "24e7ea7e",
   "metadata": {},
   "outputs": [
    {
     "data": {
      "text/plain": [
       "array([[-2.79846237,  2.80004584],\n",
       "       [-2.80372723,  1.80873739],\n",
       "       [-2.79244799,  1.2973862 ],\n",
       "       [-1.4453407 ,  2.32051326],\n",
       "       [ 0.20925539,  2.30351618]])"
      ]
     },
     "execution_count": 15,
     "metadata": {},
     "output_type": "execute_result"
    }
   ],
   "source": [
    "km_model.cluster_centers_"
   ]
  },
  {
   "cell_type": "code",
   "execution_count": 16,
   "id": "9966a8c7",
   "metadata": {},
   "outputs": [
    {
     "data": {
      "text/plain": [
       "213.42177131258921"
      ]
     },
     "execution_count": 16,
     "metadata": {},
     "output_type": "execute_result"
    }
   ],
   "source": [
    "km_model.inertia_"
   ]
  },
  {
   "cell_type": "markdown",
   "id": "1fdc0b8c",
   "metadata": {},
   "source": [
    "## Train <ins>k-means</ins> model (minibatches)"
   ]
  },
  {
   "cell_type": "code",
   "execution_count": 17,
   "id": "3c2548ff",
   "metadata": {},
   "outputs": [],
   "source": [
    "mbkm_model = MiniBatchKMeans(n_clusters=5)"
   ]
  },
  {
   "cell_type": "code",
   "execution_count": 18,
   "id": "25e00752",
   "metadata": {},
   "outputs": [
    {
     "name": "stdout",
     "output_type": "stream",
     "text": [
      "CPU times: user 28.5 ms, sys: 8.29 ms, total: 36.8 ms\n",
      "Wall time: 26 ms\n"
     ]
    },
    {
     "data": {
      "text/plain": [
       "MiniBatchKMeans(n_clusters=5)"
      ]
     },
     "execution_count": 18,
     "metadata": {},
     "output_type": "execute_result"
    }
   ],
   "source": [
    "%%time\n",
    "mbkm_model.fit(X)"
   ]
  },
  {
   "cell_type": "code",
   "execution_count": 19,
   "id": "134b4530",
   "metadata": {},
   "outputs": [
    {
     "data": {
      "text/plain": [
       "array([[ 0.22270594,  2.32635029],\n",
       "       [-2.79937075,  1.53940327],\n",
       "       [-2.80763649,  2.80702889],\n",
       "       [-1.30478636,  2.0684536 ],\n",
       "       [-1.55943359,  2.55142098]])"
      ]
     },
     "execution_count": 19,
     "metadata": {},
     "output_type": "execute_result"
    }
   ],
   "source": [
    "mbkm_model.cluster_centers_"
   ]
  },
  {
   "cell_type": "code",
   "execution_count": 20,
   "id": "a9d65411",
   "metadata": {},
   "outputs": [
    {
     "data": {
      "text/plain": [
       "241.2791397398836"
      ]
     },
     "execution_count": 20,
     "metadata": {},
     "output_type": "execute_result"
    }
   ],
   "source": [
    "mbkm_model.inertia_"
   ]
  },
  {
   "cell_type": "markdown",
   "id": "f239528d",
   "metadata": {},
   "source": [
    "## Load <ins>image</ins> data"
   ]
  },
  {
   "cell_type": "code",
   "execution_count": 21,
   "id": "4d3ec9c1",
   "metadata": {},
   "outputs": [],
   "source": [
    "image = imread(ASSETS_PATH + \"ladybug.png\")"
   ]
  },
  {
   "cell_type": "code",
   "execution_count": 22,
   "id": "d0ae589a",
   "metadata": {},
   "outputs": [
    {
     "data": {
      "text/plain": [
       "(533, 800, 3)"
      ]
     },
     "execution_count": 22,
     "metadata": {},
     "output_type": "execute_result"
    }
   ],
   "source": [
    "image.shape"
   ]
  },
  {
   "cell_type": "markdown",
   "id": "4233de40",
   "metadata": {},
   "source": [
    "## Transform <ins>image</ins> data"
   ]
  },
  {
   "cell_type": "code",
   "execution_count": 23,
   "id": "ca7e09a2",
   "metadata": {},
   "outputs": [],
   "source": [
    "X = image.reshape(-1, 3)"
   ]
  },
  {
   "cell_type": "markdown",
   "id": "b600d266",
   "metadata": {},
   "source": [
    "## Train <ins>k-means</ins> model"
   ]
  },
  {
   "cell_type": "code",
   "execution_count": 24,
   "id": "c8088215",
   "metadata": {},
   "outputs": [],
   "source": [
    "km_model = KMeans(n_clusters=8)"
   ]
  },
  {
   "cell_type": "code",
   "execution_count": 25,
   "id": "581cd31d",
   "metadata": {},
   "outputs": [
    {
     "name": "stdout",
     "output_type": "stream",
     "text": [
      "CPU times: user 46.3 s, sys: 164 ms, total: 46.5 s\n",
      "Wall time: 4.43 s\n"
     ]
    },
    {
     "data": {
      "text/plain": [
       "KMeans()"
      ]
     },
     "execution_count": 25,
     "metadata": {},
     "output_type": "execute_result"
    }
   ],
   "source": [
    "%%time\n",
    "km_model.fit(X)"
   ]
  },
  {
   "cell_type": "code",
   "execution_count": 26,
   "id": "86fc733a",
   "metadata": {
    "scrolled": false
   },
   "outputs": [
    {
     "data": {
      "text/plain": [
       "array([[[0.02201903, 0.10831228, 0.00568088],\n",
       "        [0.02201903, 0.10831228, 0.00568088],\n",
       "        [0.02201903, 0.10831228, 0.00568088],\n",
       "        ...,\n",
       "        [0.21325621, 0.3807997 , 0.05521415],\n",
       "        [0.21325621, 0.3807997 , 0.05521415],\n",
       "        [0.21325621, 0.3807997 , 0.05521415]],\n",
       "\n",
       "       [[0.02201903, 0.10831228, 0.00568088],\n",
       "        [0.02201903, 0.10831228, 0.00568088],\n",
       "        [0.02201903, 0.10831228, 0.00568088],\n",
       "        ...,\n",
       "        [0.21325621, 0.3807997 , 0.05521415],\n",
       "        [0.21325621, 0.3807997 , 0.05521415],\n",
       "        [0.21325621, 0.3807997 , 0.05521415]],\n",
       "\n",
       "       [[0.02201903, 0.10831228, 0.00568088],\n",
       "        [0.02201903, 0.10831228, 0.00568088],\n",
       "        [0.02201903, 0.10831228, 0.00568088],\n",
       "        ...,\n",
       "        [0.21325621, 0.3807997 , 0.05521415],\n",
       "        [0.21325621, 0.3807997 , 0.05521415],\n",
       "        [0.21325621, 0.3807997 , 0.05521415]],\n",
       "\n",
       "       ...,\n",
       "\n",
       "       [[0.02201903, 0.10831228, 0.00568088],\n",
       "        [0.02201903, 0.10831228, 0.00568088],\n",
       "        [0.02201903, 0.10831228, 0.00568088],\n",
       "        ...,\n",
       "        [0.09567912, 0.24871072, 0.01605989],\n",
       "        [0.09567912, 0.24871072, 0.01605989],\n",
       "        [0.09567912, 0.24871072, 0.01605989]],\n",
       "\n",
       "       [[0.02201903, 0.10831228, 0.00568088],\n",
       "        [0.02201903, 0.10831228, 0.00568088],\n",
       "        [0.02201903, 0.10831228, 0.00568088],\n",
       "        ...,\n",
       "        [0.09567912, 0.24871072, 0.01605989],\n",
       "        [0.09567912, 0.24871072, 0.01605989],\n",
       "        [0.02201903, 0.10831228, 0.00568088]],\n",
       "\n",
       "       [[0.02201903, 0.10831228, 0.00568088],\n",
       "        [0.02201903, 0.10831228, 0.00568088],\n",
       "        [0.02201903, 0.10831228, 0.00568088],\n",
       "        ...,\n",
       "        [0.09567912, 0.24871072, 0.01605989],\n",
       "        [0.09567912, 0.24871072, 0.01605989],\n",
       "        [0.02201903, 0.10831228, 0.00568088]]], dtype=float32)"
      ]
     },
     "execution_count": 26,
     "metadata": {},
     "output_type": "execute_result"
    }
   ],
   "source": [
    "segmented_image = km_model.cluster_centers_[km_model.labels_]\n",
    "segmented_image.reshape(image.shape)"
   ]
  },
  {
   "cell_type": "markdown",
   "id": "45c263c7",
   "metadata": {},
   "source": [
    "## Load <ins>digits</ins> data"
   ]
  },
  {
   "cell_type": "code",
   "execution_count": 27,
   "id": "85d743f6",
   "metadata": {},
   "outputs": [],
   "source": [
    "X, y = load_digits(return_X_y=True)"
   ]
  },
  {
   "cell_type": "markdown",
   "id": "6721e441",
   "metadata": {},
   "source": [
    "## Split <ins>digits</ins> data"
   ]
  },
  {
   "cell_type": "code",
   "execution_count": 28,
   "id": "eb47774e",
   "metadata": {},
   "outputs": [],
   "source": [
    "X_train, X_test, y_train, y_test = train_test_split(X, y)"
   ]
  },
  {
   "cell_type": "markdown",
   "id": "1dd374e1",
   "metadata": {},
   "source": [
    "## Train <ins>logistic regression</ins> model"
   ]
  },
  {
   "cell_type": "code",
   "execution_count": 29,
   "id": "19cd87b0",
   "metadata": {},
   "outputs": [],
   "source": [
    "lr_model = LogisticRegression(random_state=RANDOM_SEED)"
   ]
  },
  {
   "cell_type": "code",
   "execution_count": 30,
   "id": "a5d95182",
   "metadata": {},
   "outputs": [
    {
     "name": "stdout",
     "output_type": "stream",
     "text": [
      "CPU times: user 467 ms, sys: 1.9 s, total: 2.37 s\n",
      "Wall time: 156 ms\n"
     ]
    },
    {
     "name": "stderr",
     "output_type": "stream",
     "text": [
      "/home/tomdewildt/Projects/introduction-to-machine-learning/venv/lib/python3.8/site-packages/sklearn/linear_model/_logistic.py:763: ConvergenceWarning: lbfgs failed to converge (status=1):\n",
      "STOP: TOTAL NO. of ITERATIONS REACHED LIMIT.\n",
      "\n",
      "Increase the number of iterations (max_iter) or scale the data as shown in:\n",
      "    https://scikit-learn.org/stable/modules/preprocessing.html\n",
      "Please also refer to the documentation for alternative solver options:\n",
      "    https://scikit-learn.org/stable/modules/linear_model.html#logistic-regression\n",
      "  n_iter_i = _check_optimize_result(\n"
     ]
    },
    {
     "data": {
      "text/plain": [
       "LogisticRegression(random_state=42)"
      ]
     },
     "execution_count": 30,
     "metadata": {},
     "output_type": "execute_result"
    }
   ],
   "source": [
    "%%time\n",
    "lr_model.fit(X_train, y_train)"
   ]
  },
  {
   "cell_type": "markdown",
   "id": "5397fc5b",
   "metadata": {},
   "source": [
    "## Performance <ins>logistic regression</ins> model"
   ]
  },
  {
   "cell_type": "code",
   "execution_count": 31,
   "id": "9260a525",
   "metadata": {},
   "outputs": [
    {
     "data": {
      "text/plain": [
       "0.9666666666666667"
      ]
     },
     "execution_count": 31,
     "metadata": {},
     "output_type": "execute_result"
    }
   ],
   "source": [
    "lr_model.score(X_test, y_test)"
   ]
  },
  {
   "cell_type": "markdown",
   "id": "2706774c",
   "metadata": {},
   "source": [
    "## Train <ins>k-means + logistic regression</ins> model"
   ]
  },
  {
   "cell_type": "code",
   "execution_count": 32,
   "id": "3c157c40",
   "metadata": {},
   "outputs": [],
   "source": [
    "pipeline = Pipeline([\n",
    "    (\"kmeans\", KMeans(n_clusters=50)),\n",
    "    (\"logistic_regression\", LogisticRegression(random_state=RANDOM_SEED)),\n",
    "])"
   ]
  },
  {
   "cell_type": "code",
   "execution_count": 33,
   "id": "a680c02c",
   "metadata": {},
   "outputs": [
    {
     "name": "stdout",
     "output_type": "stream",
     "text": [
      "CPU times: user 8.92 s, sys: 17.9 s, total: 26.8 s\n",
      "Wall time: 1.77 s\n"
     ]
    },
    {
     "name": "stderr",
     "output_type": "stream",
     "text": [
      "/home/tomdewildt/Projects/introduction-to-machine-learning/venv/lib/python3.8/site-packages/sklearn/linear_model/_logistic.py:763: ConvergenceWarning: lbfgs failed to converge (status=1):\n",
      "STOP: TOTAL NO. of ITERATIONS REACHED LIMIT.\n",
      "\n",
      "Increase the number of iterations (max_iter) or scale the data as shown in:\n",
      "    https://scikit-learn.org/stable/modules/preprocessing.html\n",
      "Please also refer to the documentation for alternative solver options:\n",
      "    https://scikit-learn.org/stable/modules/linear_model.html#logistic-regression\n",
      "  n_iter_i = _check_optimize_result(\n"
     ]
    },
    {
     "data": {
      "text/plain": [
       "Pipeline(steps=[('kmeans', KMeans(n_clusters=50)),\n",
       "                ('logistic_regression', LogisticRegression(random_state=42))])"
      ]
     },
     "execution_count": 33,
     "metadata": {},
     "output_type": "execute_result"
    }
   ],
   "source": [
    "%%time\n",
    "pipeline.fit(X_train, y_train)"
   ]
  },
  {
   "cell_type": "markdown",
   "id": "aa40de13",
   "metadata": {},
   "source": [
    "## Performance <ins>k-means + logistic regression</ins> model"
   ]
  },
  {
   "cell_type": "code",
   "execution_count": 34,
   "id": "dea810c8",
   "metadata": {},
   "outputs": [
    {
     "data": {
      "text/plain": [
       "0.9644444444444444"
      ]
     },
     "execution_count": 34,
     "metadata": {},
     "output_type": "execute_result"
    }
   ],
   "source": [
    "pipeline.score(X_test, y_test)"
   ]
  },
  {
   "cell_type": "markdown",
   "id": "e7d52d1a",
   "metadata": {},
   "source": [
    "## Tune <ins>k-means + logistic regression</ins> model"
   ]
  },
  {
   "cell_type": "code",
   "execution_count": 35,
   "id": "d0edc70b",
   "metadata": {},
   "outputs": [],
   "source": [
    "parameters = {\n",
    "    \"kmeans__n_clusters\": range(2, 100),\n",
    "}"
   ]
  },
  {
   "cell_type": "code",
   "execution_count": 36,
   "id": "5bd41f12",
   "metadata": {},
   "outputs": [],
   "source": [
    "grid_search = GridSearchCV(pipeline, parameters, cv=3, n_jobs=JOB_COUNT)"
   ]
  },
  {
   "cell_type": "code",
   "execution_count": 37,
   "id": "dc8fa2d4",
   "metadata": {},
   "outputs": [
    {
     "name": "stdout",
     "output_type": "stream",
     "text": [
      "CPU times: user 11.2 s, sys: 22.5 s, total: 33.7 s\n",
      "Wall time: 4min 26s\n"
     ]
    },
    {
     "name": "stderr",
     "output_type": "stream",
     "text": [
      "/home/tomdewildt/Projects/introduction-to-machine-learning/venv/lib/python3.8/site-packages/sklearn/linear_model/_logistic.py:763: ConvergenceWarning: lbfgs failed to converge (status=1):\n",
      "STOP: TOTAL NO. of ITERATIONS REACHED LIMIT.\n",
      "\n",
      "Increase the number of iterations (max_iter) or scale the data as shown in:\n",
      "    https://scikit-learn.org/stable/modules/preprocessing.html\n",
      "Please also refer to the documentation for alternative solver options:\n",
      "    https://scikit-learn.org/stable/modules/linear_model.html#logistic-regression\n",
      "  n_iter_i = _check_optimize_result(\n"
     ]
    },
    {
     "data": {
      "text/plain": [
       "GridSearchCV(cv=3,\n",
       "             estimator=Pipeline(steps=[('kmeans', KMeans(n_clusters=50)),\n",
       "                                       ('logistic_regression',\n",
       "                                        LogisticRegression(random_state=42))]),\n",
       "             n_jobs=3, param_grid={'kmeans__n_clusters': range(2, 100)})"
      ]
     },
     "execution_count": 37,
     "metadata": {},
     "output_type": "execute_result"
    }
   ],
   "source": [
    "%%time\n",
    "grid_search.fit(X_train, y_train)"
   ]
  },
  {
   "cell_type": "code",
   "execution_count": 38,
   "id": "069fe62e",
   "metadata": {},
   "outputs": [
    {
     "data": {
      "text/plain": [
       "{'kmeans__n_clusters': 52}"
      ]
     },
     "execution_count": 38,
     "metadata": {},
     "output_type": "execute_result"
    }
   ],
   "source": [
    "grid_search.best_params_"
   ]
  },
  {
   "cell_type": "code",
   "execution_count": 39,
   "id": "a50e8927",
   "metadata": {},
   "outputs": [
    {
     "data": {
      "text/plain": [
       "Pipeline(steps=[('kmeans', KMeans(n_clusters=52)),\n",
       "                ('logistic_regression', LogisticRegression(random_state=42))])"
      ]
     },
     "execution_count": 39,
     "metadata": {},
     "output_type": "execute_result"
    }
   ],
   "source": [
    "grid_search.best_estimator_"
   ]
  },
  {
   "cell_type": "markdown",
   "id": "0b25c436",
   "metadata": {},
   "source": [
    "## Performance <ins>k-means + logistic regression</ins> model"
   ]
  },
  {
   "cell_type": "code",
   "execution_count": 40,
   "id": "f5d80d71",
   "metadata": {},
   "outputs": [
    {
     "data": {
      "text/plain": [
       "0.9577777777777777"
      ]
     },
     "execution_count": 40,
     "metadata": {},
     "output_type": "execute_result"
    }
   ],
   "source": [
    "grid_search.score(X_test, y_test)"
   ]
  },
  {
   "cell_type": "markdown",
   "id": "a4fc4240",
   "metadata": {},
   "source": [
    "## Train <ins>logistic regression</ins> model"
   ]
  },
  {
   "cell_type": "code",
   "execution_count": 41,
   "id": "5c533622",
   "metadata": {},
   "outputs": [],
   "source": [
    "n_labeled = 50"
   ]
  },
  {
   "cell_type": "code",
   "execution_count": 42,
   "id": "58c7ca6a",
   "metadata": {},
   "outputs": [],
   "source": [
    "lr_model = LogisticRegression()"
   ]
  },
  {
   "cell_type": "code",
   "execution_count": 43,
   "id": "73b4cb30",
   "metadata": {},
   "outputs": [
    {
     "name": "stdout",
     "output_type": "stream",
     "text": [
      "CPU times: user 207 ms, sys: 628 ms, total: 835 ms\n",
      "Wall time: 87.4 ms\n"
     ]
    },
    {
     "name": "stderr",
     "output_type": "stream",
     "text": [
      "/home/tomdewildt/Projects/introduction-to-machine-learning/venv/lib/python3.8/site-packages/sklearn/linear_model/_logistic.py:763: ConvergenceWarning: lbfgs failed to converge (status=1):\n",
      "STOP: TOTAL NO. of ITERATIONS REACHED LIMIT.\n",
      "\n",
      "Increase the number of iterations (max_iter) or scale the data as shown in:\n",
      "    https://scikit-learn.org/stable/modules/preprocessing.html\n",
      "Please also refer to the documentation for alternative solver options:\n",
      "    https://scikit-learn.org/stable/modules/linear_model.html#logistic-regression\n",
      "  n_iter_i = _check_optimize_result(\n"
     ]
    },
    {
     "data": {
      "text/plain": [
       "LogisticRegression()"
      ]
     },
     "execution_count": 43,
     "metadata": {},
     "output_type": "execute_result"
    }
   ],
   "source": [
    "%%time\n",
    "lr_model.fit(X_train[:n_labeled], y_train[:n_labeled])"
   ]
  },
  {
   "cell_type": "markdown",
   "id": "8644a6c8",
   "metadata": {},
   "source": [
    "## Performance <ins>logistic regression</ins> model"
   ]
  },
  {
   "cell_type": "code",
   "execution_count": 44,
   "id": "17b9df5a",
   "metadata": {},
   "outputs": [
    {
     "data": {
      "text/plain": [
       "0.8644444444444445"
      ]
     },
     "execution_count": 44,
     "metadata": {},
     "output_type": "execute_result"
    }
   ],
   "source": [
    "lr_model.score(X_test, y_test)"
   ]
  },
  {
   "cell_type": "markdown",
   "id": "8fe3f8f6",
   "metadata": {},
   "source": [
    "## Cluster <ins>digits</ins> data"
   ]
  },
  {
   "cell_type": "code",
   "execution_count": 45,
   "id": "14b56792",
   "metadata": {},
   "outputs": [],
   "source": [
    "km_model = KMeans(n_clusters=50)"
   ]
  },
  {
   "cell_type": "code",
   "execution_count": 46,
   "id": "a935117f",
   "metadata": {},
   "outputs": [
    {
     "name": "stdout",
     "output_type": "stream",
     "text": [
      "CPU times: user 9.7 s, sys: 17.6 s, total: 27.3 s\n",
      "Wall time: 2.13 s\n"
     ]
    }
   ],
   "source": [
    "%%time\n",
    "X_train_distances = km_model.fit_transform(X_train)"
   ]
  },
  {
   "cell_type": "code",
   "execution_count": 47,
   "id": "239afb23",
   "metadata": {},
   "outputs": [],
   "source": [
    "representative_idx = np.argmin(X_train_distances, axis=0)\n",
    "\n",
    "X_train_representative = X_train[representative_idx]\n",
    "y_train_representative = y_train[representative_idx] # HACK: not available (label digits manually)"
   ]
  },
  {
   "cell_type": "markdown",
   "id": "63083990",
   "metadata": {},
   "source": [
    "## Train <ins>logistic regression</ins> model"
   ]
  },
  {
   "cell_type": "code",
   "execution_count": 48,
   "id": "f546f7d4",
   "metadata": {},
   "outputs": [],
   "source": [
    "lr_model = LogisticRegression()"
   ]
  },
  {
   "cell_type": "code",
   "execution_count": 49,
   "id": "4dfc47e7",
   "metadata": {},
   "outputs": [
    {
     "name": "stdout",
     "output_type": "stream",
     "text": [
      "CPU times: user 147 ms, sys: 568 ms, total: 715 ms\n",
      "Wall time: 57.2 ms\n"
     ]
    },
    {
     "name": "stderr",
     "output_type": "stream",
     "text": [
      "/home/tomdewildt/Projects/introduction-to-machine-learning/venv/lib/python3.8/site-packages/sklearn/linear_model/_logistic.py:763: ConvergenceWarning: lbfgs failed to converge (status=1):\n",
      "STOP: TOTAL NO. of ITERATIONS REACHED LIMIT.\n",
      "\n",
      "Increase the number of iterations (max_iter) or scale the data as shown in:\n",
      "    https://scikit-learn.org/stable/modules/preprocessing.html\n",
      "Please also refer to the documentation for alternative solver options:\n",
      "    https://scikit-learn.org/stable/modules/linear_model.html#logistic-regression\n",
      "  n_iter_i = _check_optimize_result(\n"
     ]
    },
    {
     "data": {
      "text/plain": [
       "LogisticRegression()"
      ]
     },
     "execution_count": 49,
     "metadata": {},
     "output_type": "execute_result"
    }
   ],
   "source": [
    "%%time\n",
    "lr_model.fit(X_train_representative, y_train_representative)"
   ]
  },
  {
   "cell_type": "markdown",
   "id": "b542465e",
   "metadata": {},
   "source": [
    "## Performance <ins>logistic regression</ins> model"
   ]
  },
  {
   "cell_type": "code",
   "execution_count": 50,
   "id": "d2a9aa76",
   "metadata": {},
   "outputs": [
    {
     "data": {
      "text/plain": [
       "0.92"
      ]
     },
     "execution_count": 50,
     "metadata": {},
     "output_type": "execute_result"
    }
   ],
   "source": [
    "lr_model.score(X_test, y_test)"
   ]
  },
  {
   "cell_type": "markdown",
   "id": "1524b422",
   "metadata": {},
   "source": [
    "## Propagate <ins>digits</ins> data"
   ]
  },
  {
   "cell_type": "code",
   "execution_count": 51,
   "id": "1a788f4d",
   "metadata": {},
   "outputs": [],
   "source": [
    "y_train_propagated = np.empty(len(X_train), dtype=np.int32)"
   ]
  },
  {
   "cell_type": "code",
   "execution_count": 52,
   "id": "d7954e12",
   "metadata": {},
   "outputs": [],
   "source": [
    "for idx in range(50):\n",
    "    y_train_propagated[km_model.labels_ == idx] = y_train_representative[idx]"
   ]
  },
  {
   "cell_type": "markdown",
   "id": "fe65e5c3",
   "metadata": {},
   "source": [
    "## Train <ins>logistic regression</ins> model"
   ]
  },
  {
   "cell_type": "code",
   "execution_count": 53,
   "id": "53b41831",
   "metadata": {},
   "outputs": [],
   "source": [
    "lr_model = LogisticRegression()"
   ]
  },
  {
   "cell_type": "code",
   "execution_count": 54,
   "id": "09bfcc7b",
   "metadata": {},
   "outputs": [
    {
     "name": "stdout",
     "output_type": "stream",
     "text": [
      "CPU times: user 966 ms, sys: 3.02 s, total: 3.98 s\n",
      "Wall time: 314 ms\n"
     ]
    },
    {
     "name": "stderr",
     "output_type": "stream",
     "text": [
      "/home/tomdewildt/Projects/introduction-to-machine-learning/venv/lib/python3.8/site-packages/sklearn/linear_model/_logistic.py:763: ConvergenceWarning: lbfgs failed to converge (status=1):\n",
      "STOP: TOTAL NO. of ITERATIONS REACHED LIMIT.\n",
      "\n",
      "Increase the number of iterations (max_iter) or scale the data as shown in:\n",
      "    https://scikit-learn.org/stable/modules/preprocessing.html\n",
      "Please also refer to the documentation for alternative solver options:\n",
      "    https://scikit-learn.org/stable/modules/linear_model.html#logistic-regression\n",
      "  n_iter_i = _check_optimize_result(\n"
     ]
    },
    {
     "data": {
      "text/plain": [
       "LogisticRegression()"
      ]
     },
     "execution_count": 54,
     "metadata": {},
     "output_type": "execute_result"
    }
   ],
   "source": [
    "%%time\n",
    "lr_model.fit(X_train, y_train_propagated)"
   ]
  },
  {
   "cell_type": "markdown",
   "id": "0d8f9ac2",
   "metadata": {},
   "source": [
    "## Performance <ins>logistic regression</ins> model"
   ]
  },
  {
   "cell_type": "code",
   "execution_count": 55,
   "id": "a0d7856c",
   "metadata": {},
   "outputs": [
    {
     "data": {
      "text/plain": [
       "0.94"
      ]
     },
     "execution_count": 55,
     "metadata": {},
     "output_type": "execute_result"
    }
   ],
   "source": [
    "lr_model.score(X_test, y_test)"
   ]
  },
  {
   "cell_type": "markdown",
   "id": "67413cfd",
   "metadata": {},
   "source": [
    "## Partially propagate <ins>digits</ins> data"
   ]
  },
  {
   "cell_type": "code",
   "execution_count": 56,
   "id": "7b3ac736",
   "metadata": {},
   "outputs": [],
   "source": [
    "X_train_cluster_distances = X_train_distances[np.arange(len(X_train)), km_model.labels_]"
   ]
  },
  {
   "cell_type": "code",
   "execution_count": 57,
   "id": "fe8de8eb",
   "metadata": {},
   "outputs": [],
   "source": [
    "for idx in range(50):\n",
    "    in_cluster = (km_model.labels_ == idx)\n",
    "    \n",
    "    cluster_distance = X_train_cluster_distances[in_cluster]\n",
    "    \n",
    "    cutoff_distance = np.percentile(cluster_distance, 75)\n",
    "    is_above_cutoff = (X_train_cluster_distances > cutoff_distance)\n",
    "    \n",
    "    X_train_cluster_distances[in_cluster & is_above_cutoff] = -1\n",
    "    \n",
    "partially_propagated = (X_train_cluster_distances != -1)\n",
    "\n",
    "X_train_partially_propagated = X_train[partially_propagated]\n",
    "y_train_partially_propagated = y_train_propagated[partially_propagated]"
   ]
  },
  {
   "cell_type": "markdown",
   "id": "f4c979ee",
   "metadata": {},
   "source": [
    "## Train <ins>logistic regression</ins> model"
   ]
  },
  {
   "cell_type": "code",
   "execution_count": 58,
   "id": "ad0c787a",
   "metadata": {},
   "outputs": [],
   "source": [
    "lr_model = LogisticRegression()"
   ]
  },
  {
   "cell_type": "code",
   "execution_count": 59,
   "id": "d318eefa",
   "metadata": {},
   "outputs": [
    {
     "name": "stdout",
     "output_type": "stream",
     "text": [
      "CPU times: user 1.14 s, sys: 4.79 s, total: 5.93 s\n",
      "Wall time: 466 ms\n"
     ]
    },
    {
     "name": "stderr",
     "output_type": "stream",
     "text": [
      "/home/tomdewildt/Projects/introduction-to-machine-learning/venv/lib/python3.8/site-packages/sklearn/linear_model/_logistic.py:763: ConvergenceWarning: lbfgs failed to converge (status=1):\n",
      "STOP: TOTAL NO. of ITERATIONS REACHED LIMIT.\n",
      "\n",
      "Increase the number of iterations (max_iter) or scale the data as shown in:\n",
      "    https://scikit-learn.org/stable/modules/preprocessing.html\n",
      "Please also refer to the documentation for alternative solver options:\n",
      "    https://scikit-learn.org/stable/modules/linear_model.html#logistic-regression\n",
      "  n_iter_i = _check_optimize_result(\n"
     ]
    },
    {
     "data": {
      "text/plain": [
       "LogisticRegression()"
      ]
     },
     "execution_count": 59,
     "metadata": {},
     "output_type": "execute_result"
    }
   ],
   "source": [
    "%%time\n",
    "lr_model.fit(X_train_partially_propagated, y_train_partially_propagated)"
   ]
  },
  {
   "cell_type": "markdown",
   "id": "a53b4dab",
   "metadata": {},
   "source": [
    "## Performance <ins>logistic regression</ins> model"
   ]
  },
  {
   "cell_type": "code",
   "execution_count": 60,
   "id": "e81ed570",
   "metadata": {},
   "outputs": [
    {
     "data": {
      "text/plain": [
       "0.9333333333333333"
      ]
     },
     "execution_count": 60,
     "metadata": {},
     "output_type": "execute_result"
    }
   ],
   "source": [
    "lr_model.score(X_test, y_test)"
   ]
  },
  {
   "cell_type": "markdown",
   "id": "1de08542",
   "metadata": {},
   "source": [
    "## Load <ins>moons</ins> data"
   ]
  },
  {
   "cell_type": "code",
   "execution_count": 61,
   "id": "60f8d16a",
   "metadata": {},
   "outputs": [],
   "source": [
    "X, y = make_moons(n_samples=1000, noise=0.05)"
   ]
  },
  {
   "cell_type": "markdown",
   "id": "76106d9e",
   "metadata": {},
   "source": [
    "## Train <ins>dbscan</ins> model"
   ]
  },
  {
   "cell_type": "code",
   "execution_count": 62,
   "id": "f127d08f",
   "metadata": {},
   "outputs": [],
   "source": [
    "dbs_model = DBSCAN(eps=0.05, min_samples=5)"
   ]
  },
  {
   "cell_type": "code",
   "execution_count": 63,
   "id": "d897dd9a",
   "metadata": {},
   "outputs": [
    {
     "name": "stdout",
     "output_type": "stream",
     "text": [
      "CPU times: user 16.4 ms, sys: 109 ms, total: 126 ms\n",
      "Wall time: 9.77 ms\n"
     ]
    },
    {
     "data": {
      "text/plain": [
       "DBSCAN(eps=0.05)"
      ]
     },
     "execution_count": 63,
     "metadata": {},
     "output_type": "execute_result"
    }
   ],
   "source": [
    "%%time\n",
    "dbs_model.fit(X)"
   ]
  },
  {
   "cell_type": "code",
   "execution_count": 64,
   "id": "fac0912a",
   "metadata": {},
   "outputs": [
    {
     "data": {
      "text/plain": [
       "array([[-1.00030833,  0.23019702],\n",
       "       [ 0.65674362, -0.41152695],\n",
       "       [ 0.27589495,  0.9386766 ],\n",
       "       ...,\n",
       "       [ 0.43383351, -0.38401021],\n",
       "       [ 1.74015212, -0.14947994],\n",
       "       [ 0.65779155,  0.83125706]])"
      ]
     },
     "execution_count": 64,
     "metadata": {},
     "output_type": "execute_result"
    }
   ],
   "source": [
    "dbs_model.components_"
   ]
  },
  {
   "cell_type": "code",
   "execution_count": 65,
   "id": "0e44f110",
   "metadata": {
    "scrolled": true
   },
   "outputs": [
    {
     "data": {
      "text/plain": [
       "array([ 7,  0,  1,  1,  2, -1, -1,  0,  2, -1,  2,  2,  2,  1,  1,  1,  2,\n",
       "        0,  3,  2,  3,  1,  2,  2,  2, -1,  1,  4,  1,  2, -1,  0,  5,  1,\n",
       "        2,  1,  1,  0,  4,  2,  3,  2,  1,  2,  0,  2,  2,  1, -1,  1,  2,\n",
       "        1,  2,  1,  1, -1,  2,  1,  2,  1,  3,  2,  1,  1,  2,  3,  5,  2,\n",
       "        1,  6,  2,  2,  2,  1,  0,  1,  2,  6,  3,  3,  1,  1,  2,  3,  3,\n",
       "        1,  2,  3,  1,  3,  4,  1,  1,  2,  1,  0,  2,  3,  0,  2,  6,  2,\n",
       "        2,  1,  3,  2,  3,  1,  3,  4,  2,  7,  1,  2,  0,  0,  4,  2,  3,\n",
       "        0,  1, -1,  1,  3,  1,  1,  2,  2, -1,  4,  0,  0,  2,  1, -1,  2,\n",
       "        1,  2,  6,  1, -1,  2,  5,  1,  5, -1,  3, -1,  3,  2,  1,  0,  1,\n",
       "        3,  3, -1,  1,  1,  2,  0,  1,  6,  0,  1,  1,  1,  1,  3,  4, -1,\n",
       "        2,  2,  7,  1,  1,  1,  3,  0,  1,  1,  5,  6, -1,  0,  4,  0,  4,\n",
       "        1,  2,  3,  0,  2,  3, -1,  3,  1, -1,  1,  2,  2,  1,  1,  0,  1,\n",
       "        3,  1,  3,  0,  2,  1,  3,  1,  0,  2,  0,  1,  1,  0,  4,  1,  2,\n",
       "        1,  1,  3,  7,  1,  1,  2,  6,  1,  7, -1,  2,  2,  0,  2,  1,  2,\n",
       "        3,  2,  0,  1,  7,  2, -1,  4,  2,  0,  0,  0,  1,  1,  2,  7,  6,\n",
       "        6,  0,  4,  2,  1,  4, -1,  4,  2,  1,  5,  1,  0,  3,  3,  2,  2,\n",
       "        1,  1,  1,  5,  1,  4,  1,  7,  1,  2,  2,  2,  2,  4,  2,  2, -1,\n",
       "        2,  0,  1,  2,  1,  1,  2,  3,  2,  3,  3,  2,  3,  1,  4,  1,  0,\n",
       "        2,  4,  5,  2,  1,  2,  1, -1,  0,  1,  1,  1,  1,  1,  3,  1,  5,\n",
       "        4,  0,  0,  0,  2,  7,  2,  0,  2,  0,  1,  3,  2,  4,  2,  6,  3,\n",
       "        3,  2,  2, -1,  3,  1,  0,  4,  3,  0,  2,  1, -1,  2,  1,  0,  3,\n",
       "        2,  3,  2,  3,  1,  3,  4,  1,  3,  7,  6,  1,  2,  2,  0,  1,  4,\n",
       "        7,  7,  0,  5,  0,  2,  2,  1,  3,  1,  2,  2,  4,  1,  2,  2,  2,\n",
       "        4,  3,  2,  2,  1, -1,  3,  2,  1,  2,  7,  1,  2,  2,  0,  3,  2,\n",
       "        3,  3,  2,  2,  4,  2,  1,  2,  1,  2,  1,  1, -1,  3,  2,  1,  4,\n",
       "       -1,  0,  3,  1,  1,  3,  1,  1,  0,  1,  1,  2,  1,  2,  0,  2,  1,\n",
       "        0, -1,  3,  7,  2,  5,  2,  1,  3,  2,  3,  1,  1,  1,  1,  1,  1,\n",
       "        1,  5,  3,  1,  2,  3,  4,  0,  1,  3,  1,  0,  1,  1,  1,  1,  2,\n",
       "        1,  6,  1,  3,  1,  3,  2, -1,  2,  1,  2,  1,  0,  2,  1,  0,  0,\n",
       "       -1, -1,  1,  0,  1,  2,  0,  1,  1,  3,  1,  3,  3,  1,  1,  3,  3,\n",
       "        2,  1,  1,  4,  1, -1,  1,  1,  0,  3,  4,  3, -1,  1,  2,  7,  2,\n",
       "        2,  2,  3,  2,  2,  1,  0,  3,  6,  3,  1, -1,  1,  3,  3,  1,  1,\n",
       "        3,  1,  0,  2,  3,  1,  5,  2,  0,  1,  4,  5,  1,  1, -1,  2,  1,\n",
       "        1,  4,  1,  2,  0,  2,  4,  1,  1,  1,  2,  1,  1, -1,  1,  1,  2,\n",
       "        2,  3,  1,  2,  7,  3,  6,  1,  6,  2,  2,  2,  3,  1,  1,  3,  1,\n",
       "        1,  1,  2,  1,  5,  2,  4,  1,  2,  0,  3,  2,  2,  2,  6, -1,  1,\n",
       "        7,  2,  0,  0,  2,  1,  3,  1,  5,  1,  2,  2,  2,  0,  2,  2,  1,\n",
       "        2,  3,  1,  3,  5,  1,  1,  1,  1,  2,  1, -1,  1,  4,  7,  1,  3,\n",
       "        2,  1,  4,  1, -1,  1,  2,  1,  3,  0,  0,  1,  1,  2,  2,  3,  1,\n",
       "        3,  3,  1,  2,  1,  3,  0,  6,  1,  0,  4,  2,  2,  1,  2,  0, -1,\n",
       "        1,  2,  2,  2,  3,  2, -1,  1,  3,  0, -1,  1,  1,  2,  1,  0,  0,\n",
       "        1,  2,  0,  2,  1,  0,  1,  3,  0,  2,  1,  2,  1,  5, -1,  6,  3,\n",
       "        1,  2,  1,  6,  6,  5,  0,  1,  3,  2,  4,  0,  1,  0,  1,  0,  1,\n",
       "        1,  2,  4,  0,  0,  3,  0,  2, -1,  0,  2,  2,  1,  6,  4,  1,  3,\n",
       "        1,  1,  1,  7,  2,  2,  3,  7,  2,  2,  2,  3,  2,  1,  7,  1,  1,\n",
       "        2,  7,  1,  1,  2,  1, -1,  0,  1,  2,  3, -1,  2,  2,  1,  1,  3,\n",
       "        0,  1,  4,  2,  6,  0,  0,  1,  1,  2,  0,  3,  2,  0,  2,  3,  1,\n",
       "        2,  5,  0,  2, -1,  6,  1,  1,  6,  1, -1,  4,  2, -1,  7,  1,  2,\n",
       "        1,  2,  1,  2,  3,  3,  5,  0,  0,  2,  3,  3,  0, -1,  1,  2, -1,\n",
       "        2,  4,  5,  4,  3, -1,  6,  2,  1,  4, -1,  5,  1,  4,  1,  1,  1,\n",
       "        1,  2,  0,  2,  1,  2,  2,  1,  2,  2,  2,  1,  1,  0,  1,  4,  0,\n",
       "        3,  1,  2,  6,  3,  2,  2,  5,  2,  1,  1,  0,  1,  0,  1,  3,  2,\n",
       "        4,  6,  2,  2,  2, -1,  1,  1,  1,  1,  0,  0,  6,  3,  2,  1,  1,\n",
       "        2,  4,  1,  2,  3,  2,  5,  1,  1, -1,  3,  1,  0,  1,  2,  1,  1,\n",
       "        6,  2,  2,  3,  6,  0,  2, -1,  3,  2,  1,  3,  1,  7,  1,  2,  1,\n",
       "        2,  2,  1,  0,  5,  2, -1,  4,  2,  0,  2,  1,  1, -1,  1,  6,  1,\n",
       "        3,  2,  3,  1,  2,  1,  1,  5,  2,  2,  1,  1,  2,  1,  1,  2,  0,\n",
       "        1,  2,  0,  3,  2,  2,  7,  1,  1,  1,  2,  3,  1,  1,  6,  0,  7,\n",
       "        5,  1,  1,  2,  3,  1,  1,  1,  1,  0,  2,  1,  3,  2])"
      ]
     },
     "execution_count": 65,
     "metadata": {},
     "output_type": "execute_result"
    }
   ],
   "source": [
    "dbs_model.labels_"
   ]
  },
  {
   "cell_type": "code",
   "execution_count": 66,
   "id": "59d1c10d",
   "metadata": {
    "scrolled": true
   },
   "outputs": [
    {
     "data": {
      "text/plain": [
       "array([  1,   3,   4,   7,   8,  10,  11,  12,  13,  14,  15,  16,  17,\n",
       "        18,  19,  20,  21,  22,  23,  24,  26,  27,  28,  29,  31,  32,\n",
       "        33,  37,  39,  40,  41,  42,  44,  45,  46,  47,  49,  50,  52,\n",
       "        53,  54,  56,  57,  58,  59,  60,  62,  63,  64,  65,  67,  68,\n",
       "        69,  71,  72,  73,  74,  75,  76,  77,  78,  79,  80,  81,  82,\n",
       "        83,  84,  85,  86,  87,  88,  89,  90,  91,  92,  93,  94,  95,\n",
       "        96,  97,  98,  99, 102, 103, 104, 105, 106, 107, 108, 109, 110,\n",
       "       111, 112, 113, 114, 115, 116, 117, 118, 119, 120, 122, 123, 124,\n",
       "       125, 126, 127, 129, 131, 132, 133, 136, 137, 138, 139, 141, 142,\n",
       "       143, 144, 146, 148, 150, 151, 152, 153, 154, 156, 158, 159, 160,\n",
       "       162, 163, 164, 165, 166, 167, 168, 170, 171, 172, 175, 176, 177,\n",
       "       178, 179, 180, 181, 184, 186, 187, 188, 190, 191, 192, 194, 197,\n",
       "       200, 201, 202, 203, 204, 205, 206, 207, 208, 209, 210, 212, 213,\n",
       "       214, 216, 217, 218, 219, 220, 221, 222, 223, 226, 227, 228, 229,\n",
       "       233, 234, 235, 236, 237, 238, 239, 240, 241, 242, 243, 245, 246,\n",
       "       247, 248, 249, 250, 252, 255, 256, 257, 258, 259, 260, 262, 263,\n",
       "       264, 265, 266, 267, 268, 269, 270, 271, 272, 273, 274, 275, 278,\n",
       "       279, 280, 282, 283, 284, 285, 286, 287, 289, 290, 292, 293, 294,\n",
       "       295, 296, 297, 298, 299, 300, 301, 302, 303, 304, 305, 306, 307,\n",
       "       308, 310, 311, 312, 315, 316, 317, 319, 320, 321, 323, 324, 327,\n",
       "       328, 329, 331, 332, 333, 334, 335, 336, 337, 338, 339, 340, 341,\n",
       "       342, 344, 345, 346, 347, 348, 350, 351, 353, 354, 355, 356, 357,\n",
       "       359, 360, 361, 362, 363, 364, 365, 366, 367, 368, 369, 370, 371,\n",
       "       372, 373, 374, 375, 376, 377, 378, 379, 381, 382, 384, 385, 387,\n",
       "       388, 390, 391, 392, 393, 394, 395, 397, 398, 399, 400, 401, 402,\n",
       "       404, 405, 406, 407, 408, 409, 410, 411, 412, 413, 414, 415, 416,\n",
       "       417, 418, 419, 421, 422, 423, 424, 426, 427, 428, 429, 431, 432,\n",
       "       433, 434, 436, 437, 438, 439, 440, 441, 442, 444, 445, 446, 447,\n",
       "       448, 449, 450, 451, 454, 455, 456, 458, 459, 460, 461, 462, 463,\n",
       "       464, 465, 466, 467, 468, 470, 471, 472, 473, 474, 476, 477, 478,\n",
       "       479, 480, 481, 482, 484, 485, 487, 488, 489, 490, 491, 492, 495,\n",
       "       496, 497, 502, 503, 504, 505, 506, 507, 509, 510, 511, 512, 514,\n",
       "       517, 518, 519, 520, 521, 524, 525, 526, 527, 528, 530, 531, 532,\n",
       "       533, 534, 535, 536, 537, 539, 540, 542, 543, 544, 545, 546, 547,\n",
       "       548, 549, 551, 552, 553, 554, 556, 559, 560, 561, 562, 564, 565,\n",
       "       567, 568, 569, 570, 571, 572, 573, 575, 576, 578, 579, 580, 581,\n",
       "       582, 583, 584, 587, 590, 591, 592, 593, 594, 595, 596, 597, 598,\n",
       "       599, 600, 601, 602, 604, 605, 607, 608, 609, 611, 612, 613, 614,\n",
       "       615, 617, 618, 619, 620, 621, 622, 623, 624, 625, 626, 627, 628,\n",
       "       629, 630, 631, 632, 633, 634, 635, 636, 637, 638, 641, 642, 643,\n",
       "       644, 645, 646, 647, 648, 653, 655, 656, 657, 658, 659, 660, 662,\n",
       "       663, 664, 665, 666, 667, 668, 669, 670, 671, 672, 673, 674, 675,\n",
       "       676, 677, 678, 680, 681, 682, 683, 685, 687, 688, 689, 691, 692,\n",
       "       693, 694, 696, 697, 698, 699, 700, 701, 702, 703, 706, 707, 708,\n",
       "       709, 713, 714, 715, 716, 717, 718, 719, 720, 721, 722, 723, 724,\n",
       "       726, 727, 728, 729, 730, 731, 732, 733, 734, 735, 736, 737, 738,\n",
       "       740, 741, 742, 743, 744, 745, 746, 747, 748, 749, 751, 752, 753,\n",
       "       754, 755, 758, 759, 760, 762, 763, 766, 767, 768, 769, 770, 772,\n",
       "       773, 774, 775, 777, 778, 779, 782, 783, 784, 785, 786, 787, 788,\n",
       "       789, 790, 793, 794, 796, 797, 798, 799, 800, 801, 802, 804, 805,\n",
       "       806, 811, 813, 814, 815, 816, 817, 818, 819, 820, 821, 822, 823,\n",
       "       824, 825, 827, 828, 830, 831, 833, 834, 835, 836, 837, 839, 841,\n",
       "       842, 844, 845, 846, 847, 848, 849, 850, 851, 852, 853, 855, 856,\n",
       "       857, 858, 859, 861, 862, 863, 864, 865, 866, 867, 868, 869, 870,\n",
       "       871, 872, 873, 874, 875, 876, 877, 878, 879, 881, 882, 883, 884,\n",
       "       885, 886, 887, 888, 890, 891, 893, 894, 895, 896, 897, 898, 899,\n",
       "       900, 901, 902, 903, 904, 905, 907, 908, 911, 912, 913, 914, 915,\n",
       "       917, 918, 919, 920, 921, 922, 923, 924, 926, 927, 928, 929, 930,\n",
       "       931, 932, 933, 934, 935, 936, 938, 940, 942, 943, 944, 945, 947,\n",
       "       949, 950, 951, 952, 953, 954, 955, 956, 957, 958, 959, 960, 962,\n",
       "       963, 964, 965, 967, 968, 969, 970, 971, 972, 973, 974, 976, 977,\n",
       "       978, 979, 981, 983, 984, 986, 987, 988, 989, 990, 991, 992, 994,\n",
       "       995, 997, 998, 999])"
      ]
     },
     "execution_count": 66,
     "metadata": {},
     "output_type": "execute_result"
    }
   ],
   "source": [
    "dbs_model.core_sample_indices_"
   ]
  },
  {
   "cell_type": "markdown",
   "id": "39dfb256",
   "metadata": {},
   "source": [
    "## Train <ins>k-nearest neighbors</ins> model"
   ]
  },
  {
   "cell_type": "code",
   "execution_count": 67,
   "id": "bc438f3e",
   "metadata": {},
   "outputs": [],
   "source": [
    "knn_model = KNeighborsClassifier(n_neighbors=50)"
   ]
  },
  {
   "cell_type": "code",
   "execution_count": 68,
   "id": "542c333e",
   "metadata": {},
   "outputs": [
    {
     "name": "stdout",
     "output_type": "stream",
     "text": [
      "CPU times: user 3.49 ms, sys: 3.26 ms, total: 6.75 ms\n",
      "Wall time: 1.26 ms\n"
     ]
    },
    {
     "data": {
      "text/plain": [
       "KNeighborsClassifier(n_neighbors=50)"
      ]
     },
     "execution_count": 68,
     "metadata": {},
     "output_type": "execute_result"
    }
   ],
   "source": [
    "%%time\n",
    "knn_model.fit(dbs_model.components_, dbs_model.labels_[dbs_model.core_sample_indices_])"
   ]
  },
  {
   "cell_type": "markdown",
   "id": "4761caf5",
   "metadata": {},
   "source": [
    "## Evaluate <ins>k-nearest neighbors</ins> model"
   ]
  },
  {
   "cell_type": "code",
   "execution_count": 69,
   "id": "0c861950",
   "metadata": {},
   "outputs": [],
   "source": [
    "X_new = np.array([[-0.5, 0], [0, 0.5], [1, -0.1], [2, 1]])"
   ]
  },
  {
   "cell_type": "code",
   "execution_count": 70,
   "id": "26e3448f",
   "metadata": {},
   "outputs": [
    {
     "data": {
      "text/plain": [
       "array([0, 1, 1, 3])"
      ]
     },
     "execution_count": 70,
     "metadata": {},
     "output_type": "execute_result"
    }
   ],
   "source": [
    "knn_model.predict(X_new)"
   ]
  },
  {
   "cell_type": "code",
   "execution_count": 71,
   "id": "68c9a7b9",
   "metadata": {},
   "outputs": [
    {
     "data": {
      "text/plain": [
       "array([[0.88, 0.1 , 0.  , 0.  , 0.  , 0.02, 0.  , 0.  ],\n",
       "       [0.  , 0.56, 0.  , 0.  , 0.  , 0.44, 0.  , 0.  ],\n",
       "       [0.  , 0.42, 0.18, 0.  , 0.  , 0.  , 0.  , 0.4 ],\n",
       "       [0.  , 0.  , 0.  , 1.  , 0.  , 0.  , 0.  , 0.  ]])"
      ]
     },
     "execution_count": 71,
     "metadata": {},
     "output_type": "execute_result"
    }
   ],
   "source": [
    "knn_model.predict_proba(X_new)"
   ]
  },
  {
   "cell_type": "markdown",
   "id": "50199954",
   "metadata": {},
   "source": [
    "## Generate data"
   ]
  },
  {
   "cell_type": "code",
   "execution_count": 72,
   "id": "0621cd84",
   "metadata": {},
   "outputs": [],
   "source": [
    "X1, y1 = make_blobs(n_samples=1000, centers=((4, -4), (0, 0)), random_state=RANDOM_SEED)\n",
    "X1 = X1.dot(np.array([[0.374, 0.95], [0.732, 0.598]]))"
   ]
  },
  {
   "cell_type": "code",
   "execution_count": 73,
   "id": "cb17440e",
   "metadata": {},
   "outputs": [],
   "source": [
    "X2, y2 = make_blobs(n_samples=250, centers=1, random_state=RANDOM_SEED)\n",
    "X2 = X2 + [6, -8]"
   ]
  },
  {
   "cell_type": "code",
   "execution_count": 74,
   "id": "fe54c3ac",
   "metadata": {},
   "outputs": [],
   "source": [
    "X = np.r_[X1, X2]\n",
    "y = np.r_[y1, y2]"
   ]
  },
  {
   "cell_type": "markdown",
   "id": "9c7b0b51",
   "metadata": {},
   "source": [
    "## Train <ins>gaussian mixture</ins> model"
   ]
  },
  {
   "cell_type": "code",
   "execution_count": 75,
   "id": "8145efc3",
   "metadata": {},
   "outputs": [],
   "source": [
    "gm_model = GaussianMixture(n_components=3, n_init=10)"
   ]
  },
  {
   "cell_type": "code",
   "execution_count": 76,
   "id": "54fe362c",
   "metadata": {},
   "outputs": [
    {
     "name": "stdout",
     "output_type": "stream",
     "text": [
      "CPU times: user 1.2 s, sys: 1.01 s, total: 2.22 s\n",
      "Wall time: 237 ms\n"
     ]
    },
    {
     "data": {
      "text/plain": [
       "GaussianMixture(n_components=3, n_init=10)"
      ]
     },
     "execution_count": 76,
     "metadata": {},
     "output_type": "execute_result"
    }
   ],
   "source": [
    "%%time\n",
    "gm_model.fit(X)"
   ]
  },
  {
   "cell_type": "code",
   "execution_count": 77,
   "id": "394e5fab",
   "metadata": {},
   "outputs": [
    {
     "data": {
      "text/plain": [
       "array([0.3902064 , 0.20970929, 0.40008431])"
      ]
     },
     "execution_count": 77,
     "metadata": {},
     "output_type": "execute_result"
    }
   ],
   "source": [
    "gm_model.weights_"
   ]
  },
  {
   "cell_type": "code",
   "execution_count": 78,
   "id": "663de1d1",
   "metadata": {},
   "outputs": [
    {
     "data": {
      "text/plain": [
       "array([[ 0.0512132 ,  0.07512971],\n",
       "       [ 3.39854326,  1.05926051],\n",
       "       [-1.4076241 ,  1.42704927]])"
      ]
     },
     "execution_count": 78,
     "metadata": {},
     "output_type": "execute_result"
    }
   ],
   "source": [
    "gm_model.means_"
   ]
  },
  {
   "cell_type": "code",
   "execution_count": 79,
   "id": "ba788965",
   "metadata": {},
   "outputs": [
    {
     "data": {
      "text/plain": [
       "array([[[ 0.68780591,  0.79597839],\n",
       "        [ 0.79597839,  1.21232694]],\n",
       "\n",
       "       [[ 1.14901133, -0.03241901],\n",
       "        [-0.03241901,  0.95484861]],\n",
       "\n",
       "       [[ 0.63480459,  0.72971575],\n",
       "        [ 0.72971575,  1.16110086]]])"
      ]
     },
     "execution_count": 79,
     "metadata": {},
     "output_type": "execute_result"
    }
   ],
   "source": [
    "gm_model.covariances_"
   ]
  },
  {
   "cell_type": "code",
   "execution_count": 80,
   "id": "06ee5219",
   "metadata": {},
   "outputs": [
    {
     "data": {
      "text/plain": [
       "(True, 4)"
      ]
     },
     "execution_count": 80,
     "metadata": {},
     "output_type": "execute_result"
    }
   ],
   "source": [
    "gm_model.converged_, gm_model.n_iter_"
   ]
  },
  {
   "cell_type": "code",
   "execution_count": 81,
   "id": "46f716f8",
   "metadata": {},
   "outputs": [
    {
     "data": {
      "text/plain": [
       "(8189.756836104972, 8102.531555989934)"
      ]
     },
     "execution_count": 81,
     "metadata": {},
     "output_type": "execute_result"
    }
   ],
   "source": [
    "gm_model.bic(X), gm_model.aic(X)"
   ]
  },
  {
   "cell_type": "markdown",
   "id": "8c085b6f",
   "metadata": {},
   "source": [
    "## Evaluate <ins>gaussian mixture</ins> model"
   ]
  },
  {
   "cell_type": "code",
   "execution_count": 82,
   "id": "211e84de",
   "metadata": {},
   "outputs": [
    {
     "data": {
      "text/plain": [
       "array([0, 0, 2, ..., 1, 1, 1])"
      ]
     },
     "execution_count": 82,
     "metadata": {},
     "output_type": "execute_result"
    }
   ],
   "source": [
    "gm_model.predict(X)"
   ]
  },
  {
   "cell_type": "code",
   "execution_count": 83,
   "id": "e807b657",
   "metadata": {},
   "outputs": [
    {
     "data": {
      "text/plain": [
       "array([[9.76688618e-01, 2.33107018e-02, 6.80230786e-07],\n",
       "       [9.82774531e-01, 1.65481663e-02, 6.77302883e-04],\n",
       "       [7.42085667e-05, 2.04358925e-06, 9.99923748e-01],\n",
       "       ...,\n",
       "       [4.21582331e-07, 9.99999578e-01, 2.17682412e-26],\n",
       "       [4.93027253e-16, 1.00000000e+00, 1.50345348e-41],\n",
       "       [2.19825399e-15, 1.00000000e+00, 8.24833927e-41]])"
      ]
     },
     "execution_count": 83,
     "metadata": {},
     "output_type": "execute_result"
    }
   ],
   "source": [
    "gm_model.predict_proba(X)"
   ]
  },
  {
   "cell_type": "code",
   "execution_count": 84,
   "id": "938db8de",
   "metadata": {},
   "outputs": [
    {
     "data": {
      "text/plain": [
       "array([-2.60753797, -3.57117632, -3.32962239, ..., -3.51337454,\n",
       "       -4.39800533, -3.80760349])"
      ]
     },
     "execution_count": 84,
     "metadata": {},
     "output_type": "execute_result"
    }
   ],
   "source": [
    "gm_model.score_samples(X)"
   ]
  },
  {
   "cell_type": "markdown",
   "id": "193bb339",
   "metadata": {},
   "source": [
    "## Sample <ins>gaussian mixture</ins> model"
   ]
  },
  {
   "cell_type": "code",
   "execution_count": 85,
   "id": "e204f135",
   "metadata": {},
   "outputs": [],
   "source": [
    "X_new, y_new = gm_model.sample(6)"
   ]
  },
  {
   "cell_type": "code",
   "execution_count": 86,
   "id": "c1e8a1a5",
   "metadata": {
    "scrolled": true
   },
   "outputs": [
    {
     "data": {
      "text/plain": [
       "(array([[ 0.55895727,  0.63379664],\n",
       "        [-1.17459034, -1.75364884],\n",
       "        [ 4.02238918,  0.28158515],\n",
       "        [ 3.88791592,  0.39278957],\n",
       "        [-0.13443537,  2.55581224],\n",
       "        [-0.96018408,  2.42388285]]),\n",
       " array([0, 0, 1, 1, 2, 2]))"
      ]
     },
     "execution_count": 86,
     "metadata": {},
     "output_type": "execute_result"
    }
   ],
   "source": [
    "X_new, y_new"
   ]
  },
  {
   "cell_type": "markdown",
   "id": "e6ef7154",
   "metadata": {},
   "source": [
    "## Anomaly detection <ins>gaussian mixture</ins> model"
   ]
  },
  {
   "cell_type": "code",
   "execution_count": 87,
   "id": "cc2fa392",
   "metadata": {},
   "outputs": [],
   "source": [
    "densities = gm_model.score_samples(X)"
   ]
  },
  {
   "cell_type": "code",
   "execution_count": 88,
   "id": "b1e71549",
   "metadata": {},
   "outputs": [],
   "source": [
    "density_threshold = np.percentile(densities, 4)"
   ]
  },
  {
   "cell_type": "code",
   "execution_count": 89,
   "id": "ec684ade",
   "metadata": {
    "scrolled": true
   },
   "outputs": [
    {
     "data": {
      "text/plain": [
       "array([[-0.11118987,  1.61334992],\n",
       "       [ 0.62362922,  4.41540435],\n",
       "       [ 1.49808977, -0.15251688],\n",
       "       [ 0.74219223, -1.00445177],\n",
       "       [-2.53940854, -2.76549965],\n",
       "       [-1.62447969, -0.45770022],\n",
       "       [-1.74680316, -0.78385111],\n",
       "       [-3.58308316, -1.28249917],\n",
       "       [ 0.53903026,  5.00244257],\n",
       "       [-0.51480414, -2.16270124],\n",
       "       [-1.81015204, -0.58926015],\n",
       "       [-1.79651788, -0.97031471],\n",
       "       [-2.11225785, -2.09712817],\n",
       "       [-3.39408574, -2.28378778],\n",
       "       [ 1.58082729,  4.20122873],\n",
       "       [-2.48037945, -1.18651064],\n",
       "       [-2.93972237, -1.41660564],\n",
       "       [-1.62285961, -2.84860478],\n",
       "       [-0.25954463, -1.7743691 ],\n",
       "       [ 0.46018217,  2.78323717],\n",
       "       [-2.06317379,  2.2670332 ],\n",
       "       [ 0.13982849,  2.08023553],\n",
       "       [-2.54004484, -2.8290338 ],\n",
       "       [-1.93037427, -1.19447352],\n",
       "       [-0.27124433, -1.86750177],\n",
       "       [-1.15568262, -2.57480367],\n",
       "       [-1.93315582,  2.49030105],\n",
       "       [ 4.93207567, -0.42157602],\n",
       "       [ 5.80546094, -0.85297906],\n",
       "       [ 5.68060531,  0.20598784],\n",
       "       [ 5.11941792, -0.36581533],\n",
       "       [ 3.55103259,  3.47752824],\n",
       "       [ 5.5515503 ,  2.76962697],\n",
       "       [ 4.41697992,  2.92370277],\n",
       "       [ 4.00585006,  4.86701762],\n",
       "       [ 3.58256315, -0.97328279],\n",
       "       [ 3.69966597, -0.945384  ],\n",
       "       [ 3.22614554,  3.73445529],\n",
       "       [ 4.31286254,  2.91107911],\n",
       "       [ 5.63474647,  1.64820515],\n",
       "       [ 5.64398483,  0.24693857],\n",
       "       [ 2.67258169,  3.1066734 ],\n",
       "       [ 5.61295857,  2.04675139],\n",
       "       [ 5.62383575, -0.93780167],\n",
       "       [ 4.54922686, -0.74445336],\n",
       "       [ 2.30754386, -1.02494605],\n",
       "       [ 6.56968319,  2.13386104],\n",
       "       [ 5.12321368, -0.41585525],\n",
       "       [ 3.21575068, -1.28763504],\n",
       "       [ 4.07765947,  3.20474175]])"
      ]
     },
     "execution_count": 89,
     "metadata": {},
     "output_type": "execute_result"
    }
   ],
   "source": [
    "anomalies = X[densities < density_threshold]\n",
    "anomalies"
   ]
  },
  {
   "cell_type": "markdown",
   "id": "f20ab2a4",
   "metadata": {},
   "source": [
    "## Train <ins>bayesian gaussian mixture</ins> model"
   ]
  },
  {
   "cell_type": "code",
   "execution_count": 90,
   "id": "aec96599",
   "metadata": {},
   "outputs": [],
   "source": [
    "bgm_model = BayesianGaussianMixture(n_components=10, n_init=10, random_state=RANDOM_SEED)"
   ]
  },
  {
   "cell_type": "code",
   "execution_count": 91,
   "id": "e9669f2d",
   "metadata": {},
   "outputs": [
    {
     "name": "stdout",
     "output_type": "stream",
     "text": [
      "CPU times: user 3.64 s, sys: 1.69 s, total: 5.33 s\n",
      "Wall time: 2.28 s\n"
     ]
    },
    {
     "data": {
      "text/plain": [
       "BayesianGaussianMixture(n_components=10, n_init=10, random_state=42)"
      ]
     },
     "execution_count": 91,
     "metadata": {},
     "output_type": "execute_result"
    }
   ],
   "source": [
    "%%time\n",
    "bgm_model.fit(X)"
   ]
  },
  {
   "cell_type": "code",
   "execution_count": 92,
   "id": "b38a546f",
   "metadata": {},
   "outputs": [
    {
     "data": {
      "text/plain": [
       "array([3.95095317e-01, 2.05162685e-01, 3.99662331e-01, 7.24246329e-05,\n",
       "       6.58404122e-06, 5.98549202e-07, 5.44135638e-08, 4.94668762e-09,\n",
       "       4.49698874e-10, 4.08817159e-11])"
      ]
     },
     "execution_count": 92,
     "metadata": {},
     "output_type": "execute_result"
    }
   ],
   "source": [
    "bgm_model.weights_"
   ]
  },
  {
   "cell_type": "code",
   "execution_count": 93,
   "id": "55573207",
   "metadata": {},
   "outputs": [
    {
     "data": {
      "text/plain": [
       "array([[ 0.06945986,  0.09573446],\n",
       "       [ 3.42981808,  1.0391434 ],\n",
       "       [-1.4021931 ,  1.42732498],\n",
       "       [ 0.16952168,  0.82239288],\n",
       "       [ 0.16952151,  0.82239288],\n",
       "       [ 0.16952151,  0.82239288],\n",
       "       [ 0.16952151,  0.82239288],\n",
       "       [ 0.16952151,  0.82239288],\n",
       "       [ 0.16952151,  0.82239288],\n",
       "       [ 0.16952151,  0.82239288]])"
      ]
     },
     "execution_count": 93,
     "metadata": {},
     "output_type": "execute_result"
    }
   ],
   "source": [
    "bgm_model.means_"
   ]
  },
  {
   "cell_type": "code",
   "execution_count": 94,
   "id": "82b91582",
   "metadata": {},
   "outputs": [
    {
     "data": {
      "text/plain": [
       "array([[[ 7.18174365e-01,  8.19657713e-01],\n",
       "        [ 8.19657713e-01,  1.23961080e+00]],\n",
       "\n",
       "       [[ 1.12952552e+00, -1.89441962e-03],\n",
       "        [-1.89441962e-03,  9.35514115e-01]],\n",
       "\n",
       "       [[ 6.49737954e-01,  7.29168497e-01],\n",
       "        [ 7.29168497e-01,  1.16321806e+00]],\n",
       "\n",
       "       [[ 1.97682967e+00,  2.04716652e-01],\n",
       "        [ 2.04716652e-01,  7.57490145e-01]],\n",
       "\n",
       "       [[ 1.97682979e+00,  2.04716625e-01],\n",
       "        [ 2.04716625e-01,  7.57490141e-01]],\n",
       "\n",
       "       [[ 1.97682979e+00,  2.04716625e-01],\n",
       "        [ 2.04716625e-01,  7.57490141e-01]],\n",
       "\n",
       "       [[ 1.97682979e+00,  2.04716625e-01],\n",
       "        [ 2.04716625e-01,  7.57490141e-01]],\n",
       "\n",
       "       [[ 1.97682979e+00,  2.04716625e-01],\n",
       "        [ 2.04716625e-01,  7.57490141e-01]],\n",
       "\n",
       "       [[ 1.97682979e+00,  2.04716625e-01],\n",
       "        [ 2.04716625e-01,  7.57490141e-01]],\n",
       "\n",
       "       [[ 1.97682979e+00,  2.04716625e-01],\n",
       "        [ 2.04716625e-01,  7.57490141e-01]]])"
      ]
     },
     "execution_count": 94,
     "metadata": {},
     "output_type": "execute_result"
    }
   ],
   "source": [
    "bgm_model.covariances_"
   ]
  },
  {
   "cell_type": "code",
   "execution_count": 95,
   "id": "b38e76ac",
   "metadata": {},
   "outputs": [
    {
     "data": {
      "text/plain": [
       "(True, 69)"
      ]
     },
     "execution_count": 95,
     "metadata": {},
     "output_type": "execute_result"
    }
   ],
   "source": [
    "bgm_model.converged_, bgm_model.n_iter_"
   ]
  }
 ],
 "metadata": {
  "kernelspec": {
   "display_name": "Python 3",
   "language": "python",
   "name": "python3"
  },
  "language_info": {
   "codemirror_mode": {
    "name": "ipython",
    "version": 3
   },
   "file_extension": ".py",
   "mimetype": "text/x-python",
   "name": "python",
   "nbconvert_exporter": "python",
   "pygments_lexer": "ipython3",
   "version": "3.8.5"
  }
 },
 "nbformat": 4,
 "nbformat_minor": 5
}
