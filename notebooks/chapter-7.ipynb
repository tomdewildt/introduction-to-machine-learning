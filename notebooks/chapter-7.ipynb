{
 "cells": [
  {
   "cell_type": "markdown",
   "id": "occupied-moore",
   "metadata": {},
   "source": [
    "# Chapter 7: Moons, Iris & MNIST\n",
    "\n",
    "This notebook contains the code for chapter 7 of the Hands-on Machine Learning with Scikit-Learn, Keras & Tensorflow book."
   ]
  },
  {
   "cell_type": "code",
   "execution_count": 1,
   "id": "lucky-command",
   "metadata": {},
   "outputs": [],
   "source": [
    "from sklearn.tree import DecisionTreeClassifier, DecisionTreeRegressor\n",
    "from sklearn.datasets import fetch_openml, load_iris, make_moons\n",
    "from sklearn.metrics import accuracy_score, mean_squared_error\n",
    "from sklearn.model_selection import train_test_split\n",
    "from sklearn.linear_model import LogisticRegression\n",
    "from sklearn.svm import LinearSVC, SVC\n",
    "from sklearn.ensemble import (\n",
    "    AdaBoostClassifier,\n",
    "    BaggingClassifier,\n",
    "    ExtraTreesClassifier,\n",
    "    GradientBoostingRegressor,\n",
    "    RandomForestClassifier,\n",
    "    VotingClassifier,\n",
    ")\n",
    "\n",
    "import numpy as np"
   ]
  },
  {
   "cell_type": "markdown",
   "id": "express-dancing",
   "metadata": {},
   "source": [
    "## Global configuration"
   ]
  },
  {
   "cell_type": "code",
   "execution_count": 2,
   "id": "ethical-clark",
   "metadata": {},
   "outputs": [],
   "source": [
    "MNIST_DATA_NAME = \"mnist_784\"\n",
    "MNIST_DATA_VERSION = 1\n",
    "\n",
    "RANDOM_SEED = 42\n",
    "\n",
    "JOB_COUNT = 3"
   ]
  },
  {
   "cell_type": "code",
   "execution_count": 3,
   "id": "lesser-current",
   "metadata": {},
   "outputs": [],
   "source": [
    "np.random.seed(RANDOM_SEED)"
   ]
  },
  {
   "cell_type": "markdown",
   "id": "f7a6bf3c",
   "metadata": {},
   "source": [
    "## Load <ins>moons</ins> data"
   ]
  },
  {
   "cell_type": "code",
   "execution_count": 4,
   "id": "4cc24b44",
   "metadata": {},
   "outputs": [],
   "source": [
    "X, y = make_moons(n_samples=500, noise=0.30, random_state=RANDOM_SEED)"
   ]
  },
  {
   "cell_type": "markdown",
   "id": "c975c606",
   "metadata": {},
   "source": [
    "## Split <ins>moons</ins> data"
   ]
  },
  {
   "cell_type": "code",
   "execution_count": 5,
   "id": "9e570626",
   "metadata": {},
   "outputs": [],
   "source": [
    "X_train, X_test, y_train, y_test = train_test_split(X, y, random_state=RANDOM_SEED)"
   ]
  },
  {
   "cell_type": "markdown",
   "id": "8463ebe4",
   "metadata": {},
   "source": [
    "## Train <ins>hard-voting</ins> model"
   ]
  },
  {
   "cell_type": "code",
   "execution_count": 6,
   "id": "8f49f91e",
   "metadata": {},
   "outputs": [],
   "source": [
    "lr_model = LogisticRegression()\n",
    "rf_model = RandomForestClassifier()\n",
    "svc_model = SVC()"
   ]
  },
  {
   "cell_type": "code",
   "execution_count": 7,
   "id": "12b5678b",
   "metadata": {},
   "outputs": [],
   "source": [
    "vot_model = VotingClassifier(\n",
    "    estimators=[(\"lr\", lr_model), (\"rf\", rf_model), (\"svc\", svc_model)],\n",
    "    voting=\"hard\",\n",
    ")"
   ]
  },
  {
   "cell_type": "code",
   "execution_count": 8,
   "id": "3708b0bd",
   "metadata": {},
   "outputs": [
    {
     "name": "stdout",
     "output_type": "stream",
     "text": [
      "CPU times: user 93.8 ms, sys: 0 ns, total: 93.8 ms\n",
      "Wall time: 92.9 ms\n"
     ]
    },
    {
     "data": {
      "text/plain": [
       "VotingClassifier(estimators=[('lr', LogisticRegression()),\n",
       "                             ('rf', RandomForestClassifier()), ('svc', SVC())])"
      ]
     },
     "execution_count": 8,
     "metadata": {},
     "output_type": "execute_result"
    }
   ],
   "source": [
    "%%time\n",
    "vot_model.fit(X_train, y_train)"
   ]
  },
  {
   "cell_type": "markdown",
   "id": "1e1d29f0",
   "metadata": {},
   "source": [
    "## Performance <ins>hard-voting</ins> model"
   ]
  },
  {
   "cell_type": "code",
   "execution_count": 9,
   "id": "16bb66a3",
   "metadata": {},
   "outputs": [
    {
     "name": "stdout",
     "output_type": "stream",
     "text": [
      "LogisticRegression 0.864\n",
      "RandomForestClassifier 0.904\n",
      "SVC 0.896\n",
      "VotingClassifier 0.904\n",
      "CPU times: user 188 ms, sys: 7.61 ms, total: 196 ms\n",
      "Wall time: 193 ms\n"
     ]
    }
   ],
   "source": [
    "%%time\n",
    "for model in (lr_model, rf_model, svc_model, vot_model):\n",
    "    model.fit(X_train, y_train)\n",
    "    \n",
    "    y_test_predictions = model.predict(X_test)\n",
    "    \n",
    "    print(model.__class__.__name__, accuracy_score(y_test, y_test_predictions))"
   ]
  },
  {
   "cell_type": "markdown",
   "id": "ae5c4029",
   "metadata": {},
   "source": [
    "## Train <ins>soft-voting</ins> model"
   ]
  },
  {
   "cell_type": "code",
   "execution_count": 10,
   "id": "50011f08",
   "metadata": {},
   "outputs": [],
   "source": [
    "lr_model = LogisticRegression()\n",
    "rf_model = RandomForestClassifier()\n",
    "svc_model = SVC(probability=True)"
   ]
  },
  {
   "cell_type": "code",
   "execution_count": 11,
   "id": "ad6f1a43",
   "metadata": {},
   "outputs": [],
   "source": [
    "vot_model = VotingClassifier(\n",
    "    estimators=[(\"lr\", lr_model), (\"rf\", rf_model), (\"svc\", svc_model)],\n",
    "    voting=\"soft\",\n",
    ")"
   ]
  },
  {
   "cell_type": "code",
   "execution_count": 12,
   "id": "387c0358",
   "metadata": {},
   "outputs": [
    {
     "name": "stdout",
     "output_type": "stream",
     "text": [
      "CPU times: user 102 ms, sys: 910 µs, total: 102 ms\n",
      "Wall time: 100 ms\n"
     ]
    },
    {
     "data": {
      "text/plain": [
       "VotingClassifier(estimators=[('lr', LogisticRegression()),\n",
       "                             ('rf', RandomForestClassifier()),\n",
       "                             ('svc', SVC(probability=True))],\n",
       "                 voting='soft')"
      ]
     },
     "execution_count": 12,
     "metadata": {},
     "output_type": "execute_result"
    }
   ],
   "source": [
    "%%time\n",
    "vot_model.fit(X_train, y_train)"
   ]
  },
  {
   "cell_type": "markdown",
   "id": "f185a64e",
   "metadata": {},
   "source": [
    "## Performance <ins>soft-voting</ins> model"
   ]
  },
  {
   "cell_type": "code",
   "execution_count": 13,
   "id": "35326175",
   "metadata": {},
   "outputs": [
    {
     "name": "stdout",
     "output_type": "stream",
     "text": [
      "LogisticRegression 0.864\n",
      "RandomForestClassifier 0.896\n",
      "SVC 0.896\n",
      "VotingClassifier 0.912\n",
      "CPU times: user 215 ms, sys: 0 ns, total: 215 ms\n",
      "Wall time: 211 ms\n"
     ]
    }
   ],
   "source": [
    "%%time\n",
    "for model in (lr_model, rf_model, svc_model, vot_model):\n",
    "    model.fit(X_train, y_train)\n",
    "    \n",
    "    y_test_predictions = model.predict(X_test)\n",
    "    \n",
    "    print(model.__class__.__name__, accuracy_score(y_test, y_test_predictions))"
   ]
  },
  {
   "cell_type": "markdown",
   "id": "57a96afd",
   "metadata": {},
   "source": [
    "## Train <ins>bagging</ins> model"
   ]
  },
  {
   "cell_type": "code",
   "execution_count": 14,
   "id": "bc12372c",
   "metadata": {},
   "outputs": [],
   "source": [
    "bag_model = BaggingClassifier(\n",
    "    DecisionTreeClassifier(),\n",
    "    n_estimators=500,\n",
    "    max_samples=100,\n",
    "    bootstrap=True,\n",
    "    n_jobs=JOB_COUNT,\n",
    ")"
   ]
  },
  {
   "cell_type": "code",
   "execution_count": 15,
   "id": "d24fa7d6",
   "metadata": {},
   "outputs": [
    {
     "name": "stdout",
     "output_type": "stream",
     "text": [
      "CPU times: user 38 ms, sys: 12.7 ms, total: 50.7 ms\n",
      "Wall time: 654 ms\n"
     ]
    },
    {
     "data": {
      "text/plain": [
       "BaggingClassifier(base_estimator=DecisionTreeClassifier(), max_samples=100,\n",
       "                  n_estimators=500, n_jobs=3)"
      ]
     },
     "execution_count": 15,
     "metadata": {},
     "output_type": "execute_result"
    }
   ],
   "source": [
    "%%time\n",
    "bag_model.fit(X_train, y_train)"
   ]
  },
  {
   "cell_type": "markdown",
   "id": "94dd5956",
   "metadata": {},
   "source": [
    "## Evaluate <ins>bagging</ins> model"
   ]
  },
  {
   "cell_type": "code",
   "execution_count": 16,
   "id": "90722f1e",
   "metadata": {},
   "outputs": [
    {
     "name": "stdout",
     "output_type": "stream",
     "text": [
      "CPU times: user 79.9 ms, sys: 0 ns, total: 79.9 ms\n",
      "Wall time: 96.2 ms\n"
     ]
    }
   ],
   "source": [
    "%%time\n",
    "y_test_predictions = bag_model.predict(X_test)"
   ]
  },
  {
   "cell_type": "markdown",
   "id": "98fce457",
   "metadata": {},
   "source": [
    "## Train <ins>out-of-bag</ins> model"
   ]
  },
  {
   "cell_type": "code",
   "execution_count": 17,
   "id": "74def75d",
   "metadata": {},
   "outputs": [],
   "source": [
    "bag_model = BaggingClassifier(\n",
    "    DecisionTreeClassifier(),\n",
    "    n_estimators=500,\n",
    "    bootstrap=True,\n",
    "    n_jobs=JOB_COUNT,\n",
    "    oob_score=True,\n",
    ")"
   ]
  },
  {
   "cell_type": "code",
   "execution_count": 18,
   "id": "8a40258d",
   "metadata": {},
   "outputs": [
    {
     "name": "stdout",
     "output_type": "stream",
     "text": [
      "CPU times: user 147 ms, sys: 2.43 ms, total: 149 ms\n",
      "Wall time: 346 ms\n"
     ]
    },
    {
     "data": {
      "text/plain": [
       "BaggingClassifier(base_estimator=DecisionTreeClassifier(), n_estimators=500,\n",
       "                  n_jobs=3, oob_score=True)"
      ]
     },
     "execution_count": 18,
     "metadata": {},
     "output_type": "execute_result"
    }
   ],
   "source": [
    "%%time\n",
    "bag_model.fit(X_train, y_train)"
   ]
  },
  {
   "cell_type": "markdown",
   "id": "2651031d",
   "metadata": {},
   "source": [
    "## Performance <ins>out-of-bag</ins> model"
   ]
  },
  {
   "cell_type": "code",
   "execution_count": 19,
   "id": "6a7e433e",
   "metadata": {},
   "outputs": [],
   "source": [
    "y_test_predictions = bag_model.predict(X_test)"
   ]
  },
  {
   "cell_type": "code",
   "execution_count": 20,
   "id": "725a41d1",
   "metadata": {
    "scrolled": true
   },
   "outputs": [
    {
     "data": {
      "text/plain": [
       "(0.8986666666666666, 0.896)"
      ]
     },
     "execution_count": 20,
     "metadata": {},
     "output_type": "execute_result"
    }
   ],
   "source": [
    "bag_model.oob_score_, accuracy_score(y_test, y_test_predictions)"
   ]
  },
  {
   "cell_type": "markdown",
   "id": "932bb83f",
   "metadata": {},
   "source": [
    "## Train <ins>random forest</ins> model"
   ]
  },
  {
   "cell_type": "code",
   "execution_count": 21,
   "id": "40980747",
   "metadata": {},
   "outputs": [],
   "source": [
    "rf_model = RandomForestClassifier(n_estimators=500, max_leaf_nodes=16, n_jobs=JOB_COUNT)"
   ]
  },
  {
   "cell_type": "code",
   "execution_count": 22,
   "id": "95a416fc",
   "metadata": {},
   "outputs": [
    {
     "name": "stdout",
     "output_type": "stream",
     "text": [
      "CPU times: user 581 ms, sys: 112 ms, total: 693 ms\n",
      "Wall time: 512 ms\n"
     ]
    },
    {
     "data": {
      "text/plain": [
       "RandomForestClassifier(max_leaf_nodes=16, n_estimators=500, n_jobs=3)"
      ]
     },
     "execution_count": 22,
     "metadata": {},
     "output_type": "execute_result"
    }
   ],
   "source": [
    "%%time\n",
    "rf_model.fit(X_train, y_train)"
   ]
  },
  {
   "cell_type": "markdown",
   "id": "c08a8561",
   "metadata": {},
   "source": [
    "## Evaluate <ins>random forest</ins> model"
   ]
  },
  {
   "cell_type": "code",
   "execution_count": 23,
   "id": "fe832e5c",
   "metadata": {},
   "outputs": [
    {
     "name": "stdout",
     "output_type": "stream",
     "text": [
      "CPU times: user 54 ms, sys: 20.1 ms, total: 74.1 ms\n",
      "Wall time: 57.4 ms\n"
     ]
    }
   ],
   "source": [
    "%%time\n",
    "y_test_predictions = rf_model.predict(X_test)"
   ]
  },
  {
   "cell_type": "markdown",
   "id": "7efea7a9",
   "metadata": {},
   "source": [
    "## Load <ins>iris</ins> data"
   ]
  },
  {
   "cell_type": "code",
   "execution_count": 24,
   "id": "cfed1d0a",
   "metadata": {},
   "outputs": [],
   "source": [
    "iris = load_iris()"
   ]
  },
  {
   "cell_type": "markdown",
   "id": "42931540",
   "metadata": {},
   "source": [
    "## Split <ins>iris</ins> data"
   ]
  },
  {
   "cell_type": "code",
   "execution_count": 25,
   "id": "8df68139",
   "metadata": {},
   "outputs": [],
   "source": [
    "X, y = iris[\"data\"], iris[\"target\"]"
   ]
  },
  {
   "cell_type": "markdown",
   "id": "ac81a714",
   "metadata": {},
   "source": [
    "## Train <ins>random forest</ins> model"
   ]
  },
  {
   "cell_type": "code",
   "execution_count": 26,
   "id": "e83ca88d",
   "metadata": {},
   "outputs": [],
   "source": [
    "rf_model = RandomForestClassifier(n_estimators=500, n_jobs=JOB_COUNT)"
   ]
  },
  {
   "cell_type": "code",
   "execution_count": 27,
   "id": "75951afe",
   "metadata": {},
   "outputs": [
    {
     "name": "stdout",
     "output_type": "stream",
     "text": [
      "CPU times: user 532 ms, sys: 99.9 ms, total: 631 ms\n",
      "Wall time: 494 ms\n"
     ]
    },
    {
     "data": {
      "text/plain": [
       "RandomForestClassifier(n_estimators=500, n_jobs=3)"
      ]
     },
     "execution_count": 27,
     "metadata": {},
     "output_type": "execute_result"
    }
   ],
   "source": [
    "%%time\n",
    "rf_model.fit(X, y)"
   ]
  },
  {
   "cell_type": "markdown",
   "id": "a650e32b",
   "metadata": {},
   "source": [
    "## Evaluate <ins>random forest</ins> model"
   ]
  },
  {
   "cell_type": "code",
   "execution_count": 28,
   "id": "79c3c4f5",
   "metadata": {},
   "outputs": [
    {
     "name": "stdout",
     "output_type": "stream",
     "text": [
      "sepal length (cm) 0.11232940454143936\n",
      "sepal width (cm) 0.026348379794474807\n",
      "petal length (cm) 0.4571984455932355\n",
      "petal width (cm) 0.4041237700708503\n"
     ]
    }
   ],
   "source": [
    "for name, score in zip(iris[\"feature_names\"], rf_model.feature_importances_):\n",
    "    print(name, score)"
   ]
  },
  {
   "cell_type": "markdown",
   "id": "87b70f2f",
   "metadata": {},
   "source": [
    "## Train <ins>ada-boost</ins> model"
   ]
  },
  {
   "cell_type": "code",
   "execution_count": 29,
   "id": "fd13eae4",
   "metadata": {},
   "outputs": [],
   "source": [
    "ada_model = AdaBoostClassifier(\n",
    "    DecisionTreeClassifier(max_depth=1),\n",
    "    n_estimators=200,\n",
    "    algorithm=\"SAMME.R\",\n",
    "    learning_rate=0.5,\n",
    ")"
   ]
  },
  {
   "cell_type": "code",
   "execution_count": 30,
   "id": "352bd921",
   "metadata": {},
   "outputs": [
    {
     "name": "stdout",
     "output_type": "stream",
     "text": [
      "CPU times: user 181 ms, sys: 0 ns, total: 181 ms\n",
      "Wall time: 180 ms\n"
     ]
    },
    {
     "data": {
      "text/plain": [
       "AdaBoostClassifier(base_estimator=DecisionTreeClassifier(max_depth=1),\n",
       "                   learning_rate=0.5, n_estimators=200)"
      ]
     },
     "execution_count": 30,
     "metadata": {},
     "output_type": "execute_result"
    }
   ],
   "source": [
    "%%time\n",
    "ada_model.fit(X_train, y_train)"
   ]
  },
  {
   "cell_type": "markdown",
   "id": "a425684c",
   "metadata": {},
   "source": [
    "## Generate <ins>quadratic</ins> data"
   ]
  },
  {
   "cell_type": "code",
   "execution_count": 31,
   "id": "77e5cb0c",
   "metadata": {},
   "outputs": [],
   "source": [
    "X = np.random.rand(100, 1) - 0.5\n",
    "y = 3 * X[:, 0]**2 + 0.05 * np.random.randn(100)"
   ]
  },
  {
   "cell_type": "markdown",
   "id": "a46fbb97",
   "metadata": {},
   "source": [
    "## Train <ins>gradient-boost</ins> model (manual)"
   ]
  },
  {
   "cell_type": "code",
   "execution_count": 32,
   "id": "a0fdcbfe",
   "metadata": {},
   "outputs": [],
   "source": [
    "y1 = y"
   ]
  },
  {
   "cell_type": "code",
   "execution_count": 33,
   "id": "7dada7d2",
   "metadata": {},
   "outputs": [],
   "source": [
    "dt_model1 = DecisionTreeRegressor(max_depth=2)"
   ]
  },
  {
   "cell_type": "code",
   "execution_count": 34,
   "id": "9bd5c23d",
   "metadata": {},
   "outputs": [
    {
     "name": "stdout",
     "output_type": "stream",
     "text": [
      "CPU times: user 1.86 ms, sys: 0 ns, total: 1.86 ms\n",
      "Wall time: 1.25 ms\n"
     ]
    },
    {
     "data": {
      "text/plain": [
       "DecisionTreeRegressor(max_depth=2)"
      ]
     },
     "execution_count": 34,
     "metadata": {},
     "output_type": "execute_result"
    }
   ],
   "source": [
    "%%time\n",
    "dt_model1.fit(X, y1)"
   ]
  },
  {
   "cell_type": "code",
   "execution_count": 35,
   "id": "0f913c15",
   "metadata": {},
   "outputs": [],
   "source": [
    "y2 = y1 - dt_model1.predict(X)"
   ]
  },
  {
   "cell_type": "code",
   "execution_count": 36,
   "id": "3420157e",
   "metadata": {},
   "outputs": [],
   "source": [
    "dt_model2 = DecisionTreeRegressor(max_depth=2)"
   ]
  },
  {
   "cell_type": "code",
   "execution_count": 37,
   "id": "4889f7d4",
   "metadata": {},
   "outputs": [
    {
     "name": "stdout",
     "output_type": "stream",
     "text": [
      "CPU times: user 1.76 ms, sys: 0 ns, total: 1.76 ms\n",
      "Wall time: 1.06 ms\n"
     ]
    },
    {
     "data": {
      "text/plain": [
       "DecisionTreeRegressor(max_depth=2)"
      ]
     },
     "execution_count": 37,
     "metadata": {},
     "output_type": "execute_result"
    }
   ],
   "source": [
    "%%time\n",
    "dt_model2.fit(X, y2)"
   ]
  },
  {
   "cell_type": "code",
   "execution_count": 38,
   "id": "51d41425",
   "metadata": {},
   "outputs": [],
   "source": [
    "y3 = y2 - dt_model2.predict(X)"
   ]
  },
  {
   "cell_type": "code",
   "execution_count": 39,
   "id": "d08bc4b0",
   "metadata": {},
   "outputs": [],
   "source": [
    "dt_model3 = DecisionTreeRegressor(max_depth=2)"
   ]
  },
  {
   "cell_type": "code",
   "execution_count": 40,
   "id": "db8ba320",
   "metadata": {},
   "outputs": [
    {
     "name": "stdout",
     "output_type": "stream",
     "text": [
      "CPU times: user 265 µs, sys: 193 µs, total: 458 µs\n",
      "Wall time: 345 µs\n"
     ]
    },
    {
     "data": {
      "text/plain": [
       "DecisionTreeRegressor(max_depth=2)"
      ]
     },
     "execution_count": 40,
     "metadata": {},
     "output_type": "execute_result"
    }
   ],
   "source": [
    "%%time\n",
    "dt_model3.fit(X, y3)"
   ]
  },
  {
   "cell_type": "markdown",
   "id": "30998d2f",
   "metadata": {},
   "source": [
    "## Evaluate <ins>gradient-boost</ins> model (manual)"
   ]
  },
  {
   "cell_type": "code",
   "execution_count": 41,
   "id": "a43118b6",
   "metadata": {},
   "outputs": [],
   "source": [
    "X_test_new = np.array([[0.8]])"
   ]
  },
  {
   "cell_type": "code",
   "execution_count": 42,
   "id": "6b26aefa",
   "metadata": {},
   "outputs": [
    {
     "data": {
      "text/plain": [
       "array([0.7709191])"
      ]
     },
     "execution_count": 42,
     "metadata": {},
     "output_type": "execute_result"
    }
   ],
   "source": [
    "y_test_new_predictions = sum(tree.predict(X_test_new) for tree in (dt_model1, dt_model2, dt_model3))\n",
    "y_test_new_predictions"
   ]
  },
  {
   "cell_type": "markdown",
   "id": "c975d843",
   "metadata": {},
   "source": [
    "## Train <ins>gradient-boost</ins> model (sklearn)"
   ]
  },
  {
   "cell_type": "code",
   "execution_count": 43,
   "id": "c679654a",
   "metadata": {},
   "outputs": [],
   "source": [
    "gb_model = GradientBoostingRegressor(max_depth=2, n_estimators=3, learning_rate=1.0)"
   ]
  },
  {
   "cell_type": "code",
   "execution_count": 44,
   "id": "f0003f05",
   "metadata": {},
   "outputs": [
    {
     "name": "stdout",
     "output_type": "stream",
     "text": [
      "CPU times: user 678 µs, sys: 494 µs, total: 1.17 ms\n",
      "Wall time: 950 µs\n"
     ]
    },
    {
     "data": {
      "text/plain": [
       "GradientBoostingRegressor(learning_rate=1.0, max_depth=2, n_estimators=3)"
      ]
     },
     "execution_count": 44,
     "metadata": {},
     "output_type": "execute_result"
    }
   ],
   "source": [
    "%%time\n",
    "gb_model.fit(X, y)"
   ]
  },
  {
   "cell_type": "markdown",
   "id": "a200db34",
   "metadata": {},
   "source": [
    "## Split <ins>quadratic</ins> data"
   ]
  },
  {
   "cell_type": "code",
   "execution_count": 45,
   "id": "0139edc5",
   "metadata": {},
   "outputs": [],
   "source": [
    "X_train, X_validation, y_train, y_validation = train_test_split(X, y)"
   ]
  },
  {
   "cell_type": "markdown",
   "id": "032a0ce0",
   "metadata": {},
   "source": [
    "## Train <ins>gradient-boost</ins> model (early-stopping)"
   ]
  },
  {
   "cell_type": "code",
   "execution_count": 46,
   "id": "66f155f6",
   "metadata": {},
   "outputs": [],
   "source": [
    "gb_model = GradientBoostingRegressor(max_depth=2, n_estimators=120)"
   ]
  },
  {
   "cell_type": "code",
   "execution_count": 47,
   "id": "42d952d3",
   "metadata": {},
   "outputs": [
    {
     "name": "stdout",
     "output_type": "stream",
     "text": [
      "CPU times: user 19.5 ms, sys: 0 ns, total: 19.5 ms\n",
      "Wall time: 18.7 ms\n"
     ]
    },
    {
     "data": {
      "text/plain": [
       "GradientBoostingRegressor(max_depth=2, n_estimators=120)"
      ]
     },
     "execution_count": 47,
     "metadata": {},
     "output_type": "execute_result"
    }
   ],
   "source": [
    "%%time\n",
    "gb_model.fit(X_train, y_train)"
   ]
  },
  {
   "cell_type": "markdown",
   "id": "64e116e0",
   "metadata": {},
   "source": [
    "## Tune <ins>gradient-boost</ins> model (early-stopping)"
   ]
  },
  {
   "cell_type": "code",
   "execution_count": 48,
   "id": "086a2c61",
   "metadata": {},
   "outputs": [
    {
     "data": {
      "text/plain": [
       "55"
      ]
     },
     "execution_count": 48,
     "metadata": {},
     "output_type": "execute_result"
    }
   ],
   "source": [
    "errors = [mean_squared_error(y_validation, y_validation_predictions)\n",
    "          for y_validation_predictions in gb_model.staged_predict(X_validation)]\n",
    "\n",
    "best_n_estimators = np.argmin(errors)\n",
    "best_n_estimators"
   ]
  },
  {
   "cell_type": "code",
   "execution_count": 49,
   "id": "4ddb8e32",
   "metadata": {},
   "outputs": [],
   "source": [
    "gb_model = GradientBoostingRegressor(max_depth=2, n_estimators=best_n_estimators)"
   ]
  },
  {
   "cell_type": "code",
   "execution_count": 50,
   "id": "12d17897",
   "metadata": {},
   "outputs": [
    {
     "name": "stdout",
     "output_type": "stream",
     "text": [
      "CPU times: user 9.42 ms, sys: 0 ns, total: 9.42 ms\n",
      "Wall time: 8.77 ms\n"
     ]
    },
    {
     "data": {
      "text/plain": [
       "GradientBoostingRegressor(max_depth=2, n_estimators=55)"
      ]
     },
     "execution_count": 50,
     "metadata": {},
     "output_type": "execute_result"
    }
   ],
   "source": [
    "%%time\n",
    "gb_model.fit(X_train, y_train)"
   ]
  },
  {
   "cell_type": "markdown",
   "id": "616f4fc9",
   "metadata": {},
   "source": [
    "# Exercises"
   ]
  },
  {
   "cell_type": "markdown",
   "id": "1cda6fc4",
   "metadata": {},
   "source": [
    "1. If you have trained five different models on the exact same training data, and they all achieve 95% precision, is there any chance that you can combine these models to get better results? If so, how? If not, why?"
   ]
  },
  {
   "cell_type": "markdown",
   "id": "6c1e6f06",
   "metadata": {},
   "source": [
    "**Solution**\n",
    "\n",
    "Yes, you can by applying an ensemble technique like voting."
   ]
  },
  {
   "cell_type": "markdown",
   "id": "0308001e",
   "metadata": {},
   "source": [
    "2. What is the difference between hard and soft voting classifiers?"
   ]
  },
  {
   "cell_type": "markdown",
   "id": "74ec3104",
   "metadata": {},
   "source": [
    "**Solution**\n",
    "\n",
    "Hard voting classifiers pick the class that get the most votes. Soft voting classifiers use the average class probability and then picks the class with the highest probability."
   ]
  },
  {
   "cell_type": "markdown",
   "id": "c09e55e4",
   "metadata": {},
   "source": [
    "3. Is it possible to speed up training of a bagging ensemble by distributing it across multiple servers? What about pasting ensembles, boosting ensembles, random forests, or stacking ensembles?"
   ]
  },
  {
   "cell_type": "markdown",
   "id": "004165e0",
   "metadata": {},
   "source": [
    "**Solution**\n",
    "\n",
    "* Bagging: yes\n",
    "\n",
    "* Pasting: yes\n",
    "\n",
    "* Boosting: no\n",
    "\n",
    "* Random forests: yes\n",
    "\n",
    "* Stacking: no"
   ]
  },
  {
   "cell_type": "markdown",
   "id": "9661cf50",
   "metadata": {},
   "source": [
    "4. What is the benefit of out-of-bag evaluation?"
   ]
  },
  {
   "cell_type": "markdown",
   "id": "b933bc18",
   "metadata": {},
   "source": [
    "**Solution**\n",
    "\n",
    "Each predictor is evaluated using instances that it was not trained on. This makes it possible to have a fairly unbiased evaluation."
   ]
  },
  {
   "cell_type": "markdown",
   "id": "6a70e58c",
   "metadata": {},
   "source": [
    "5. What makes Extra-Trees more random than regular Random Forests? How can this extra randomness help? Are Extra-Trees slower or faster than regular Random Forests?"
   ]
  },
  {
   "cell_type": "markdown",
   "id": "d7459e08",
   "metadata": {},
   "source": [
    "**Solution**\n",
    "\n",
    "Extra trees doesn't search for the best threshold for each feature but it uses random threshold, therefore it is faster than regular random forests."
   ]
  },
  {
   "cell_type": "markdown",
   "id": "0571a2b4",
   "metadata": {},
   "source": [
    "6. If your AdaBoost ensemble underfits the training data, what hyperparameters should you tweak and how?"
   ]
  },
  {
   "cell_type": "markdown",
   "id": "2237da73",
   "metadata": {},
   "source": [
    "**Solution**\n",
    "\n",
    "You can try to reduce the number of estimators or the regularization hyperparameters of the base estimators."
   ]
  },
  {
   "cell_type": "markdown",
   "id": "7e78a5fc",
   "metadata": {},
   "source": [
    "7. If your Gradient Boosting ensemble overfits the training set, should you increase or decrease the learning rate?"
   ]
  },
  {
   "cell_type": "markdown",
   "id": "1e8cf907",
   "metadata": {},
   "source": [
    "**Solution**\n",
    "\n",
    "You should decrease the learning rate."
   ]
  },
  {
   "cell_type": "markdown",
   "id": "8afeee8e",
   "metadata": {},
   "source": [
    "8. Load the MNIST data (introduced in Chapter 3), and split it into a training set, a validation set, and a test set (e.g., use 50,000 instances for training, 10,000 for validation, and 10,000 for testing). Then train various classifiers, such as a Random Forest classifier, an Extra-Trees classifier, and an SVM. Next, try to combine them into an ensemble that outperforms them all on the validation set, using a soft or hard voting classifier. Once you have found one, try it on the test set. How much better does it perform compared to the individual classifiers?"
   ]
  },
  {
   "cell_type": "markdown",
   "id": "8bd37800",
   "metadata": {},
   "source": [
    "**Solution**"
   ]
  },
  {
   "cell_type": "markdown",
   "id": "d28b1df5",
   "metadata": {},
   "source": [
    "### Load"
   ]
  },
  {
   "cell_type": "code",
   "execution_count": 51,
   "id": "f062867e",
   "metadata": {},
   "outputs": [],
   "source": [
    "mnist = fetch_openml(MNIST_DATA_NAME, version=MNIST_DATA_VERSION, as_frame=False)"
   ]
  },
  {
   "cell_type": "code",
   "execution_count": 52,
   "id": "09518147",
   "metadata": {},
   "outputs": [],
   "source": [
    "X, y = mnist[\"data\"], mnist[\"target\"]"
   ]
  },
  {
   "cell_type": "markdown",
   "id": "a01f59bf",
   "metadata": {},
   "source": [
    "### Split"
   ]
  },
  {
   "cell_type": "code",
   "execution_count": 53,
   "id": "d3c8842e",
   "metadata": {},
   "outputs": [],
   "source": [
    "X_validation, X_test, y_validation, y_test = train_test_split(\n",
    "    X,\n",
    "    y,\n",
    "    test_size=10000,\n",
    "    random_state=RANDOM_SEED,\n",
    ")"
   ]
  },
  {
   "cell_type": "code",
   "execution_count": 54,
   "id": "94f20aaf",
   "metadata": {},
   "outputs": [],
   "source": [
    "X_train, X_validation, y_train, y_validation = train_test_split(\n",
    "    X_validation,\n",
    "    y_validation,\n",
    "    test_size=10000,\n",
    "    random_state=RANDOM_SEED,\n",
    ")"
   ]
  },
  {
   "cell_type": "markdown",
   "id": "fb926aae",
   "metadata": {},
   "source": [
    "### Train (individual)"
   ]
  },
  {
   "cell_type": "code",
   "execution_count": 55,
   "id": "430eac90",
   "metadata": {},
   "outputs": [],
   "source": [
    "rf_model = RandomForestClassifier(n_estimators=100, random_state=RANDOM_SEED)\n",
    "et_model = ExtraTreesClassifier(n_estimators=100, random_state=RANDOM_SEED)\n",
    "svc_model = LinearSVC(max_iter=100, tol=20, random_state=RANDOM_SEED)"
   ]
  },
  {
   "cell_type": "code",
   "execution_count": 56,
   "id": "8ea29714",
   "metadata": {},
   "outputs": [
    {
     "name": "stdout",
     "output_type": "stream",
     "text": [
      "CPU times: user 20.4 s, sys: 5.88 ms, total: 20.4 s\n",
      "Wall time: 20.4 s\n"
     ]
    },
    {
     "data": {
      "text/plain": [
       "RandomForestClassifier(random_state=42)"
      ]
     },
     "execution_count": 56,
     "metadata": {},
     "output_type": "execute_result"
    }
   ],
   "source": [
    "%%time\n",
    "rf_model.fit(X_train, y_train)"
   ]
  },
  {
   "cell_type": "code",
   "execution_count": 57,
   "id": "87c99e2d",
   "metadata": {},
   "outputs": [
    {
     "name": "stdout",
     "output_type": "stream",
     "text": [
      "CPU times: user 15.7 s, sys: 71.2 ms, total: 15.8 s\n",
      "Wall time: 15.8 s\n"
     ]
    },
    {
     "data": {
      "text/plain": [
       "ExtraTreesClassifier(random_state=42)"
      ]
     },
     "execution_count": 57,
     "metadata": {},
     "output_type": "execute_result"
    }
   ],
   "source": [
    "%%time\n",
    "et_model.fit(X_train, y_train)"
   ]
  },
  {
   "cell_type": "code",
   "execution_count": 58,
   "id": "aedd6960",
   "metadata": {},
   "outputs": [
    {
     "name": "stdout",
     "output_type": "stream",
     "text": [
      "CPU times: user 499 ms, sys: 32.2 ms, total: 531 ms\n",
      "Wall time: 530 ms\n"
     ]
    },
    {
     "data": {
      "text/plain": [
       "LinearSVC(max_iter=100, random_state=42, tol=20)"
      ]
     },
     "execution_count": 58,
     "metadata": {},
     "output_type": "execute_result"
    }
   ],
   "source": [
    "%%time\n",
    "svc_model.fit(X_train, y_train)"
   ]
  },
  {
   "cell_type": "markdown",
   "id": "d275f576",
   "metadata": {},
   "source": [
    "### Evaluate (individual)"
   ]
  },
  {
   "cell_type": "code",
   "execution_count": 59,
   "id": "0fbbcf88",
   "metadata": {},
   "outputs": [
    {
     "data": {
      "text/plain": [
       "(0.9692, 0.9645)"
      ]
     },
     "execution_count": 59,
     "metadata": {},
     "output_type": "execute_result"
    }
   ],
   "source": [
    "rf_model.score(X_validation, y_validation), rf_model.score(X_test, y_test)"
   ]
  },
  {
   "cell_type": "code",
   "execution_count": 60,
   "id": "56657365",
   "metadata": {},
   "outputs": [
    {
     "data": {
      "text/plain": [
       "(0.9715, 0.9691)"
      ]
     },
     "execution_count": 60,
     "metadata": {},
     "output_type": "execute_result"
    }
   ],
   "source": [
    "et_model.score(X_validation, y_validation), et_model.score(X_test, y_test)"
   ]
  },
  {
   "cell_type": "code",
   "execution_count": 61,
   "id": "76b51673",
   "metadata": {
    "scrolled": true
   },
   "outputs": [
    {
     "data": {
      "text/plain": [
       "(0.859, 0.8566)"
      ]
     },
     "execution_count": 61,
     "metadata": {},
     "output_type": "execute_result"
    }
   ],
   "source": [
    "svc_model.score(X_validation, y_validation), svc_model.score(X_test, y_test)"
   ]
  },
  {
   "cell_type": "markdown",
   "id": "2ef2d194",
   "metadata": {},
   "source": [
    "### Train (ensemble)"
   ]
  },
  {
   "cell_type": "code",
   "execution_count": 62,
   "id": "53b3a7c5",
   "metadata": {},
   "outputs": [],
   "source": [
    "vot_model = VotingClassifier(\n",
    "    estimators=[(\"rf\", rf_model), (\"et\", et_model), (\"svc\", svc_model)],\n",
    "    voting=\"hard\",\n",
    ")"
   ]
  },
  {
   "cell_type": "code",
   "execution_count": 63,
   "id": "933b19ed",
   "metadata": {},
   "outputs": [
    {
     "name": "stdout",
     "output_type": "stream",
     "text": [
      "CPU times: user 37.7 s, sys: 1.16 s, total: 38.8 s\n",
      "Wall time: 37.5 s\n"
     ]
    },
    {
     "data": {
      "text/plain": [
       "VotingClassifier(estimators=[('rf', RandomForestClassifier(random_state=42)),\n",
       "                             ('et', ExtraTreesClassifier(random_state=42)),\n",
       "                             ('svc',\n",
       "                              LinearSVC(max_iter=100, random_state=42,\n",
       "                                        tol=20))])"
      ]
     },
     "execution_count": 63,
     "metadata": {},
     "output_type": "execute_result"
    }
   ],
   "source": [
    "%%time\n",
    "vot_model.fit(X_train, y_train)"
   ]
  },
  {
   "cell_type": "markdown",
   "id": "5e50995e",
   "metadata": {},
   "source": [
    "### Evaluate (ensemble)"
   ]
  },
  {
   "cell_type": "code",
   "execution_count": 64,
   "id": "710afcd9",
   "metadata": {},
   "outputs": [
    {
     "data": {
      "text/plain": [
       "(0.9693, 0.965)"
      ]
     },
     "execution_count": 64,
     "metadata": {},
     "output_type": "execute_result"
    }
   ],
   "source": [
    "vot_model.score(X_validation, y_validation), vot_model.score(X_test, y_test)"
   ]
  }
 ],
 "metadata": {
  "kernelspec": {
   "display_name": "Python 3",
   "language": "python",
   "name": "python3"
  },
  "language_info": {
   "codemirror_mode": {
    "name": "ipython",
    "version": 3
   },
   "file_extension": ".py",
   "mimetype": "text/x-python",
   "name": "python",
   "nbconvert_exporter": "python",
   "pygments_lexer": "ipython3",
   "version": "3.8.5"
  }
 },
 "nbformat": 4,
 "nbformat_minor": 5
}
