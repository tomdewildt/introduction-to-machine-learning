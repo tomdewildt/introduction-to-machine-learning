{
 "cells": [
  {
   "cell_type": "markdown",
   "id": "irish-monkey",
   "metadata": {},
   "source": [
    "# Chapter 5: Iris, Moons & MNIST\n",
    "\n",
    "This notebook contains the code for chapter 5 of the Hands-on Machine Learning with Scikit-Learn, Keras & Tensorflow book."
   ]
  },
  {
   "cell_type": "code",
   "execution_count": 1,
   "id": "perfect-weight",
   "metadata": {},
   "outputs": [],
   "source": [
    "from sklearn.preprocessing import PolynomialFeatures, StandardScaler\n",
    "from sklearn.datasets import fetch_openml, load_iris, make_moons\n",
    "from sklearn.model_selection import RandomizedSearchCV\n",
    "from sklearn.svm import LinearSVC, LinearSVR, SVC, SVR\n",
    "from sklearn.linear_model import SGDClassifier\n",
    "from sklearn.metrics import accuracy_score\n",
    "from sklearn.pipeline import Pipeline\n",
    "\n",
    "from scipy.stats import reciprocal, uniform\n",
    "import numpy as np"
   ]
  },
  {
   "cell_type": "markdown",
   "id": "injured-yacht",
   "metadata": {},
   "source": [
    "## Global configuration"
   ]
  },
  {
   "cell_type": "code",
   "execution_count": 2,
   "id": "hazardous-falls",
   "metadata": {},
   "outputs": [],
   "source": [
    "MNIST_DATA_NAME = \"mnist_784\"\n",
    "MNIST_DATA_VERSION = 1\n",
    "\n",
    "RANDOM_SEED = 42\n",
    "\n",
    "JOB_COUNT = 3"
   ]
  },
  {
   "cell_type": "code",
   "execution_count": 3,
   "id": "outdoor-soldier",
   "metadata": {},
   "outputs": [],
   "source": [
    "np.random.seed(RANDOM_SEED)"
   ]
  },
  {
   "cell_type": "markdown",
   "id": "catholic-calcium",
   "metadata": {},
   "source": [
    "## Load <ins>iris</ins> data"
   ]
  },
  {
   "cell_type": "code",
   "execution_count": 4,
   "id": "equivalent-minutes",
   "metadata": {},
   "outputs": [],
   "source": [
    "iris = load_iris()"
   ]
  },
  {
   "cell_type": "markdown",
   "id": "modern-spanish",
   "metadata": {},
   "source": [
    "## Split <ins>iris</ins> data"
   ]
  },
  {
   "cell_type": "code",
   "execution_count": 5,
   "id": "ordinary-surveillance",
   "metadata": {},
   "outputs": [],
   "source": [
    "X, y = iris.data[:, (2, 3)], (iris.target == 2).astype(np.float64)"
   ]
  },
  {
   "cell_type": "markdown",
   "id": "light-pharmacy",
   "metadata": {},
   "source": [
    "## Train <ins>linear svc</ins> model"
   ]
  },
  {
   "cell_type": "code",
   "execution_count": 6,
   "id": "motivated-oxford",
   "metadata": {},
   "outputs": [],
   "source": [
    "lsvc_model = Pipeline([\n",
    "    (\"standard_scaler\", StandardScaler()),\n",
    "    (\"linear_svc\", LinearSVC(C=1, loss=\"hinge\")),\n",
    "])"
   ]
  },
  {
   "cell_type": "code",
   "execution_count": 7,
   "id": "recognized-council",
   "metadata": {},
   "outputs": [
    {
     "name": "stdout",
     "output_type": "stream",
     "text": [
      "CPU times: user 420 µs, sys: 807 µs, total: 1.23 ms\n",
      "Wall time: 1.06 ms\n"
     ]
    },
    {
     "data": {
      "text/plain": [
       "Pipeline(steps=[('standard_scaler', StandardScaler()),\n",
       "                ('linear_svc', LinearSVC(C=1, loss='hinge'))])"
      ]
     },
     "execution_count": 7,
     "metadata": {},
     "output_type": "execute_result"
    }
   ],
   "source": [
    "%%time\n",
    "lsvc_model.fit(X, y)"
   ]
  },
  {
   "cell_type": "markdown",
   "id": "moved-hybrid",
   "metadata": {},
   "source": [
    "## Evaluate <ins>linear svc</ins> model"
   ]
  },
  {
   "cell_type": "code",
   "execution_count": 8,
   "id": "muslim-muslim",
   "metadata": {},
   "outputs": [
    {
     "data": {
      "text/plain": [
       "array([1.])"
      ]
     },
     "execution_count": 8,
     "metadata": {},
     "output_type": "execute_result"
    }
   ],
   "source": [
    "lsvc_model.predict([[5.5, 1.7]])"
   ]
  },
  {
   "cell_type": "markdown",
   "id": "impossible-logistics",
   "metadata": {},
   "source": [
    "## Load <ins>moons</ins> data"
   ]
  },
  {
   "cell_type": "code",
   "execution_count": 9,
   "id": "golden-promise",
   "metadata": {},
   "outputs": [],
   "source": [
    "X, y = make_moons(n_samples=100, noise=0.15, random_state=RANDOM_SEED)"
   ]
  },
  {
   "cell_type": "markdown",
   "id": "fifth-stress",
   "metadata": {},
   "source": [
    "## Train <ins>polynomial svc</ins> model"
   ]
  },
  {
   "cell_type": "code",
   "execution_count": 10,
   "id": "aquatic-while",
   "metadata": {},
   "outputs": [],
   "source": [
    "psvc = Pipeline([\n",
    "    (\"polynomial_features\", PolynomialFeatures(degree=3)),\n",
    "    (\"standard_scaler\", StandardScaler()),\n",
    "    (\"linear_svc\", LinearSVC(C=10, loss=\"hinge\")),\n",
    "])"
   ]
  },
  {
   "cell_type": "code",
   "execution_count": 11,
   "id": "ahead-harrison",
   "metadata": {},
   "outputs": [
    {
     "name": "stdout",
     "output_type": "stream",
     "text": [
      "CPU times: user 855 µs, sys: 1.62 ms, total: 2.48 ms\n",
      "Wall time: 1.89 ms\n"
     ]
    },
    {
     "name": "stderr",
     "output_type": "stream",
     "text": [
      "/home/tomdewildt/Projects/introduction-to-machine-learning/venv/lib/python3.8/site-packages/sklearn/svm/_base.py:985: ConvergenceWarning: Liblinear failed to converge, increase the number of iterations.\n",
      "  warnings.warn(\"Liblinear failed to converge, increase \"\n"
     ]
    },
    {
     "data": {
      "text/plain": [
       "Pipeline(steps=[('polynomial_features', PolynomialFeatures(degree=3)),\n",
       "                ('standard_scaler', StandardScaler()),\n",
       "                ('linear_svc', LinearSVC(C=10, loss='hinge'))])"
      ]
     },
     "execution_count": 11,
     "metadata": {},
     "output_type": "execute_result"
    }
   ],
   "source": [
    "%%time\n",
    "psvc.fit(X, y)"
   ]
  },
  {
   "cell_type": "markdown",
   "id": "raised-turner",
   "metadata": {},
   "source": [
    "## Train <ins>polynomial kernel svc</ins> model"
   ]
  },
  {
   "cell_type": "code",
   "execution_count": 12,
   "id": "alternate-failing",
   "metadata": {},
   "outputs": [],
   "source": [
    "pksvc_model = Pipeline([\n",
    "    (\"standard_scaler\", StandardScaler()),\n",
    "    (\"svc\", SVC(kernel=\"poly\", degree=3, coef0=1, C=5)),\n",
    "])"
   ]
  },
  {
   "cell_type": "code",
   "execution_count": 13,
   "id": "funded-superintendent",
   "metadata": {},
   "outputs": [
    {
     "name": "stdout",
     "output_type": "stream",
     "text": [
      "CPU times: user 617 µs, sys: 770 µs, total: 1.39 ms\n",
      "Wall time: 976 µs\n"
     ]
    },
    {
     "data": {
      "text/plain": [
       "Pipeline(steps=[('standard_scaler', StandardScaler()),\n",
       "                ('svc', SVC(C=5, coef0=1, kernel='poly'))])"
      ]
     },
     "execution_count": 13,
     "metadata": {},
     "output_type": "execute_result"
    }
   ],
   "source": [
    "%%time\n",
    "pksvc_model.fit(X, y)"
   ]
  },
  {
   "cell_type": "markdown",
   "id": "eight-building",
   "metadata": {},
   "source": [
    "## Train <ins>rbf kernel svc</ins> model"
   ]
  },
  {
   "cell_type": "code",
   "execution_count": 14,
   "id": "worse-hostel",
   "metadata": {},
   "outputs": [],
   "source": [
    "rksvc_model = Pipeline([\n",
    "    (\"standard_scaler\", StandardScaler()),\n",
    "    (\"svc\", SVC(kernel=\"rbf\", gamma=5, C=0.001)),\n",
    "])"
   ]
  },
  {
   "cell_type": "code",
   "execution_count": 15,
   "id": "fleet-value",
   "metadata": {},
   "outputs": [
    {
     "name": "stdout",
     "output_type": "stream",
     "text": [
      "CPU times: user 1.97 ms, sys: 140 µs, total: 2.11 ms\n",
      "Wall time: 1.28 ms\n"
     ]
    },
    {
     "data": {
      "text/plain": [
       "Pipeline(steps=[('standard_scaler', StandardScaler()),\n",
       "                ('svc', SVC(C=0.001, gamma=5))])"
      ]
     },
     "execution_count": 15,
     "metadata": {},
     "output_type": "execute_result"
    }
   ],
   "source": [
    "%%time\n",
    "rksvc_model.fit(X, y)"
   ]
  },
  {
   "cell_type": "markdown",
   "id": "exposed-woman",
   "metadata": {},
   "source": [
    "## Generate <ins>linear</ins> data"
   ]
  },
  {
   "cell_type": "code",
   "execution_count": 16,
   "id": "rational-mixer",
   "metadata": {},
   "outputs": [],
   "source": [
    "m = 50\n",
    "\n",
    "X = 2 * np.random.rand(m, 1)\n",
    "y = (4 + 3 * X + np.random.randn(m, 1)).ravel()"
   ]
  },
  {
   "cell_type": "markdown",
   "id": "known-lotus",
   "metadata": {},
   "source": [
    "## Train <ins>linear svr</ins> model"
   ]
  },
  {
   "cell_type": "code",
   "execution_count": 17,
   "id": "independent-precipitation",
   "metadata": {},
   "outputs": [],
   "source": [
    "lsvr_model = LinearSVR(epsilon=1.5)"
   ]
  },
  {
   "cell_type": "code",
   "execution_count": 18,
   "id": "artistic-tomorrow",
   "metadata": {},
   "outputs": [
    {
     "name": "stdout",
     "output_type": "stream",
     "text": [
      "CPU times: user 198 µs, sys: 372 µs, total: 570 µs\n",
      "Wall time: 351 µs\n"
     ]
    },
    {
     "data": {
      "text/plain": [
       "LinearSVR(epsilon=1.5)"
      ]
     },
     "execution_count": 18,
     "metadata": {},
     "output_type": "execute_result"
    }
   ],
   "source": [
    "%%time\n",
    "lsvr_model.fit(X, y)"
   ]
  },
  {
   "cell_type": "markdown",
   "id": "alien-tyler",
   "metadata": {},
   "source": [
    "## Generate <ins>quadratic</ins> data"
   ]
  },
  {
   "cell_type": "code",
   "execution_count": 19,
   "id": "electrical-adolescent",
   "metadata": {},
   "outputs": [],
   "source": [
    "m = 100\n",
    "\n",
    "X = 2 * np.random.rand(m, 1) - 1\n",
    "y = (0.2 + 0.1 * X + 0.5 * X**2 + np.random.randn(m, 1)/10).ravel()"
   ]
  },
  {
   "cell_type": "markdown",
   "id": "finnish-sword",
   "metadata": {},
   "source": [
    "## Train <ins>polynomial kernel svr</ins> model"
   ]
  },
  {
   "cell_type": "code",
   "execution_count": 20,
   "id": "preliminary-donor",
   "metadata": {},
   "outputs": [],
   "source": [
    "psvr_model = SVR(kernel=\"poly\", degree=2, C=100, epsilon=0.1)"
   ]
  },
  {
   "cell_type": "code",
   "execution_count": 21,
   "id": "offensive-shower",
   "metadata": {
    "scrolled": true
   },
   "outputs": [
    {
     "name": "stdout",
     "output_type": "stream",
     "text": [
      "CPU times: user 8.25 ms, sys: 246 µs, total: 8.49 ms\n",
      "Wall time: 8.14 ms\n"
     ]
    },
    {
     "data": {
      "text/plain": [
       "SVR(C=100, degree=2, kernel='poly')"
      ]
     },
     "execution_count": 21,
     "metadata": {},
     "output_type": "execute_result"
    }
   ],
   "source": [
    "%%time\n",
    "psvr_model.fit(X, y)"
   ]
  },
  {
   "cell_type": "markdown",
   "id": "coated-possible",
   "metadata": {},
   "source": [
    "# Exercises"
   ]
  },
  {
   "cell_type": "markdown",
   "id": "outer-custom",
   "metadata": {},
   "source": [
    "1. What is the fundamental idea behind Support Vector Machines?"
   ]
  },
  {
   "cell_type": "markdown",
   "id": "passive-fraud",
   "metadata": {},
   "source": [
    "**Solution**\n",
    "\n",
    "The idea behind support vector machines is to have the widest street possible between the separate classes."
   ]
  },
  {
   "cell_type": "markdown",
   "id": "middle-turner",
   "metadata": {},
   "source": [
    "2. What is a support vector?"
   ]
  },
  {
   "cell_type": "markdown",
   "id": "satellite-nevada",
   "metadata": {},
   "source": [
    "**Solution**\n",
    "\n",
    "A support vector is an instance located on the street or on the border of the street. Any instance that is no support vector has no influence on the model."
   ]
  },
  {
   "cell_type": "markdown",
   "id": "nutritional-watts",
   "metadata": {},
   "source": [
    "3. Why is it important to scale the inputs when using SVMs?"
   ]
  },
  {
   "cell_type": "markdown",
   "id": "friendly-import",
   "metadata": {},
   "source": [
    "**Solution**\n",
    "\n",
    "Because SVM will try to fit the largest street possible, if the inputs are not scaled SVM's will neglect smaller features."
   ]
  },
  {
   "cell_type": "markdown",
   "id": "starting-mailing",
   "metadata": {},
   "source": [
    "4. Can an SVM classifier output a confidence score when it classifies an instance? What about a probability?"
   ]
  },
  {
   "cell_type": "markdown",
   "id": "stylish-cologne",
   "metadata": {},
   "source": [
    "**Solution**\n",
    "\n",
    "An SVM can compute the distance between an instance and the decision boundary (confidence score), but it cannot use this score as a probability."
   ]
  },
  {
   "cell_type": "markdown",
   "id": "modular-routine",
   "metadata": {},
   "source": [
    "5. Should you use the primal or the dual form of the SVM problem to train a model on a training set with millions of instances and hundreds of features?"
   ]
  },
  {
   "cell_type": "markdown",
   "id": "compressed-walter",
   "metadata": {},
   "source": [
    "**Solution**\n",
    "\n",
    "If the training set contains millionis of instances and hundereds of features you should use the primal form."
   ]
  },
  {
   "cell_type": "markdown",
   "id": "congressional-logistics",
   "metadata": {},
   "source": [
    "6. Say you trained an SVM classifier with an RBF kernel. It seems to underfit the training set: should you increase or decrease γ (gamma)? What about C?"
   ]
  },
  {
   "cell_type": "markdown",
   "id": "noticed-wyoming",
   "metadata": {},
   "source": [
    "**Solution**\n",
    "\n",
    "If the model underfits the training set, you should increase $\\gamma$ (gamma) or C."
   ]
  },
  {
   "cell_type": "markdown",
   "id": "impressed-nitrogen",
   "metadata": {},
   "source": [
    "7. Train a LinearSVC on a linearly separable dataset. Then train an SVC and a SGDClassifier on the same dataset. See if you can get them to produce roughly the same model."
   ]
  },
  {
   "cell_type": "markdown",
   "id": "wound-station",
   "metadata": {},
   "source": [
    "**Solution**"
   ]
  },
  {
   "cell_type": "markdown",
   "id": "fluid-lawsuit",
   "metadata": {},
   "source": [
    "### Load"
   ]
  },
  {
   "cell_type": "code",
   "execution_count": 22,
   "id": "major-candidate",
   "metadata": {},
   "outputs": [],
   "source": [
    "iris = load_iris()"
   ]
  },
  {
   "cell_type": "code",
   "execution_count": 23,
   "id": "weighted-anime",
   "metadata": {},
   "outputs": [],
   "source": [
    "X, y = iris[\"data\"][:, (2, 3)], iris[\"target\"]"
   ]
  },
  {
   "cell_type": "code",
   "execution_count": 24,
   "id": "bright-space",
   "metadata": {},
   "outputs": [],
   "source": [
    "X, y = X[(y == 0) | (y == 1)], y[(y == 0) | (y == 1)]"
   ]
  },
  {
   "cell_type": "markdown",
   "id": "amended-draft",
   "metadata": {},
   "source": [
    "### Prepare"
   ]
  },
  {
   "cell_type": "code",
   "execution_count": 25,
   "id": "above-wednesday",
   "metadata": {},
   "outputs": [],
   "source": [
    "standard_scaler = StandardScaler()"
   ]
  },
  {
   "cell_type": "code",
   "execution_count": 26,
   "id": "violent-sound",
   "metadata": {},
   "outputs": [
    {
     "name": "stdout",
     "output_type": "stream",
     "text": [
      "CPU times: user 162 µs, sys: 300 µs, total: 462 µs\n",
      "Wall time: 426 µs\n"
     ]
    }
   ],
   "source": [
    "%%time\n",
    "X_scaled = standard_scaler.fit_transform(X)"
   ]
  },
  {
   "cell_type": "markdown",
   "id": "dress-attraction",
   "metadata": {},
   "source": [
    "### Train"
   ]
  },
  {
   "cell_type": "code",
   "execution_count": 27,
   "id": "tight-perry",
   "metadata": {},
   "outputs": [],
   "source": [
    "C = 5\n",
    "alpha = 1 / (C * len(X))"
   ]
  },
  {
   "cell_type": "code",
   "execution_count": 28,
   "id": "suspended-income",
   "metadata": {},
   "outputs": [],
   "source": [
    "lsvc_model = LinearSVC(loss=\"hinge\", C=C, random_state=RANDOM_SEED)\n",
    "svc_model = SVC(kernel=\"linear\", C=C, random_state=RANDOM_SEED)\n",
    "sgd_model = SGDClassifier(loss=\"hinge\", learning_rate=\"constant\", eta0=0.001, alpha=alpha, random_state=RANDOM_SEED)"
   ]
  },
  {
   "cell_type": "code",
   "execution_count": 29,
   "id": "expressed-scott",
   "metadata": {},
   "outputs": [
    {
     "name": "stdout",
     "output_type": "stream",
     "text": [
      "CPU times: user 230 µs, sys: 419 µs, total: 649 µs\n",
      "Wall time: 546 µs\n"
     ]
    },
    {
     "data": {
      "text/plain": [
       "LinearSVC(C=5, loss='hinge', random_state=42)"
      ]
     },
     "execution_count": 29,
     "metadata": {},
     "output_type": "execute_result"
    }
   ],
   "source": [
    "%%time\n",
    "lsvc_model.fit(X_scaled, y)"
   ]
  },
  {
   "cell_type": "code",
   "execution_count": 30,
   "id": "tracked-breathing",
   "metadata": {},
   "outputs": [
    {
     "name": "stdout",
     "output_type": "stream",
     "text": [
      "CPU times: user 698 µs, sys: 216 µs, total: 914 µs\n",
      "Wall time: 647 µs\n"
     ]
    },
    {
     "data": {
      "text/plain": [
       "SVC(C=5, kernel='linear', random_state=42)"
      ]
     },
     "execution_count": 30,
     "metadata": {},
     "output_type": "execute_result"
    }
   ],
   "source": [
    "%%time\n",
    "svc_model.fit(X_scaled, y)"
   ]
  },
  {
   "cell_type": "code",
   "execution_count": 31,
   "id": "packed-columbia",
   "metadata": {},
   "outputs": [
    {
     "name": "stdout",
     "output_type": "stream",
     "text": [
      "CPU times: user 373 µs, sys: 677 µs, total: 1.05 ms\n",
      "Wall time: 759 µs\n"
     ]
    },
    {
     "data": {
      "text/plain": [
       "SGDClassifier(alpha=0.002, eta0=0.001, learning_rate='constant',\n",
       "              random_state=42)"
      ]
     },
     "execution_count": 31,
     "metadata": {},
     "output_type": "execute_result"
    }
   ],
   "source": [
    "%%time\n",
    "sgd_model.fit(X_scaled, y)"
   ]
  },
  {
   "cell_type": "markdown",
   "id": "loose-referral",
   "metadata": {},
   "source": [
    "### Evaluate"
   ]
  },
  {
   "cell_type": "code",
   "execution_count": 32,
   "id": "refined-spider",
   "metadata": {},
   "outputs": [
    {
     "data": {
      "text/plain": [
       "(array([0.28475098]), array([[1.05364854, 1.09903804]]))"
      ]
     },
     "execution_count": 32,
     "metadata": {},
     "output_type": "execute_result"
    }
   ],
   "source": [
    "lsvc_model.intercept_, lsvc_model.coef_"
   ]
  },
  {
   "cell_type": "code",
   "execution_count": 33,
   "id": "wound-rover",
   "metadata": {},
   "outputs": [
    {
     "data": {
      "text/plain": [
       "(array([0.31896852]), array([[1.1203284 , 1.02625193]]))"
      ]
     },
     "execution_count": 33,
     "metadata": {},
     "output_type": "execute_result"
    }
   ],
   "source": [
    "svc_model.intercept_, svc_model.coef_"
   ]
  },
  {
   "cell_type": "code",
   "execution_count": 34,
   "id": "crude-assist",
   "metadata": {},
   "outputs": [
    {
     "data": {
      "text/plain": [
       "(array([0.117]), array([[0.77714169, 0.72981762]]))"
      ]
     },
     "execution_count": 34,
     "metadata": {},
     "output_type": "execute_result"
    }
   ],
   "source": [
    "sgd_model.intercept_, sgd_model.coef_"
   ]
  },
  {
   "cell_type": "markdown",
   "id": "better-cartridge",
   "metadata": {},
   "source": [
    "8. Train an SVM classifier on the MNIST dataset. Since SVM classifiers are binary classifiers, you will need to use one-versus-all to classify all 10 digits. You may want to tune the hyperparameters using small validation sets to speed up the process. What accuracy can you reach?"
   ]
  },
  {
   "cell_type": "markdown",
   "id": "insured-inquiry",
   "metadata": {},
   "source": [
    "**Solution**"
   ]
  },
  {
   "cell_type": "markdown",
   "id": "detailed-royal",
   "metadata": {},
   "source": [
    "### Load"
   ]
  },
  {
   "cell_type": "code",
   "execution_count": 35,
   "id": "available-execution",
   "metadata": {},
   "outputs": [],
   "source": [
    "mnist = fetch_openml(MNIST_DATA_NAME, version=MNIST_DATA_VERSION, as_frame=False)"
   ]
  },
  {
   "cell_type": "code",
   "execution_count": 36,
   "id": "daily-deputy",
   "metadata": {},
   "outputs": [],
   "source": [
    "X, y = mnist[\"data\"], mnist[\"target\"]"
   ]
  },
  {
   "cell_type": "markdown",
   "id": "internal-inspector",
   "metadata": {},
   "source": [
    "### Split"
   ]
  },
  {
   "cell_type": "code",
   "execution_count": 37,
   "id": "bound-mentor",
   "metadata": {},
   "outputs": [],
   "source": [
    "X_train, X_test, y_train, y_test = X[:60000], X[60000:], y[:60000], y[60000:]"
   ]
  },
  {
   "cell_type": "markdown",
   "id": "arabic-investigator",
   "metadata": {},
   "source": [
    "### Prepare"
   ]
  },
  {
   "cell_type": "code",
   "execution_count": 38,
   "id": "amino-administration",
   "metadata": {},
   "outputs": [],
   "source": [
    "standard_scaler = StandardScaler()"
   ]
  },
  {
   "cell_type": "code",
   "execution_count": 39,
   "id": "labeled-relay",
   "metadata": {},
   "outputs": [
    {
     "name": "stdout",
     "output_type": "stream",
     "text": [
      "CPU times: user 466 ms, sys: 64.2 ms, total: 530 ms\n",
      "Wall time: 530 ms\n"
     ]
    }
   ],
   "source": [
    "%%time\n",
    "X_train_scaled = standard_scaler.fit_transform(X_train.astype(np.float32))"
   ]
  },
  {
   "cell_type": "code",
   "execution_count": 40,
   "id": "eastern-constitutional",
   "metadata": {},
   "outputs": [
    {
     "name": "stdout",
     "output_type": "stream",
     "text": [
      "CPU times: user 98.6 ms, sys: 0 ns, total: 98.6 ms\n",
      "Wall time: 97.4 ms\n"
     ]
    }
   ],
   "source": [
    "%%time\n",
    "X_test_scaled = standard_scaler.fit_transform(X_test.astype(np.float32))"
   ]
  },
  {
   "cell_type": "markdown",
   "id": "spectacular-presence",
   "metadata": {},
   "source": [
    "### Train"
   ]
  },
  {
   "cell_type": "code",
   "execution_count": 41,
   "id": "novel-space",
   "metadata": {},
   "outputs": [],
   "source": [
    "parameters = {\n",
    "    \"gamma\": reciprocal(0.001, 0.1),\n",
    "    \"C\": uniform(1, 10),\n",
    "}"
   ]
  },
  {
   "cell_type": "code",
   "execution_count": 42,
   "id": "every-summit",
   "metadata": {},
   "outputs": [],
   "source": [
    "randomized_search = RandomizedSearchCV(\n",
    "    SVC(random_state=RANDOM_SEED),\n",
    "    parameters,\n",
    "    n_iter=10 ,\n",
    "    cv=3,\n",
    "    n_jobs=JOB_COUNT,\n",
    ")"
   ]
  },
  {
   "cell_type": "code",
   "execution_count": 43,
   "id": "everyday-cross",
   "metadata": {},
   "outputs": [
    {
     "name": "stdout",
     "output_type": "stream",
     "text": [
      "CPU times: user 232 ms, sys: 17.9 ms, total: 250 ms\n",
      "Wall time: 2.8 s\n"
     ]
    },
    {
     "data": {
      "text/plain": [
       "RandomizedSearchCV(cv=3, estimator=SVC(random_state=42), n_jobs=3,\n",
       "                   param_distributions={'C': <scipy.stats._distn_infrastructure.rv_frozen object at 0x7f9472ad6970>,\n",
       "                                        'gamma': <scipy.stats._distn_infrastructure.rv_frozen object at 0x7f9472ad68e0>})"
      ]
     },
     "execution_count": 43,
     "metadata": {},
     "output_type": "execute_result"
    }
   ],
   "source": [
    "%%time\n",
    "randomized_search.fit(X_train_scaled[:1000], y_train[:1000])"
   ]
  },
  {
   "cell_type": "code",
   "execution_count": 44,
   "id": "helpful-daisy",
   "metadata": {},
   "outputs": [
    {
     "name": "stdout",
     "output_type": "stream",
     "text": [
      "CPU times: user 3min 25s, sys: 288 ms, total: 3min 25s\n",
      "Wall time: 3min 25s\n"
     ]
    },
    {
     "data": {
      "text/plain": [
       "SVC(C=7.830067734163569, gamma=0.0013879611079315789, random_state=42)"
      ]
     },
     "execution_count": 44,
     "metadata": {},
     "output_type": "execute_result"
    }
   ],
   "source": [
    "%%time\n",
    "randomized_search.best_estimator_.fit(X_train_scaled, y_train)"
   ]
  },
  {
   "cell_type": "markdown",
   "id": "loaded-concentration",
   "metadata": {},
   "source": [
    "## Evaluate"
   ]
  },
  {
   "cell_type": "code",
   "execution_count": 45,
   "id": "fancy-beast",
   "metadata": {},
   "outputs": [
    {
     "name": "stdout",
     "output_type": "stream",
     "text": [
      "CPU times: user 1min 14s, sys: 7.52 ms, total: 1min 14s\n",
      "Wall time: 1min 14s\n"
     ]
    }
   ],
   "source": [
    "%%time\n",
    "y_test_predictions = randomized_search.best_estimator_.predict(X_test_scaled)"
   ]
  },
  {
   "cell_type": "code",
   "execution_count": 46,
   "id": "unlike-fever",
   "metadata": {},
   "outputs": [
    {
     "data": {
      "text/plain": [
       "0.972"
      ]
     },
     "execution_count": 46,
     "metadata": {},
     "output_type": "execute_result"
    }
   ],
   "source": [
    "accuracy_score(y_test, y_test_predictions)"
   ]
  }
 ],
 "metadata": {
  "kernelspec": {
   "display_name": "Python 3",
   "language": "python",
   "name": "python3"
  },
  "language_info": {
   "codemirror_mode": {
    "name": "ipython",
    "version": 3
   },
   "file_extension": ".py",
   "mimetype": "text/x-python",
   "name": "python",
   "nbconvert_exporter": "python",
   "pygments_lexer": "ipython3",
   "version": "3.8.5"
  }
 },
 "nbformat": 4,
 "nbformat_minor": 5
}
