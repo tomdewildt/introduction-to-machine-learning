{
 "cells": [
  {
   "cell_type": "markdown",
   "id": "legitimate-protein",
   "metadata": {},
   "source": [
    "# Chapter 1: Life Satisfaction\n",
    "\n",
    "This notebook contains the code for chapter 1 of the Hands-on Machine Learning with Scikit-Learn, Keras & Tensorflow book."
   ]
  },
  {
   "cell_type": "code",
   "execution_count": 1,
   "id": "broken-concentration",
   "metadata": {},
   "outputs": [],
   "source": [
    "from sklearn.linear_model import LinearRegression\n",
    "from sklearn.neighbors import KNeighborsRegressor\n",
    "\n",
    "import matplotlib.pyplot as plt\n",
    "import pandas as pd\n",
    "import numpy as np"
   ]
  },
  {
   "cell_type": "markdown",
   "id": "acoustic-groove",
   "metadata": {},
   "source": [
    "## Global configuration"
   ]
  },
  {
   "cell_type": "code",
   "execution_count": 2,
   "id": "horizontal-graduate",
   "metadata": {},
   "outputs": [],
   "source": [
    "BASE_PATH = \"../data/\"\n",
    "BETTER_LIFE_INDEX_DATA_FILE = BASE_PATH + \"oecd_bli_2015.csv\"\n",
    "GDP_PER_CAPITA_DATA_FILE = BASE_PATH + \"gdp_per_capita.csv\"\n",
    "\n",
    "RANDOM_SEED = 42"
   ]
  },
  {
   "cell_type": "code",
   "execution_count": 3,
   "id": "considerable-blind",
   "metadata": {},
   "outputs": [],
   "source": [
    "np.random.seed(RANDOM_SEED)"
   ]
  },
  {
   "cell_type": "markdown",
   "id": "stock-accountability",
   "metadata": {},
   "source": [
    "## Load data"
   ]
  },
  {
   "cell_type": "code",
   "execution_count": 4,
   "id": "toxic-lebanon",
   "metadata": {},
   "outputs": [],
   "source": [
    "oecd_bli = pd.read_csv(BETTER_LIFE_INDEX_DATA_FILE, thousands=',')"
   ]
  },
  {
   "cell_type": "code",
   "execution_count": 5,
   "id": "hearing-dublin",
   "metadata": {},
   "outputs": [],
   "source": [
    "gdp_per_capita = pd.read_csv(\n",
    "    GDP_PER_CAPITA_DATA_FILE,\n",
    "    thousands=',',\n",
    "    delimiter='\\t',\n",
    "    encoding='latin1',\n",
    "    na_values=\"n/a\",\n",
    ")"
   ]
  },
  {
   "cell_type": "markdown",
   "id": "durable-frost",
   "metadata": {},
   "source": [
    "## Prepare data"
   ]
  },
  {
   "cell_type": "code",
   "execution_count": 6,
   "id": "immune-fireplace",
   "metadata": {},
   "outputs": [],
   "source": [
    "def prepare_life_satisfaction_data(oecd_bli, gdp_per_capita):\n",
    "    oecd_bli = oecd_bli[oecd_bli[\"INEQUALITY\"]==\"TOT\"]\n",
    "    oecd_bli = oecd_bli.pivot(index=\"Country\", columns=\"Indicator\", values=\"Value\")\n",
    "    \n",
    "    gdp_per_capita.rename(columns={\"2015\": \"GDP per capita\"}, inplace=True)\n",
    "    gdp_per_capita.set_index(\"Country\", inplace=True)\n",
    "    \n",
    "    full_country_stats = pd.merge(left=oecd_bli, right=gdp_per_capita, left_index=True, right_index=True)\n",
    "    full_country_stats.sort_values(by=\"GDP per capita\", inplace=True)\n",
    "    \n",
    "    remove_indices = [0, 1, 6, 8, 33, 34, 35]\n",
    "    keep_indices = list(set(range(36)) - set(remove_indices))\n",
    "    \n",
    "    return full_country_stats[[\"GDP per capita\", 'Life satisfaction']].iloc[keep_indices]"
   ]
  },
  {
   "cell_type": "code",
   "execution_count": 7,
   "id": "stopped-announcement",
   "metadata": {},
   "outputs": [],
   "source": [
    "life_satisfaction = prepare_life_satisfaction_data(oecd_bli, gdp_per_capita)"
   ]
  },
  {
   "cell_type": "code",
   "execution_count": 8,
   "id": "dominican-damage",
   "metadata": {},
   "outputs": [],
   "source": [
    "X = np.c_[life_satisfaction[\"GDP per capita\"]]\n",
    "y = np.c_[life_satisfaction[\"Life satisfaction\"]]"
   ]
  },
  {
   "cell_type": "markdown",
   "id": "inappropriate-archive",
   "metadata": {},
   "source": [
    "## Vizualize data"
   ]
  },
  {
   "cell_type": "code",
   "execution_count": 9,
   "id": "bottom-eugene",
   "metadata": {
    "scrolled": true
   },
   "outputs": [
    {
     "data": {
      "text/plain": [
       "<AxesSubplot:xlabel='GDP per capita', ylabel='Life satisfaction'>"
      ]
     },
     "execution_count": 9,
     "metadata": {},
     "output_type": "execute_result"
    },
    {
     "data": {
      "image/png": "[encoded data removed]",
      "text/plain": [
       "<Figure size 432x288 with 1 Axes>"
      ]
     },
     "metadata": {
      "needs_background": "light"
     },
     "output_type": "display_data"
    }
   ],
   "source": [
    "life_satisfaction.plot(kind='scatter', x=\"GDP per capita\", y='Life satisfaction')"
   ]
  },
  {
   "cell_type": "markdown",
   "id": "coupled-falls",
   "metadata": {},
   "source": [
    "## Train <ins>linear regression</ins> model"
   ]
  },
  {
   "cell_type": "code",
   "execution_count": 10,
   "id": "changing-nickel",
   "metadata": {},
   "outputs": [],
   "source": [
    "lr_model = LinearRegression()"
   ]
  },
  {
   "cell_type": "code",
   "execution_count": 11,
   "id": "fitted-explorer",
   "metadata": {},
   "outputs": [
    {
     "name": "stdout",
     "output_type": "stream",
     "text": [
      "CPU times: user 236 µs, sys: 418 µs, total: 654 µs\n",
      "Wall time: 551 µs\n"
     ]
    }
   ],
   "source": [
    "%%time\n",
    "lr_model = lr_model.fit(X, y)"
   ]
  },
  {
   "cell_type": "markdown",
   "id": "white-probability",
   "metadata": {},
   "source": [
    "## Predict <ins>linear regression</ins>"
   ]
  },
  {
   "cell_type": "code",
   "execution_count": 12,
   "id": "printable-thumbnail",
   "metadata": {},
   "outputs": [
    {
     "data": {
      "text/plain": [
       "array([[5.96242338]])"
      ]
     },
     "execution_count": 12,
     "metadata": {},
     "output_type": "execute_result"
    }
   ],
   "source": [
    "lr_model.predict([[22587]])"
   ]
  },
  {
   "cell_type": "markdown",
   "id": "equivalent-blackberry",
   "metadata": {},
   "source": [
    "## Train <ins>k nearest neighbors</ins> model"
   ]
  },
  {
   "cell_type": "code",
   "execution_count": 13,
   "id": "under-procedure",
   "metadata": {},
   "outputs": [],
   "source": [
    "knn_model = KNeighborsRegressor(n_neighbors=3)"
   ]
  },
  {
   "cell_type": "code",
   "execution_count": 14,
   "id": "global-shelter",
   "metadata": {},
   "outputs": [
    {
     "name": "stdout",
     "output_type": "stream",
     "text": [
      "CPU times: user 160 µs, sys: 283 µs, total: 443 µs\n",
      "Wall time: 355 µs\n"
     ]
    }
   ],
   "source": [
    "%%time\n",
    "knn_model = knn_model.fit(X, y)"
   ]
  },
  {
   "cell_type": "markdown",
   "id": "chubby-newcastle",
   "metadata": {},
   "source": [
    "## Predict <ins>k nearest neighbors</ins>"
   ]
  },
  {
   "cell_type": "code",
   "execution_count": 15,
   "id": "bound-comment",
   "metadata": {},
   "outputs": [
    {
     "data": {
      "text/plain": [
       "array([[5.76666667]])"
      ]
     },
     "execution_count": 15,
     "metadata": {},
     "output_type": "execute_result"
    }
   ],
   "source": [
    "knn_model.predict([[22587]])"
   ]
  },
  {
   "cell_type": "markdown",
   "id": "opposite-chicago",
   "metadata": {},
   "source": [
    "# Exercises"
   ]
  },
  {
   "cell_type": "markdown",
   "id": "billion-spectacular",
   "metadata": {},
   "source": [
    "1. How would you define Machine Learning?"
   ]
  },
  {
   "cell_type": "markdown",
   "id": "current-rider",
   "metadata": {},
   "source": [
    "**Solution**\n",
    "\n",
    "Machine learning is giving a computer the ability to learn without the need for it to be explicitly programmed."
   ]
  },
  {
   "cell_type": "markdown",
   "id": "unnecessary-willow",
   "metadata": {},
   "source": [
    "2. Can you name four types of problems where it shines?"
   ]
  },
  {
   "cell_type": "markdown",
   "id": "regulation-uncle",
   "metadata": {},
   "source": [
    "**Solution**\n",
    "\n",
    "1. Problems that require a lot of hand-tuning.\n",
    "2. Complex problems that cannot be solved with traditional methods.\n",
    "3. Fluctuating environments.\n",
    "4. Insights about large amounts of data."
   ]
  },
  {
   "cell_type": "markdown",
   "id": "subtle-registration",
   "metadata": {},
   "source": [
    "3. What is a labeled training set?"
   ]
  },
  {
   "cell_type": "markdown",
   "id": "acknowledged-framework",
   "metadata": {},
   "source": [
    "**Solution**\n",
    "\n",
    "A dataset or part of a dataset that is used to train a supervised machine learning model. The dataset contains the value that the model needs to predict and a set of extra features used to predict this value."
   ]
  },
  {
   "cell_type": "markdown",
   "id": "sitting-uruguay",
   "metadata": {},
   "source": [
    "4. What are the two most common supervised tasks?"
   ]
  },
  {
   "cell_type": "markdown",
   "id": "external-breathing",
   "metadata": {},
   "source": [
    "**Solution**\n",
    "\n",
    "1. Classification.\n",
    "2. Regression."
   ]
  },
  {
   "cell_type": "markdown",
   "id": "short-marketplace",
   "metadata": {},
   "source": [
    "5. Can you name four common unsupervised tasks?"
   ]
  },
  {
   "cell_type": "markdown",
   "id": "marine-worth",
   "metadata": {},
   "source": [
    "**Solution**\n",
    "\n",
    "1. Clustering.\n",
    "2. Anomaly & novelty dection.\n",
    "3. Visualization & dimension reduction.\n",
    "4. Association rule learning."
   ]
  },
  {
   "cell_type": "markdown",
   "id": "bridal-permission",
   "metadata": {},
   "source": [
    "6. What type of Machine Learning algorithm would you use to allow a robot to walk in various unknown terrains?"
   ]
  },
  {
   "cell_type": "markdown",
   "id": "breeding-elder",
   "metadata": {},
   "source": [
    "**Solution**\n",
    "\n",
    "Reinforcement Learning."
   ]
  },
  {
   "cell_type": "markdown",
   "id": "italian-vegetable",
   "metadata": {},
   "source": [
    "7. What type of algorithm would you use to segment your customers into multiple groups?"
   ]
  },
  {
   "cell_type": "markdown",
   "id": "undefined-gossip",
   "metadata": {},
   "source": [
    "**Solution**\n",
    "\n",
    "Clustering."
   ]
  },
  {
   "cell_type": "markdown",
   "id": "taken-western",
   "metadata": {},
   "source": [
    "8. Would you frame the problem of spam detection as a supervised learning problem or an unsupervised learning problem?"
   ]
  },
  {
   "cell_type": "markdown",
   "id": "alleged-tanzania",
   "metadata": {},
   "source": [
    "**Solution**\n",
    "\n",
    "Supervised."
   ]
  },
  {
   "cell_type": "markdown",
   "id": "assisted-administration",
   "metadata": {},
   "source": [
    "9. What is an online learning system?"
   ]
  },
  {
   "cell_type": "markdown",
   "id": "piano-duration",
   "metadata": {},
   "source": [
    "**Solution**\n",
    "\n",
    "An online learning system is a system where a machine learning model is continuously trained on new data."
   ]
  },
  {
   "cell_type": "markdown",
   "id": "delayed-latest",
   "metadata": {},
   "source": [
    "10. What is out-of-core learning?"
   ]
  },
  {
   "cell_type": "markdown",
   "id": "proprietary-reduction",
   "metadata": {},
   "source": [
    "**Solution**\n",
    "\n",
    "Out-of-core learning is the process of training a machine leraning model is trained in batches, usually because the training data is too large to fit in memory."
   ]
  },
  {
   "cell_type": "markdown",
   "id": "parliamentary-christopher",
   "metadata": {},
   "source": [
    "11. What type of learning algorithm relies on a similarity measure to make predictions?"
   ]
  },
  {
   "cell_type": "markdown",
   "id": "approximate-democrat",
   "metadata": {},
   "source": [
    "**Solution**\n",
    "\n",
    "An instance-based algorithm."
   ]
  },
  {
   "cell_type": "markdown",
   "id": "fewer-florence",
   "metadata": {},
   "source": [
    "12. What is the difference between a model parameter and a learning algorithm’s hyperparameter?"
   ]
  },
  {
   "cell_type": "markdown",
   "id": "valuable-integration",
   "metadata": {},
   "source": [
    "**Solution**\n",
    "\n",
    "A model parameter changes when a model is trained, a hyperparameter is set to a fixed value before training."
   ]
  },
  {
   "cell_type": "markdown",
   "id": "reverse-animation",
   "metadata": {},
   "source": [
    "13. What do model-based learning algorithms search for? What is the most common strategy they use to succeed? How do they make predictions?"
   ]
  },
  {
   "cell_type": "markdown",
   "id": "working-protocol",
   "metadata": {},
   "source": [
    "**Solution**\n",
    "\n",
    "Model-based learning algorithms search for patterns in the data and correlations between various attributes of the data.\n",
    "\n",
    "The most common strategy model-based algorithms use to succeed is:\n",
    "\n",
    "1. Study data.\n",
    "2. Select model.\n",
    "3. Train model & find parameters that minimize the the cost function.\n",
    "4. Apply model to new data.\n",
    "\n",
    "Predictions are made by passing input data to the model, then a prediction is made based on this data and the model parameters."
   ]
  },
  {
   "cell_type": "markdown",
   "id": "underlying-handle",
   "metadata": {},
   "source": [
    "14. Can you name four of the main challenges in Machine Learning?"
   ]
  },
  {
   "cell_type": "markdown",
   "id": "studied-porcelain",
   "metadata": {},
   "source": [
    "**Solution**\n",
    "\n",
    "1. Insufficient quantity of data.\n",
    "2. Non representative data.\n",
    "3. Poor data quality.\n",
    "4. Irrelevant features."
   ]
  },
  {
   "cell_type": "markdown",
   "id": "southeast-winning",
   "metadata": {},
   "source": [
    "15. If your model performs great on the training data but generalizes poorly to new instances, what is happening? Can you name three possible solutions?"
   ]
  },
  {
   "cell_type": "markdown",
   "id": "greatest-flooring",
   "metadata": {},
   "source": [
    "**Solution**\n",
    "\n",
    "Then the model is overfitting, this problem can be solved by:\n",
    "\n",
    "1. Selecting a simpler model, reducing the attributes in the training data or constraining the model\n",
    "2. Collect more training data\n",
    "3. Reduce noise in training data"
   ]
  },
  {
   "cell_type": "markdown",
   "id": "dominican-retailer",
   "metadata": {},
   "source": [
    "16. What is a test set and why would you want to use it?"
   ]
  },
  {
   "cell_type": "markdown",
   "id": "peaceful-massage",
   "metadata": {},
   "source": [
    "**Solution**\n",
    "\n",
    "A test set is a subset of the dataset that isn't used to train the model. The test is used to evaluate the model on data it has never seen before after it is trained and optimized."
   ]
  },
  {
   "cell_type": "markdown",
   "id": "catholic-sydney",
   "metadata": {},
   "source": [
    "17. What is the purpose of a validation set?"
   ]
  },
  {
   "cell_type": "markdown",
   "id": "stretch-share",
   "metadata": {},
   "source": [
    "**Solution**\n",
    "\n",
    "A validation set is a subset of the training set that is used optimize the model (e.g. trying out different hyperparameters or testing different learning algorithms) or evaluate multiple model to select the best one."
   ]
  },
  {
   "cell_type": "markdown",
   "id": "controversial-elements",
   "metadata": {},
   "source": [
    "18. What can go wrong if you tune hyperparameters using the test set?"
   ]
  },
  {
   "cell_type": "markdown",
   "id": "hired-ethernet",
   "metadata": {},
   "source": [
    "**Solution**\n",
    "\n",
    "If you tune the hyperparameters using the test set the model will be optimized only for that particular set. So it will not generalize well to new data."
   ]
  },
  {
   "cell_type": "markdown",
   "id": "interested-picnic",
   "metadata": {},
   "source": [
    "19. What is repeated cross-validation and why would you prefer it to using a single validation set?"
   ]
  },
  {
   "cell_type": "markdown",
   "id": "extreme-bunny",
   "metadata": {},
   "source": [
    "**Solution**\n",
    "\n",
    "Repeated cross-validation is the process of splitting up the validation set into $n$ groups, then each model is trained on all data minus one validation set that is used to evaluate the model.\n",
    "\n",
    "By using a single validation set you run the risk of the model becoming optimized for only one validation set so it will not generalize well to new data. Therefore it is prefered to use repeated cross-validation."
   ]
  }
 ],
 "metadata": {
  "kernelspec": {
   "display_name": "Python 3",
   "language": "python",
   "name": "python3"
  },
  "language_info": {
   "codemirror_mode": {
    "name": "ipython",
    "version": 3
   },
   "file_extension": ".py",
   "mimetype": "text/x-python",
   "name": "python",
   "nbconvert_exporter": "python",
   "pygments_lexer": "ipython3",
   "version": "3.8.5"
  }
 },
 "nbformat": 4,
 "nbformat_minor": 5
}
