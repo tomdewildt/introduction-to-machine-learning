{
 "cells": [
  {
   "cell_type": "markdown",
   "id": "occupied-moore",
   "metadata": {},
   "source": [
    "# Chapter 4: Generated Data & Iris\n",
    "\n",
    "This notebook contains the code for chapter 4 of the Hands-on Machine Learning with Scikit-Learn, Keras & Tensorflow book."
   ]
  },
  {
   "cell_type": "code",
   "execution_count": 1,
   "id": "lucky-command",
   "metadata": {},
   "outputs": [],
   "source": [
    "from sklearn.linear_model import ElasticNet, Lasso, LinearRegression, LogisticRegression, Ridge, SGDRegressor\n",
    "from sklearn.preprocessing import PolynomialFeatures, StandardScaler\n",
    "from sklearn.model_selection import train_test_split\n",
    "from sklearn.metrics import mean_squared_error\n",
    "from sklearn.pipeline import Pipeline\n",
    "from sklearn.base import clone\n",
    "from sklearn import datasets\n",
    "\n",
    "import matplotlib.pyplot as plt\n",
    "import numpy as np"
   ]
  },
  {
   "cell_type": "markdown",
   "id": "express-dancing",
   "metadata": {},
   "source": [
    "## Global configuration"
   ]
  },
  {
   "cell_type": "code",
   "execution_count": 2,
   "id": "ethical-clark",
   "metadata": {},
   "outputs": [],
   "source": [
    "RANDOM_SEED = 42"
   ]
  },
  {
   "cell_type": "code",
   "execution_count": 3,
   "id": "lesser-current",
   "metadata": {},
   "outputs": [],
   "source": [
    "np.random.seed(RANDOM_SEED)"
   ]
  },
  {
   "cell_type": "markdown",
   "id": "animal-deficit",
   "metadata": {},
   "source": [
    "## Generate <ins>linear</ins> data"
   ]
  },
  {
   "cell_type": "code",
   "execution_count": 4,
   "id": "demanding-privilege",
   "metadata": {
    "scrolled": true
   },
   "outputs": [
    {
     "data": {
      "text/plain": [
       "(array([[0.74908024],\n",
       "        [1.90142861],\n",
       "        [1.46398788],\n",
       "        [1.19731697],\n",
       "        [0.31203728]]),\n",
       " array([[6.33428778],\n",
       "        [9.40527849],\n",
       "        [8.48372443],\n",
       "        [5.60438199],\n",
       "        [4.71643995]]))"
      ]
     },
     "execution_count": 4,
     "metadata": {},
     "output_type": "execute_result"
    }
   ],
   "source": [
    "X = 2 * np.random.rand(100, 1)\n",
    "y = 4 + 3 * X + np.random.randn(100, 1)\n",
    "\n",
    "X[:5], y[:5]"
   ]
  },
  {
   "cell_type": "markdown",
   "id": "simple-listing",
   "metadata": {},
   "source": [
    "## Train <ins>linear regression</ins> model (normal equation inverse)\n",
    "\n",
    "Compute the value that minimizes the cost function ($\\hat\\theta$) using the normal equation."
   ]
  },
  {
   "cell_type": "code",
   "execution_count": 5,
   "id": "falling-faculty",
   "metadata": {},
   "outputs": [
    {
     "data": {
      "text/plain": [
       "array([[1.        , 0.74908024],\n",
       "       [1.        , 1.90142861],\n",
       "       [1.        , 1.46398788],\n",
       "       [1.        , 1.19731697],\n",
       "       [1.        , 0.31203728]])"
      ]
     },
     "execution_count": 5,
     "metadata": {},
     "output_type": "execute_result"
    }
   ],
   "source": [
    "# Add X_0 = 1 to each instance (bias)\n",
    "X_bias = np.c_[np.ones((100, 1)), X]\n",
    "X_bias[:5]"
   ]
  },
  {
   "cell_type": "code",
   "execution_count": 6,
   "id": "turkish-electron",
   "metadata": {},
   "outputs": [
    {
     "name": "stdout",
     "output_type": "stream",
     "text": [
      "CPU times: user 499 µs, sys: 820 µs, total: 1.32 ms\n",
      "Wall time: 2.17 ms\n"
     ]
    },
    {
     "data": {
      "text/plain": [
       "array([[4.21509616],\n",
       "       [2.77011339]])"
      ]
     },
     "execution_count": 6,
     "metadata": {},
     "output_type": "execute_result"
    }
   ],
   "source": [
    "%%time\n",
    "theta = np.linalg.inv(X_bias.T.dot(X_bias)).dot(X_bias.T).dot(y)\n",
    "theta"
   ]
  },
  {
   "cell_type": "markdown",
   "id": "pleasant-building",
   "metadata": {},
   "source": [
    "## Train <ins>linear regression</ins> model (normal equation least squares)"
   ]
  },
  {
   "cell_type": "code",
   "execution_count": 7,
   "id": "induced-receipt",
   "metadata": {},
   "outputs": [
    {
     "name": "stdout",
     "output_type": "stream",
     "text": [
      "CPU times: user 0 ns, sys: 2.24 ms, total: 2.24 ms\n",
      "Wall time: 1.93 ms\n"
     ]
    },
    {
     "data": {
      "text/plain": [
       "array([[4.21509616],\n",
       "       [2.77011339]])"
      ]
     },
     "execution_count": 7,
     "metadata": {},
     "output_type": "execute_result"
    }
   ],
   "source": [
    "%%time\n",
    "theta, residuals, rank, s = np.linalg.lstsq(X_bias, y, rcond=1e-6)\n",
    "theta"
   ]
  },
  {
   "cell_type": "markdown",
   "id": "capital-physics",
   "metadata": {},
   "source": [
    "## Train <ins>linear regression</ins> model (normal equation pseudoinverse)"
   ]
  },
  {
   "cell_type": "code",
   "execution_count": 8,
   "id": "removable-attack",
   "metadata": {},
   "outputs": [
    {
     "name": "stdout",
     "output_type": "stream",
     "text": [
      "CPU times: user 276 µs, sys: 452 µs, total: 728 µs\n",
      "Wall time: 310 µs\n"
     ]
    },
    {
     "data": {
      "text/plain": [
       "array([[4.21509616],\n",
       "       [2.77011339]])"
      ]
     },
     "execution_count": 8,
     "metadata": {},
     "output_type": "execute_result"
    }
   ],
   "source": [
    "%%time\n",
    "theta = np.linalg.pinv(X_bias).dot(y)\n",
    "theta"
   ]
  },
  {
   "cell_type": "markdown",
   "id": "sealed-mainland",
   "metadata": {},
   "source": [
    "## Evaluate <ins>linear regression</ins> model (normal equation)"
   ]
  },
  {
   "cell_type": "code",
   "execution_count": 9,
   "id": "cardiovascular-disclosure",
   "metadata": {},
   "outputs": [],
   "source": [
    "X_test = np.array([[0], [2]])"
   ]
  },
  {
   "cell_type": "code",
   "execution_count": 10,
   "id": "divided-vegetarian",
   "metadata": {},
   "outputs": [
    {
     "data": {
      "text/plain": [
       "array([[1., 0.],\n",
       "       [1., 2.]])"
      ]
     },
     "execution_count": 10,
     "metadata": {},
     "output_type": "execute_result"
    }
   ],
   "source": [
    "# Add X_0 = 1 to each instance (bias)\n",
    "X_test_bias = np.c_[np.ones((2, 1)), X_test]\n",
    "X_test_bias[:5]"
   ]
  },
  {
   "cell_type": "code",
   "execution_count": 11,
   "id": "advisory-houston",
   "metadata": {},
   "outputs": [
    {
     "data": {
      "text/plain": [
       "array([[4.21509616],\n",
       "       [9.75532293]])"
      ]
     },
     "execution_count": 11,
     "metadata": {},
     "output_type": "execute_result"
    }
   ],
   "source": [
    "y_test_prediction = X_test_bias.dot(theta)\n",
    "y_test_prediction"
   ]
  },
  {
   "cell_type": "markdown",
   "id": "detailed-passenger",
   "metadata": {},
   "source": [
    "## Visualize <ins>linear regression</ins> model (normal equation)"
   ]
  },
  {
   "cell_type": "code",
   "execution_count": 12,
   "id": "attached-probability",
   "metadata": {},
   "outputs": [
    {
     "data": {
      "text/plain": [
       "(0.0, 2.0, 0.0, 15.0)"
      ]
     },
     "execution_count": 12,
     "metadata": {},
     "output_type": "execute_result"
    },
    {
     "data": {
      "image/png": "[encoded data removed]",
      "text/plain": [
       "<Figure size 432x288 with 1 Axes>"
      ]
     },
     "metadata": {
      "needs_background": "light"
     },
     "output_type": "display_data"
    }
   ],
   "source": [
    "plt.plot(X_test, y_test_prediction, \"r-\")\n",
    "plt.plot(X, y, \"b.\")\n",
    "plt.axis([0, 2, 0, 15])"
   ]
  },
  {
   "cell_type": "markdown",
   "id": "central-layer",
   "metadata": {},
   "source": [
    "## Train <ins>linear regression</ins> model (scikit-learn)"
   ]
  },
  {
   "cell_type": "code",
   "execution_count": 13,
   "id": "indonesian-diving",
   "metadata": {},
   "outputs": [],
   "source": [
    "lr_model = LinearRegression()"
   ]
  },
  {
   "cell_type": "code",
   "execution_count": 14,
   "id": "loved-franklin",
   "metadata": {},
   "outputs": [
    {
     "name": "stdout",
     "output_type": "stream",
     "text": [
      "CPU times: user 420 µs, sys: 642 µs, total: 1.06 ms\n",
      "Wall time: 2.89 ms\n"
     ]
    },
    {
     "data": {
      "text/plain": [
       "LinearRegression()"
      ]
     },
     "execution_count": 14,
     "metadata": {},
     "output_type": "execute_result"
    }
   ],
   "source": [
    "%%time\n",
    "lr_model.fit(X, y)"
   ]
  },
  {
   "cell_type": "code",
   "execution_count": 15,
   "id": "standard-genesis",
   "metadata": {},
   "outputs": [
    {
     "data": {
      "text/plain": [
       "(array([4.21509616]), array([[2.77011339]]))"
      ]
     },
     "execution_count": 15,
     "metadata": {},
     "output_type": "execute_result"
    }
   ],
   "source": [
    "lr_model.intercept_, lr_model.coef_"
   ]
  },
  {
   "cell_type": "markdown",
   "id": "positive-defense",
   "metadata": {},
   "source": [
    "## Evaluate <ins>linear regression</ins> model (scikit-learn)"
   ]
  },
  {
   "cell_type": "code",
   "execution_count": 16,
   "id": "functional-courtesy",
   "metadata": {
    "scrolled": true
   },
   "outputs": [
    {
     "data": {
      "text/plain": [
       "array([[4.21509616],\n",
       "       [9.75532293]])"
      ]
     },
     "execution_count": 16,
     "metadata": {},
     "output_type": "execute_result"
    }
   ],
   "source": [
    "lr_model.predict(X_test)"
   ]
  },
  {
   "cell_type": "markdown",
   "id": "expensive-version",
   "metadata": {},
   "source": [
    "## Train <ins>linear regression</ins> model (batch gradient decent)"
   ]
  },
  {
   "cell_type": "code",
   "execution_count": 17,
   "id": "romance-salmon",
   "metadata": {},
   "outputs": [],
   "source": [
    "M = 100\n",
    "ETA = 0.1\n",
    "ITERATIONS = 1000"
   ]
  },
  {
   "cell_type": "code",
   "execution_count": 18,
   "id": "romance-athens",
   "metadata": {},
   "outputs": [
    {
     "data": {
      "text/plain": [
       "array([[0.01300189],\n",
       "       [1.45353408]])"
      ]
     },
     "execution_count": 18,
     "metadata": {},
     "output_type": "execute_result"
    }
   ],
   "source": [
    "theta = np.random.randn(2, 1)\n",
    "theta"
   ]
  },
  {
   "cell_type": "code",
   "execution_count": 19,
   "id": "adapted-analysis",
   "metadata": {},
   "outputs": [],
   "source": [
    "for iteration in range(ITERATIONS):\n",
    "    gradients = 2/M * X_bias.T.dot(X_bias.dot(theta) - y)\n",
    "    \n",
    "    theta = theta - ETA * gradients"
   ]
  },
  {
   "cell_type": "code",
   "execution_count": 20,
   "id": "express-geneva",
   "metadata": {},
   "outputs": [
    {
     "data": {
      "text/plain": [
       "array([[4.21509616],\n",
       "       [2.77011339]])"
      ]
     },
     "execution_count": 20,
     "metadata": {},
     "output_type": "execute_result"
    }
   ],
   "source": [
    "theta"
   ]
  },
  {
   "cell_type": "markdown",
   "id": "difficult-surname",
   "metadata": {},
   "source": [
    "## Train <ins>linear regression</ins> model (stochastic gradient decent)"
   ]
  },
  {
   "cell_type": "code",
   "execution_count": 21,
   "id": "national-customs",
   "metadata": {},
   "outputs": [],
   "source": [
    "M = 100\n",
    "ETA = 0.1\n",
    "EPOCHS = 50\n",
    "T0, T1 = 5, 50"
   ]
  },
  {
   "cell_type": "code",
   "execution_count": 22,
   "id": "departmental-adams",
   "metadata": {},
   "outputs": [],
   "source": [
    "def learning_schedule(t):\n",
    "    return T0 / (t + T1)"
   ]
  },
  {
   "cell_type": "code",
   "execution_count": 23,
   "id": "significant-evening",
   "metadata": {},
   "outputs": [
    {
     "data": {
      "text/plain": [
       "array([[-0.26465683],\n",
       "       [ 2.72016917]])"
      ]
     },
     "execution_count": 23,
     "metadata": {},
     "output_type": "execute_result"
    }
   ],
   "source": [
    "theta = np.random.randn(2, 1)\n",
    "theta"
   ]
  },
  {
   "cell_type": "code",
   "execution_count": 24,
   "id": "stylish-album",
   "metadata": {},
   "outputs": [],
   "source": [
    "for epoch in range(EPOCHS):\n",
    "    for i in range(M):\n",
    "        index = np.random.randint(M)\n",
    "        \n",
    "        Xi = X_bias[index:index + 1]\n",
    "        yi = y[index:index + 1]\n",
    "        \n",
    "        gradients = 2 * Xi.T.dot(Xi.dot(theta) - yi)\n",
    "        \n",
    "        eta = learning_schedule(epoch * M + i)\n",
    "        \n",
    "        theta = theta - eta * gradients"
   ]
  },
  {
   "cell_type": "code",
   "execution_count": 25,
   "id": "bulgarian-modification",
   "metadata": {
    "scrolled": true
   },
   "outputs": [
    {
     "data": {
      "text/plain": [
       "array([[4.18475289],\n",
       "       [2.73036719]])"
      ]
     },
     "execution_count": 25,
     "metadata": {},
     "output_type": "execute_result"
    }
   ],
   "source": [
    "theta"
   ]
  },
  {
   "cell_type": "markdown",
   "id": "surgical-portal",
   "metadata": {},
   "source": [
    "## Train <ins>SGD regression</ins> model"
   ]
  },
  {
   "cell_type": "code",
   "execution_count": 26,
   "id": "checked-horror",
   "metadata": {},
   "outputs": [],
   "source": [
    "sgd_model = SGDRegressor(max_iter=1000, tol=1e-3, penalty=None, eta0=0.1)"
   ]
  },
  {
   "cell_type": "code",
   "execution_count": 27,
   "id": "committed-credit",
   "metadata": {},
   "outputs": [
    {
     "name": "stdout",
     "output_type": "stream",
     "text": [
      "CPU times: user 245 µs, sys: 359 µs, total: 604 µs\n",
      "Wall time: 563 µs\n"
     ]
    },
    {
     "data": {
      "text/plain": [
       "SGDRegressor(eta0=0.1, penalty=None)"
      ]
     },
     "execution_count": 27,
     "metadata": {},
     "output_type": "execute_result"
    }
   ],
   "source": [
    "%%time\n",
    "sgd_model.fit(X, y.ravel())"
   ]
  },
  {
   "cell_type": "code",
   "execution_count": 28,
   "id": "liable-identifier",
   "metadata": {
    "scrolled": true
   },
   "outputs": [
    {
     "data": {
      "text/plain": [
       "(array([4.22609703]), array([[2.77011339]]))"
      ]
     },
     "execution_count": 28,
     "metadata": {},
     "output_type": "execute_result"
    }
   ],
   "source": [
    "sgd_model.intercept_, lr_model.coef_"
   ]
  },
  {
   "cell_type": "markdown",
   "id": "greatest-local",
   "metadata": {},
   "source": [
    "## Generate <ins>nonlinear</ins> data"
   ]
  },
  {
   "cell_type": "code",
   "execution_count": 29,
   "id": "hired-cathedral",
   "metadata": {},
   "outputs": [
    {
     "data": {
      "text/plain": [
       "(array([[ 2.94407494],\n",
       "        [ 1.540381  ],\n",
       "        [-0.34623717],\n",
       "        [ 1.244382  ],\n",
       "        [-0.66461717]]),\n",
       " array([[8.66516893],\n",
       "        [5.77866288],\n",
       "        [0.69876811],\n",
       "        [3.2574389 ],\n",
       "        [1.17471668]]))"
      ]
     },
     "execution_count": 29,
     "metadata": {},
     "output_type": "execute_result"
    }
   ],
   "source": [
    "X = 6 * np.random.rand(100, 1) - 3\n",
    "y = 0.5 * X**2  + X + 2 + np.random.randn(100, 1)\n",
    "\n",
    "X[:5], y[:5]"
   ]
  },
  {
   "cell_type": "markdown",
   "id": "present-absence",
   "metadata": {},
   "source": [
    "## Transform <ins>nonlinear</ins> data"
   ]
  },
  {
   "cell_type": "code",
   "execution_count": 30,
   "id": "spectacular-minneapolis",
   "metadata": {},
   "outputs": [],
   "source": [
    "polynomial_features = PolynomialFeatures(degree=2, include_bias=False)"
   ]
  },
  {
   "cell_type": "code",
   "execution_count": 31,
   "id": "enclosed-sample",
   "metadata": {},
   "outputs": [
    {
     "data": {
      "text/plain": [
       "array([[ 2.94407494,  8.66757727],\n",
       "       [ 1.540381  ,  2.37277363],\n",
       "       [-0.34623717,  0.11988018],\n",
       "       [ 1.244382  ,  1.54848656],\n",
       "       [-0.66461717,  0.44171598]])"
      ]
     },
     "execution_count": 31,
     "metadata": {},
     "output_type": "execute_result"
    }
   ],
   "source": [
    "X_polynomial = polynomial_features.fit_transform(X)\n",
    "\n",
    "X_polynomial[:5]"
   ]
  },
  {
   "cell_type": "markdown",
   "id": "fifteen-blackjack",
   "metadata": {},
   "source": [
    "## Train <ins>polynomial linear regression</ins> model"
   ]
  },
  {
   "cell_type": "code",
   "execution_count": 32,
   "id": "cooperative-value",
   "metadata": {},
   "outputs": [],
   "source": [
    "lr_model = LinearRegression()"
   ]
  },
  {
   "cell_type": "code",
   "execution_count": 33,
   "id": "placed-forest",
   "metadata": {},
   "outputs": [
    {
     "name": "stdout",
     "output_type": "stream",
     "text": [
      "CPU times: user 302 µs, sys: 439 µs, total: 741 µs\n",
      "Wall time: 908 µs\n"
     ]
    },
    {
     "data": {
      "text/plain": [
       "LinearRegression()"
      ]
     },
     "execution_count": 33,
     "metadata": {},
     "output_type": "execute_result"
    }
   ],
   "source": [
    "%%time\n",
    "lr_model.fit(X_polynomial, y)"
   ]
  },
  {
   "cell_type": "code",
   "execution_count": 34,
   "id": "urban-assumption",
   "metadata": {},
   "outputs": [
    {
     "data": {
      "text/plain": [
       "(array([1.89554823]), array([[0.95707476, 0.49025797]]))"
      ]
     },
     "execution_count": 34,
     "metadata": {},
     "output_type": "execute_result"
    }
   ],
   "source": [
    "lr_model.intercept_, lr_model.coef_"
   ]
  },
  {
   "cell_type": "markdown",
   "id": "seasonal-release",
   "metadata": {},
   "source": [
    "## Visualize <ins>linear regression</ins> model"
   ]
  },
  {
   "cell_type": "code",
   "execution_count": 35,
   "id": "starting-carol",
   "metadata": {},
   "outputs": [],
   "source": [
    "def plot_learning_curves(model, X, y):\n",
    "    X_train, X_validation, y_train, y_validation = train_test_split(X, y, test_size=0.2)\n",
    "    \n",
    "    train_errors, validation_errors = [], []\n",
    "    \n",
    "    for m in range(1, len(X_train)):\n",
    "        model.fit(X_train[:m], y_train[:m])\n",
    "        \n",
    "        y_train_predictions = model.predict(X_train[:m])\n",
    "        y_validation_predictions = model.predict(X_validation)\n",
    "        \n",
    "        train_errors.append(mean_squared_error(y_train[:m], y_train_predictions))\n",
    "        validation_errors.append(mean_squared_error(y_validation, y_validation_predictions))\n",
    "        \n",
    "        plt.plot(np.sqrt(train_errors), \"r-+\", linewidth=2, label=\"train\")\n",
    "        plt.plot(np.sqrt(validation_errors), \"b-\", linewidth=3, label=\"validation\")"
   ]
  },
  {
   "cell_type": "code",
   "execution_count": 36,
   "id": "invalid-positive",
   "metadata": {},
   "outputs": [],
   "source": [
    "lr_model = LinearRegression()"
   ]
  },
  {
   "cell_type": "code",
   "execution_count": 37,
   "id": "polyphonic-wellington",
   "metadata": {},
   "outputs": [
    {
     "name": "stdout",
     "output_type": "stream",
     "text": [
      "CPU times: user 142 ms, sys: 0 ns, total: 142 ms\n",
      "Wall time: 140 ms\n"
     ]
    },
    {
     "data": {
      "image/png": "[encoded data removed]",
      "text/plain": [
       "<Figure size 432x288 with 1 Axes>"
      ]
     },
     "metadata": {
      "needs_background": "light"
     },
     "output_type": "display_data"
    }
   ],
   "source": [
    "%%time\n",
    "plot_learning_curves(lr_model, X, y)"
   ]
  },
  {
   "cell_type": "markdown",
   "id": "advance-discovery",
   "metadata": {},
   "source": [
    "## Visualize <ins>polynomial linear regression</ins> model"
   ]
  },
  {
   "cell_type": "code",
   "execution_count": 38,
   "id": "architectural-giving",
   "metadata": {},
   "outputs": [],
   "source": [
    "plr_model = Pipeline([\n",
    "    (\"polynomial_features\", PolynomialFeatures(degree=10, include_bias=False)),\n",
    "    (\"linear_regression\", LinearRegression()),\n",
    "])"
   ]
  },
  {
   "cell_type": "code",
   "execution_count": 39,
   "id": "upset-helping",
   "metadata": {
    "scrolled": false
   },
   "outputs": [
    {
     "name": "stdout",
     "output_type": "stream",
     "text": [
      "CPU times: user 162 ms, sys: 3.42 ms, total: 165 ms\n",
      "Wall time: 163 ms\n"
     ]
    },
    {
     "data": {
      "image/png": "[encoded data removed]",
      "text/plain": [
       "<Figure size 432x288 with 1 Axes>"
      ]
     },
     "metadata": {
      "needs_background": "light"
     },
     "output_type": "display_data"
    }
   ],
   "source": [
    "%%time\n",
    "plot_learning_curves(plr_model, X, y)"
   ]
  },
  {
   "cell_type": "markdown",
   "id": "secret-ending",
   "metadata": {},
   "source": [
    "## Generate <ins>linear</ins> data"
   ]
  },
  {
   "cell_type": "code",
   "execution_count": 40,
   "id": "visible-residence",
   "metadata": {},
   "outputs": [
    {
     "data": {
      "text/plain": [
       "(array([[1.73057214],\n",
       "        [1.39194509],\n",
       "        [0.35612729],\n",
       "        [2.94170468],\n",
       "        [0.64408766]]),\n",
       " array([[0.59341437],\n",
       "        [1.12238254],\n",
       "        [0.90232662],\n",
       "        [3.72931078],\n",
       "        [1.69307925]]))"
      ]
     },
     "execution_count": 40,
     "metadata": {},
     "output_type": "execute_result"
    }
   ],
   "source": [
    "X = 3 * np.random.rand(20, 1)\n",
    "y = 1 + 0.5 * X + np.random.randn(20, 1) / 1.5\n",
    "\n",
    "X[:5], y[:5]"
   ]
  },
  {
   "cell_type": "markdown",
   "id": "general-controversy",
   "metadata": {},
   "source": [
    "## Train <ins>ridge linear regression</ins> model"
   ]
  },
  {
   "cell_type": "code",
   "execution_count": 41,
   "id": "massive-dancing",
   "metadata": {},
   "outputs": [],
   "source": [
    "rig_model = Ridge(alpha=1, solver=\"cholesky\")"
   ]
  },
  {
   "cell_type": "code",
   "execution_count": 42,
   "id": "accepting-cheese",
   "metadata": {},
   "outputs": [
    {
     "name": "stdout",
     "output_type": "stream",
     "text": [
      "CPU times: user 1.46 ms, sys: 0 ns, total: 1.46 ms\n",
      "Wall time: 1.23 ms\n"
     ]
    },
    {
     "data": {
      "text/plain": [
       "Ridge(alpha=1, solver='cholesky')"
      ]
     },
     "execution_count": 42,
     "metadata": {},
     "output_type": "execute_result"
    }
   ],
   "source": [
    "%%time\n",
    "rig_model.fit(X, y)"
   ]
  },
  {
   "cell_type": "markdown",
   "id": "grand-mobile",
   "metadata": {},
   "source": [
    "## Evaluate <ins>ridge linear regression</ins> model"
   ]
  },
  {
   "cell_type": "code",
   "execution_count": 43,
   "id": "polar-person",
   "metadata": {},
   "outputs": [
    {
     "data": {
      "text/plain": [
       "array([[1.49214422]])"
      ]
     },
     "execution_count": 43,
     "metadata": {},
     "output_type": "execute_result"
    }
   ],
   "source": [
    "rig_model.predict([[1.5]])"
   ]
  },
  {
   "cell_type": "markdown",
   "id": "secret-morocco",
   "metadata": {},
   "source": [
    "## Train <ins>ridge SGD regression</ins> model"
   ]
  },
  {
   "cell_type": "code",
   "execution_count": 44,
   "id": "apart-leisure",
   "metadata": {},
   "outputs": [],
   "source": [
    "rsgd_model = SGDRegressor(penalty=\"l2\")"
   ]
  },
  {
   "cell_type": "code",
   "execution_count": 45,
   "id": "amber-aspect",
   "metadata": {},
   "outputs": [
    {
     "name": "stdout",
     "output_type": "stream",
     "text": [
      "CPU times: user 278 µs, sys: 287 µs, total: 565 µs\n",
      "Wall time: 405 µs\n"
     ]
    },
    {
     "data": {
      "text/plain": [
       "SGDRegressor()"
      ]
     },
     "execution_count": 45,
     "metadata": {},
     "output_type": "execute_result"
    }
   ],
   "source": [
    "%%time\n",
    "rsgd_model.fit(X, y.ravel())"
   ]
  },
  {
   "cell_type": "markdown",
   "id": "reasonable-allocation",
   "metadata": {},
   "source": [
    "## Evaluate <ins>ridge SGD regression</ins> model"
   ]
  },
  {
   "cell_type": "code",
   "execution_count": 46,
   "id": "different-recipe",
   "metadata": {},
   "outputs": [
    {
     "data": {
      "text/plain": [
       "array([1.38431702])"
      ]
     },
     "execution_count": 46,
     "metadata": {},
     "output_type": "execute_result"
    }
   ],
   "source": [
    "rsgd_model.predict([[1.5]])"
   ]
  },
  {
   "cell_type": "markdown",
   "id": "behind-express",
   "metadata": {},
   "source": [
    "## Train <ins>lasso linear regression</ins> model"
   ]
  },
  {
   "cell_type": "code",
   "execution_count": 47,
   "id": "threatened-psychology",
   "metadata": {},
   "outputs": [],
   "source": [
    "las_model = Lasso(alpha=0.1)"
   ]
  },
  {
   "cell_type": "code",
   "execution_count": 48,
   "id": "registered-theorem",
   "metadata": {},
   "outputs": [
    {
     "name": "stdout",
     "output_type": "stream",
     "text": [
      "CPU times: user 227 µs, sys: 235 µs, total: 462 µs\n",
      "Wall time: 730 µs\n"
     ]
    },
    {
     "data": {
      "text/plain": [
       "Lasso(alpha=0.1)"
      ]
     },
     "execution_count": 48,
     "metadata": {},
     "output_type": "execute_result"
    }
   ],
   "source": [
    "%%time\n",
    "las_model.fit(X, y)"
   ]
  },
  {
   "cell_type": "markdown",
   "id": "bright-blame",
   "metadata": {},
   "source": [
    "## Evaluate <ins>lasso linear regression</ins> model"
   ]
  },
  {
   "cell_type": "code",
   "execution_count": 49,
   "id": "photographic-helicopter",
   "metadata": {},
   "outputs": [
    {
     "data": {
      "text/plain": [
       "array([1.4932814])"
      ]
     },
     "execution_count": 49,
     "metadata": {},
     "output_type": "execute_result"
    }
   ],
   "source": [
    "las_model.predict([[1.5]])"
   ]
  },
  {
   "cell_type": "markdown",
   "id": "sudden-phenomenon",
   "metadata": {},
   "source": [
    "## Train <ins>elasticnet linear regression</ins> model"
   ]
  },
  {
   "cell_type": "code",
   "execution_count": 50,
   "id": "printable-account",
   "metadata": {},
   "outputs": [],
   "source": [
    "en_model = ElasticNet(alpha=0.1, l1_ratio=0.5)"
   ]
  },
  {
   "cell_type": "code",
   "execution_count": 51,
   "id": "hearing-defendant",
   "metadata": {},
   "outputs": [
    {
     "name": "stdout",
     "output_type": "stream",
     "text": [
      "CPU times: user 410 µs, sys: 422 µs, total: 832 µs\n",
      "Wall time: 601 µs\n"
     ]
    },
    {
     "data": {
      "text/plain": [
       "ElasticNet(alpha=0.1)"
      ]
     },
     "execution_count": 51,
     "metadata": {},
     "output_type": "execute_result"
    }
   ],
   "source": [
    "%%time\n",
    "en_model.fit(X, y)"
   ]
  },
  {
   "cell_type": "markdown",
   "id": "theoretical-location",
   "metadata": {},
   "source": [
    "## Evaluate <ins>elasticnet linear regression</ins> model"
   ]
  },
  {
   "cell_type": "code",
   "execution_count": 52,
   "id": "instrumental-warehouse",
   "metadata": {},
   "outputs": [
    {
     "data": {
      "text/plain": [
       "array([1.49282406])"
      ]
     },
     "execution_count": 52,
     "metadata": {},
     "output_type": "execute_result"
    }
   ],
   "source": [
    "en_model.predict([[1.5]])"
   ]
  },
  {
   "cell_type": "markdown",
   "id": "egyptian-rings",
   "metadata": {},
   "source": [
    "## Generate <ins>nonlinear</ins> data"
   ]
  },
  {
   "cell_type": "code",
   "execution_count": 53,
   "id": "cloudy-superintendent",
   "metadata": {},
   "outputs": [
    {
     "data": {
      "text/plain": [
       "(array([[ 1.94174166],\n",
       "        [-0.69233354],\n",
       "        [-0.24525586],\n",
       "        [-1.18028465],\n",
       "        [ 2.59532927]]),\n",
       " array([[ 4.53378047],\n",
       "        [ 2.11971964],\n",
       "        [ 2.23542277],\n",
       "        [-0.35356506],\n",
       "        [ 6.80141244]]))"
      ]
     },
     "execution_count": 53,
     "metadata": {},
     "output_type": "execute_result"
    }
   ],
   "source": [
    "X = 6 * np.random.rand(100, 1) - 3\n",
    "y = 2 + X + 0.5 * X**2 + np.random.randn(100, 1)\n",
    "\n",
    "X[:5], y[:5]"
   ]
  },
  {
   "cell_type": "code",
   "execution_count": 54,
   "id": "joint-multimedia",
   "metadata": {},
   "outputs": [],
   "source": [
    "X_train, X_validation, y_train, y_validation = train_test_split(\n",
    "    X[:50],\n",
    "    y[:50].ravel(),\n",
    "    test_size=0.5,\n",
    "    random_state=RANDOM_SEED,\n",
    ")"
   ]
  },
  {
   "cell_type": "markdown",
   "id": "rotary-framework",
   "metadata": {},
   "source": [
    "## Transform <ins>nonlinear</ins> data"
   ]
  },
  {
   "cell_type": "code",
   "execution_count": 55,
   "id": "cutting-journalism",
   "metadata": {},
   "outputs": [],
   "source": [
    "polynomial_scaler = Pipeline([\n",
    "    (\"polynomial_features\", PolynomialFeatures(degree=90, include_bias=False)),\n",
    "    (\"standard_scaler\", StandardScaler()),\n",
    "])"
   ]
  },
  {
   "cell_type": "code",
   "execution_count": 56,
   "id": "varied-surface",
   "metadata": {},
   "outputs": [],
   "source": [
    "X_train_polynomial_scaled = polynomial_scaler.fit_transform(X_train)"
   ]
  },
  {
   "cell_type": "code",
   "execution_count": 57,
   "id": "neither-freeze",
   "metadata": {},
   "outputs": [],
   "source": [
    "X_validation_polynomial_scaled = polynomial_scaler.transform(X_validation)"
   ]
  },
  {
   "cell_type": "markdown",
   "id": "postal-cable",
   "metadata": {},
   "source": [
    "## Train <ins>early stopping sgd regression</ins> model"
   ]
  },
  {
   "cell_type": "code",
   "execution_count": 58,
   "id": "preceding-links",
   "metadata": {},
   "outputs": [],
   "source": [
    "sgd_model = SGDRegressor(\n",
    "    max_iter=1,\n",
    "    tol=-np.infty,\n",
    "    warm_start=True,\n",
    "    penalty=None,\n",
    "    learning_rate=\"constant\",\n",
    "    eta0=0.0005,\n",
    ")"
   ]
  },
  {
   "cell_type": "code",
   "execution_count": 59,
   "id": "brief-burst",
   "metadata": {},
   "outputs": [
    {
     "name": "stdout",
     "output_type": "stream",
     "text": [
      "CPU times: user 368 ms, sys: 0 ns, total: 368 ms\n",
      "Wall time: 367 ms\n"
     ]
    }
   ],
   "source": [
    "%%time\n",
    "min_validation_error = float(\"inf\")\n",
    "best_epoch = None\n",
    "best_model = None\n",
    "\n",
    "for epoch in range(1000):\n",
    "    sgd_model.fit(X_train_polynomial_scaled, y_train)\n",
    "    \n",
    "    y_validation_predictions = sgd_model.predict(X_validation_polynomial_scaled)\n",
    "    validation_error = mean_squared_error(y_validation, y_validation_predictions)\n",
    "    \n",
    "    if validation_error < min_validation_error:\n",
    "        min_validation_error = validation_error\n",
    "        best_epoch = epoch\n",
    "        best_model = clone(sgd_model)"
   ]
  },
  {
   "cell_type": "markdown",
   "id": "indirect-guide",
   "metadata": {},
   "source": [
    "## Load <ins>iris</ins> data"
   ]
  },
  {
   "cell_type": "code",
   "execution_count": 60,
   "id": "hawaiian-absence",
   "metadata": {},
   "outputs": [],
   "source": [
    "iris = datasets.load_iris()"
   ]
  },
  {
   "cell_type": "markdown",
   "id": "expected-stroke",
   "metadata": {},
   "source": [
    "## Split <ins>iris</ins> data"
   ]
  },
  {
   "cell_type": "code",
   "execution_count": 61,
   "id": "accompanied-chosen",
   "metadata": {},
   "outputs": [],
   "source": [
    "X, y = iris[\"data\"][:, 3:], (iris[\"target\"] == 2).astype(int)"
   ]
  },
  {
   "cell_type": "code",
   "execution_count": 62,
   "id": "solved-optimization",
   "metadata": {},
   "outputs": [
    {
     "data": {
      "text/plain": [
       "((150, 1), (150,))"
      ]
     },
     "execution_count": 62,
     "metadata": {},
     "output_type": "execute_result"
    }
   ],
   "source": [
    "X.shape, y.shape"
   ]
  },
  {
   "cell_type": "markdown",
   "id": "manual-pension",
   "metadata": {},
   "source": [
    "## Train <ins>logistic regression</ins> model"
   ]
  },
  {
   "cell_type": "code",
   "execution_count": 63,
   "id": "animal-jumping",
   "metadata": {},
   "outputs": [],
   "source": [
    "log_model = LogisticRegression()"
   ]
  },
  {
   "cell_type": "code",
   "execution_count": 64,
   "id": "several-tyler",
   "metadata": {},
   "outputs": [
    {
     "name": "stdout",
     "output_type": "stream",
     "text": [
      "CPU times: user 2.01 ms, sys: 1.79 ms, total: 3.8 ms\n",
      "Wall time: 3.05 ms\n"
     ]
    },
    {
     "data": {
      "text/plain": [
       "LogisticRegression()"
      ]
     },
     "execution_count": 64,
     "metadata": {},
     "output_type": "execute_result"
    }
   ],
   "source": [
    "%%time\n",
    "log_model.fit(X, y)"
   ]
  },
  {
   "cell_type": "markdown",
   "id": "terminal-missile",
   "metadata": {},
   "source": [
    "## Visualize <ins>logistic regression</ins> model"
   ]
  },
  {
   "cell_type": "code",
   "execution_count": 65,
   "id": "professional-pipeline",
   "metadata": {},
   "outputs": [],
   "source": [
    "X_test = np.linspace(0, 3, 1000).reshape(-1, 1)"
   ]
  },
  {
   "cell_type": "code",
   "execution_count": 66,
   "id": "unlimited-courage",
   "metadata": {},
   "outputs": [],
   "source": [
    "y_test_probability = log_model.predict_proba(X_test)"
   ]
  },
  {
   "cell_type": "code",
   "execution_count": 67,
   "id": "smooth-montgomery",
   "metadata": {},
   "outputs": [
    {
     "data": {
      "text/plain": [
       "[<matplotlib.lines.Line2D at 0x7fc64b8186a0>]"
      ]
     },
     "execution_count": 67,
     "metadata": {},
     "output_type": "execute_result"
    },
    {
     "data": {
      "image/png": "[encoded data removed]",
      "text/plain": [
       "<Figure size 432x288 with 1 Axes>"
      ]
     },
     "metadata": {
      "needs_background": "light"
     },
     "output_type": "display_data"
    }
   ],
   "source": [
    "plt.plot(X_test, y_test_probability[:, 1], \"g-\", label=\"Iris-Virginica\")\n",
    "plt.plot(X_test, y_test_probability[:, 0], \"b--\", label=\"Not Iris-Virginica\")"
   ]
  },
  {
   "cell_type": "markdown",
   "id": "modular-teens",
   "metadata": {},
   "source": [
    "## Evaluate <ins>logistic regression</ins> model"
   ]
  },
  {
   "cell_type": "code",
   "execution_count": 68,
   "id": "declared-recovery",
   "metadata": {},
   "outputs": [
    {
     "data": {
      "text/plain": [
       "array([1, 0])"
      ]
     },
     "execution_count": 68,
     "metadata": {},
     "output_type": "execute_result"
    }
   ],
   "source": [
    "log_model.predict([[1.7], [1.5]])"
   ]
  },
  {
   "cell_type": "markdown",
   "id": "stupid-monaco",
   "metadata": {},
   "source": [
    "## Train <ins>softmax logistic regression</ins> model"
   ]
  },
  {
   "cell_type": "code",
   "execution_count": 69,
   "id": "acting-virus",
   "metadata": {},
   "outputs": [],
   "source": [
    "X, y = iris[\"data\"][:, (2, 3)], iris[\"target\"]"
   ]
  },
  {
   "cell_type": "code",
   "execution_count": 70,
   "id": "corporate-participant",
   "metadata": {},
   "outputs": [],
   "source": [
    "smlog_model = LogisticRegression(multi_class=\"multinomial\", solver=\"lbfgs\", C=10)"
   ]
  },
  {
   "cell_type": "code",
   "execution_count": 71,
   "id": "pursuant-beads",
   "metadata": {},
   "outputs": [
    {
     "name": "stdout",
     "output_type": "stream",
     "text": [
      "CPU times: user 14.6 ms, sys: 0 ns, total: 14.6 ms\n",
      "Wall time: 12.8 ms\n"
     ]
    },
    {
     "data": {
      "text/plain": [
       "LogisticRegression(C=10, multi_class='multinomial')"
      ]
     },
     "execution_count": 71,
     "metadata": {},
     "output_type": "execute_result"
    }
   ],
   "source": [
    "%%time\n",
    "smlog_model.fit(X, y)"
   ]
  },
  {
   "cell_type": "markdown",
   "id": "smoking-retreat",
   "metadata": {},
   "source": [
    "## Evaluate <ins>softmax logistic regression</ins> model"
   ]
  },
  {
   "cell_type": "code",
   "execution_count": 72,
   "id": "timely-stockholm",
   "metadata": {},
   "outputs": [
    {
     "data": {
      "text/plain": [
       "array([2])"
      ]
     },
     "execution_count": 72,
     "metadata": {},
     "output_type": "execute_result"
    }
   ],
   "source": [
    "smlog_model.predict([[5, 2]])"
   ]
  },
  {
   "cell_type": "code",
   "execution_count": 73,
   "id": "accomplished-throat",
   "metadata": {},
   "outputs": [
    {
     "data": {
      "text/plain": [
       "array([[6.38014896e-07, 5.74929995e-02, 9.42506362e-01]])"
      ]
     },
     "execution_count": 73,
     "metadata": {},
     "output_type": "execute_result"
    }
   ],
   "source": [
    "smlog_model.predict_proba([[5, 2]])"
   ]
  },
  {
   "cell_type": "markdown",
   "id": "average-contractor",
   "metadata": {},
   "source": [
    "# Exercises"
   ]
  },
  {
   "cell_type": "markdown",
   "id": "plastic-modern",
   "metadata": {},
   "source": [
    "1. What Linear Regression training algorithm can you use if you have a training set with millions of features?"
   ]
  },
  {
   "cell_type": "markdown",
   "id": "adjusted-springer",
   "metadata": {},
   "source": [
    "**Solution**\n",
    "\n",
    "Any gradient decent algorithm performs good on datasets with a lot of features."
   ]
  },
  {
   "cell_type": "markdown",
   "id": "excited-calculation",
   "metadata": {},
   "source": [
    "2. Suppose the features in your training set have very different scales. What algorithms might suffer from this, and how? What can you do about it?"
   ]
  },
  {
   "cell_type": "markdown",
   "id": "sought-african",
   "metadata": {},
   "source": [
    "**Solution**\n",
    "\n",
    "Gradient decent suffers from unscaled training data, because the cost function takes the shape of an elongated bowl with unscaled training data. Therefore gradient decent will take a long time to converge to the minimum.\n",
    "\n",
    "A way to solve this issue is to apply a standard scaler to the dataset for example."
   ]
  },
  {
   "cell_type": "markdown",
   "id": "latter-shock",
   "metadata": {},
   "source": [
    "3. Can Gradient Descent get stuck in a local minimum when training a Logistic Regression model?"
   ]
  },
  {
   "cell_type": "markdown",
   "id": "several-worthy",
   "metadata": {},
   "source": [
    "**Solution**\n",
    "\n",
    "No, because the cost function of logistic regression is convex."
   ]
  },
  {
   "cell_type": "markdown",
   "id": "civilian-gauge",
   "metadata": {},
   "source": [
    "4. Do all Gradient Descent algorithms lead to the same model provided you let them run long enough?"
   ]
  },
  {
   "cell_type": "markdown",
   "id": "driven-flour",
   "metadata": {},
   "source": [
    "**Solution**\n",
    "\n",
    "No, they will all get very close to the minimum but they will not reach it exactly therfore the models will vary slightly. Assuming the cost function is convex and the learning rate is not too high."
   ]
  },
  {
   "cell_type": "markdown",
   "id": "modern-cooperative",
   "metadata": {},
   "source": [
    "5. Suppose you use Batch Gradient Descent and you plot the validation error at every epoch. If you notice that the validation error consistently goes up, what is likely going on? How can you fix this?"
   ]
  },
  {
   "cell_type": "markdown",
   "id": "original-message",
   "metadata": {},
   "source": [
    "**Solution**\n",
    "\n",
    "If the validation error consitently goes up during training the learning rate is too high."
   ]
  },
  {
   "cell_type": "markdown",
   "id": "capital-evolution",
   "metadata": {},
   "source": [
    "6. Is it a good idea to stop Mini-batch Gradient Descent immediately when the validation error goes up?"
   ]
  },
  {
   "cell_type": "markdown",
   "id": "appointed-sustainability",
   "metadata": {},
   "source": [
    "**Solution**\n",
    "\n",
    "Due to the random nature of mini-batch gradient decent it could be happen that no progress is made during some epochs. Thus it is a bad idea stop mini-batch gradient decent as soon as the validation error goes up, because it is possible that the validation error goes down again after a while."
   ]
  },
  {
   "cell_type": "markdown",
   "id": "seventh-restaurant",
   "metadata": {},
   "source": [
    "7. Which Gradient Descent algorithm (among those we discussed) will reach the vicinity of the optimal solution the fastest? Which will actually converge? How can you make the others converge as well?"
   ]
  },
  {
   "cell_type": "markdown",
   "id": "analyzed-attachment",
   "metadata": {},
   "source": [
    "**Solution**\n",
    "\n",
    "The algorithm that will reach the optimal solution the fastest is stochastic gradient decent (because it only considers one training instance at a time). The algorithm that will actually converge is batch gradient decent (because stochastic and mini-batch gradient decent will bounce around the minimum due to their random nature)."
   ]
  },
  {
   "cell_type": "markdown",
   "id": "spoken-feeding",
   "metadata": {},
   "source": [
    "8. Suppose you are using Polynomial Regression. You plot the learning curves and you notice that there is a large gap between the training error and the validation error. What is happening? What are three ways to solve this?"
   ]
  },
  {
   "cell_type": "markdown",
   "id": "stainless-fundamentals",
   "metadata": {},
   "source": [
    "**Solution**\n",
    "\n",
    "A gap between the training error and validation error means that the model is overfitting. This can be solved by choosing a less complex model, applying regularization or gathering more training data."
   ]
  },
  {
   "cell_type": "markdown",
   "id": "structured-procedure",
   "metadata": {},
   "source": [
    "9. Suppose you are using Ridge Regression and you notice that the training error and the validation error are almost equal and fairly high. Would you say that the model suffers from high bias or high variance? Should you increase the regularization hyperparameter $\\alpha$ or reduce it?"
   ]
  },
  {
   "cell_type": "markdown",
   "id": "mineral-chassis",
   "metadata": {},
   "source": [
    "**Solution**\n",
    "\n",
    "If the validation error and training error are both fairly high the model has a high bias. The model is too simple to fit to the training data therefore you should reduce the hyperparameter $\\alpha$."
   ]
  },
  {
   "cell_type": "markdown",
   "id": "cloudy-stream",
   "metadata": {},
   "source": [
    "10. Why would you want to use:\n",
    "* Ridge Regression instead of plain Linear Regression (i.e., without any regularization)?\n",
    "* Lasso instead of Ridge Regression?\n",
    "* Elastic Net instead of Lasso?"
   ]
  },
  {
   "cell_type": "markdown",
   "id": "weighted-stuart",
   "metadata": {},
   "source": [
    "**Solution**\n",
    "\n",
    "* A model with regularization typically performs better than a model without regularization, therfore you should prefer to use ridge regression over plain linear regression.\n",
    "* Lasso tends to push the weights down to 0 of features that are not important. So you should prefer to use lasso over ridge regression if you also want to do some feature selection.\n",
    "* Lasso can be have erratically in situations where the features are highly correlated, thefore you should prefer to use elastic net over lasso."
   ]
  },
  {
   "cell_type": "markdown",
   "id": "rocky-storm",
   "metadata": {},
   "source": [
    "11. Suppose you want to classify pictures as outdoor/indoor and daytime/nighttime. Should you implement two Logistic Regression classifiers or one Softmax Regression classifier?"
   ]
  },
  {
   "cell_type": "markdown",
   "id": "victorian-membership",
   "metadata": {},
   "source": [
    "**Solution**\n",
    "\n",
    "Since these classes are not exclusive (i.e. outdoor, indoor, daytime or nighttime) you should implement two logistic regression classifiers."
   ]
  }
 ],
 "metadata": {
  "kernelspec": {
   "display_name": "Python 3",
   "language": "python",
   "name": "python3"
  },
  "language_info": {
   "codemirror_mode": {
    "name": "ipython",
    "version": 3
   },
   "file_extension": ".py",
   "mimetype": "text/x-python",
   "name": "python",
   "nbconvert_exporter": "python",
   "pygments_lexer": "ipython3",
   "version": "3.8.5"
  }
 },
 "nbformat": 4,
 "nbformat_minor": 5
}
